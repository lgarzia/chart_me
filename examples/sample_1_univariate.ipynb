{
 "cells": [
  {
   "cell_type": "code",
   "execution_count": 2,
   "id": "700f3051",
   "metadata": {},
   "outputs": [],
   "source": [
    "import chart_me as ce\n",
    "import pandas as pd\n",
    "import datetime\n",
    "import random\n",
    "import string\n",
    "\n",
    "detail_data = {\n",
    "    \"string_low_card\": [random.choice(['stringA', 'stringB', 'stringC']) for _ in range(1000)],\n",
    "    \"floaties\": [random.random() for i in range(1000)]\n",
    "}\n",
    "df_d = pd.DataFrame(detail_data)\n",
    "pre_agg_data = {\n",
    "        \"integers\": [1, 2, 3] * 3,\n",
    "        \"floaties\": [random.random() for i in range(9)],\n",
    "        \"floaties2\": [random.random() for i in range(9)],\n",
    "        \"floaties_key\": list(range(9)),\n",
    "        \"stringy_key\": [\"\".join(random.sample(string.ascii_letters, 5)) for i in range(9)],\n",
    "        \"integer_bools\": [bool(random.getrandbits(1)) for i in range(9)],\n",
    "        \"stringer\": [\"rabbit\"] + [random.choice([\"rabbit\", \"leopard\"]) for _ in range(8)],\n",
    "        \"stringer2\": [\"rabbit\"] + [random.choice([\"rabbit\", \"leopard\"]) for _ in range(8)],\n",
    "        \"datie_dates\":[datetime.datetime(2020,1,1), datetime.datetime(2021,2,3), datetime.datetime(2021,4,3)]*3,\n",
    "        \"datie_dates2\":[datetime.datetime(2020,1,2), datetime.datetime(2021,2,2), datetime.datetime(2021,4,5)]*3\n",
    "    }\n",
    "df = pd.DataFrame(pre_agg_data)"
   ]
  },
  {
   "cell_type": "code",
   "execution_count": 3,
   "id": "31c0aef1",
   "metadata": {},
   "outputs": [
    {
     "data": {
      "text/html": [
       "\n",
       "<div id=\"altair-viz-b0ce3658519a4eb2a2758a22eca9b759\"></div>\n",
       "<script type=\"text/javascript\">\n",
       "  var VEGA_DEBUG = (typeof VEGA_DEBUG == \"undefined\") ? {} : VEGA_DEBUG;\n",
       "  (function(spec, embedOpt){\n",
       "    let outputDiv = document.currentScript.previousElementSibling;\n",
       "    if (outputDiv.id !== \"altair-viz-b0ce3658519a4eb2a2758a22eca9b759\") {\n",
       "      outputDiv = document.getElementById(\"altair-viz-b0ce3658519a4eb2a2758a22eca9b759\");\n",
       "    }\n",
       "    const paths = {\n",
       "      \"vega\": \"https://cdn.jsdelivr.net/npm//vega@5?noext\",\n",
       "      \"vega-lib\": \"https://cdn.jsdelivr.net/npm//vega-lib?noext\",\n",
       "      \"vega-lite\": \"https://cdn.jsdelivr.net/npm//vega-lite@4.17.0?noext\",\n",
       "      \"vega-embed\": \"https://cdn.jsdelivr.net/npm//vega-embed@6?noext\",\n",
       "    };\n",
       "\n",
       "    function maybeLoadScript(lib, version) {\n",
       "      var key = `${lib.replace(\"-\", \"\")}_version`;\n",
       "      return (VEGA_DEBUG[key] == version) ?\n",
       "        Promise.resolve(paths[lib]) :\n",
       "        new Promise(function(resolve, reject) {\n",
       "          var s = document.createElement('script');\n",
       "          document.getElementsByTagName(\"head\")[0].appendChild(s);\n",
       "          s.async = true;\n",
       "          s.onload = () => {\n",
       "            VEGA_DEBUG[key] = version;\n",
       "            return resolve(paths[lib]);\n",
       "          };\n",
       "          s.onerror = () => reject(`Error loading script: ${paths[lib]}`);\n",
       "          s.src = paths[lib];\n",
       "        });\n",
       "    }\n",
       "\n",
       "    function showError(err) {\n",
       "      outputDiv.innerHTML = `<div class=\"error\" style=\"color:red;\">${err}</div>`;\n",
       "      throw err;\n",
       "    }\n",
       "\n",
       "    function displayChart(vegaEmbed) {\n",
       "      vegaEmbed(outputDiv, spec, embedOpt)\n",
       "        .catch(err => showError(`Javascript Error: ${err.message}<br>This usually means there's a typo in your chart specification. See the javascript console for the full traceback.`));\n",
       "    }\n",
       "\n",
       "    if(typeof define === \"function\" && define.amd) {\n",
       "      requirejs.config({paths});\n",
       "      require([\"vega-embed\"], displayChart, err => showError(`Error loading script: ${err.message}`));\n",
       "    } else {\n",
       "      maybeLoadScript(\"vega\", \"5\")\n",
       "        .then(() => maybeLoadScript(\"vega-lite\", \"4.17.0\"))\n",
       "        .then(() => maybeLoadScript(\"vega-embed\", \"6\"))\n",
       "        .catch(showError)\n",
       "        .then(() => displayChart(vegaEmbed));\n",
       "    }\n",
       "  })({\"config\": {\"view\": {\"continuousWidth\": 400, \"continuousHeight\": 300}}, \"data\": {\"name\": \"data-0e34136a58822fa204c93583cdcdb3d2\"}, \"mark\": \"bar\", \"encoding\": {\"x\": {\"bin\": true, \"field\": \"__day_diff__\", \"type\": \"quantitative\"}, \"y\": {\"aggregate\": \"count\", \"type\": \"quantitative\"}}, \"$schema\": \"https://vega.github.io/schema/vega-lite/v4.17.0.json\", \"datasets\": {\"data-0e34136a58822fa204c93583cdcdb3d2\": [{\"integers\": 1, \"floaties\": 0.341135937708523, \"floaties2\": 0.14486494877297884, \"floaties_key\": 0, \"stringy_key\": \"oLRqK\", \"integer_bools\": true, \"stringer\": \"rabbit\", \"stringer2\": \"rabbit\", \"datie_dates\": \"2020-01-01T00:00:00\", \"datie_dates2\": \"2020-01-02T00:00:00\", \"datie_dates_m_y\": \"2020-01\", \"datie_dates2_m_y\": \"2020-01\", \"__day_diff__\": -1, \"_counts_\": 1}, {\"integers\": 2, \"floaties\": 0.7931276063658244, \"floaties2\": 0.16081592934737676, \"floaties_key\": 1, \"stringy_key\": \"IiulL\", \"integer_bools\": true, \"stringer\": \"leopard\", \"stringer2\": \"rabbit\", \"datie_dates\": \"2021-02-03T00:00:00\", \"datie_dates2\": \"2021-02-02T00:00:00\", \"datie_dates_m_y\": \"2021-02\", \"datie_dates2_m_y\": \"2021-02\", \"__day_diff__\": 1, \"_counts_\": 1}, {\"integers\": 3, \"floaties\": 0.5123656496288614, \"floaties2\": 0.7145769292434074, \"floaties_key\": 2, \"stringy_key\": \"YdjmX\", \"integer_bools\": true, \"stringer\": \"leopard\", \"stringer2\": \"rabbit\", \"datie_dates\": \"2021-04-03T00:00:00\", \"datie_dates2\": \"2021-04-05T00:00:00\", \"datie_dates_m_y\": \"2021-04\", \"datie_dates2_m_y\": \"2021-04\", \"__day_diff__\": -2, \"_counts_\": 1}, {\"integers\": 1, \"floaties\": 0.029140812749278044, \"floaties2\": 0.46522808193214205, \"floaties_key\": 3, \"stringy_key\": \"aqduV\", \"integer_bools\": true, \"stringer\": \"leopard\", \"stringer2\": \"rabbit\", \"datie_dates\": \"2020-01-01T00:00:00\", \"datie_dates2\": \"2020-01-02T00:00:00\", \"datie_dates_m_y\": \"2020-01\", \"datie_dates2_m_y\": \"2020-01\", \"__day_diff__\": -1, \"_counts_\": 1}, {\"integers\": 2, \"floaties\": 0.10796710642697183, \"floaties2\": 0.8571076179253355, \"floaties_key\": 4, \"stringy_key\": \"lkwUv\", \"integer_bools\": true, \"stringer\": \"rabbit\", \"stringer2\": \"rabbit\", \"datie_dates\": \"2021-02-03T00:00:00\", \"datie_dates2\": \"2021-02-02T00:00:00\", \"datie_dates_m_y\": \"2021-02\", \"datie_dates2_m_y\": \"2021-02\", \"__day_diff__\": 1, \"_counts_\": 1}, {\"integers\": 3, \"floaties\": 0.7047993737980821, \"floaties2\": 0.8082376436612937, \"floaties_key\": 5, \"stringy_key\": \"aEbDt\", \"integer_bools\": false, \"stringer\": \"leopard\", \"stringer2\": \"leopard\", \"datie_dates\": \"2021-04-03T00:00:00\", \"datie_dates2\": \"2021-04-05T00:00:00\", \"datie_dates_m_y\": \"2021-04\", \"datie_dates2_m_y\": \"2021-04\", \"__day_diff__\": -2, \"_counts_\": 1}, {\"integers\": 1, \"floaties\": 0.3248124843631489, \"floaties2\": 0.8199275200663959, \"floaties_key\": 6, \"stringy_key\": \"eOsqA\", \"integer_bools\": true, \"stringer\": \"leopard\", \"stringer2\": \"leopard\", \"datie_dates\": \"2020-01-01T00:00:00\", \"datie_dates2\": \"2020-01-02T00:00:00\", \"datie_dates_m_y\": \"2020-01\", \"datie_dates2_m_y\": \"2020-01\", \"__day_diff__\": -1, \"_counts_\": 1}, {\"integers\": 2, \"floaties\": 0.08130759880594818, \"floaties2\": 0.9943961465292241, \"floaties_key\": 7, \"stringy_key\": \"dDCtp\", \"integer_bools\": true, \"stringer\": \"rabbit\", \"stringer2\": \"leopard\", \"datie_dates\": \"2021-02-03T00:00:00\", \"datie_dates2\": \"2021-02-02T00:00:00\", \"datie_dates_m_y\": \"2021-02\", \"datie_dates2_m_y\": \"2021-02\", \"__day_diff__\": 1, \"_counts_\": 1}, {\"integers\": 3, \"floaties\": 0.2517308655377214, \"floaties2\": 0.8361943431561062, \"floaties_key\": 8, \"stringy_key\": \"lSJQF\", \"integer_bools\": true, \"stringer\": \"leopard\", \"stringer2\": \"leopard\", \"datie_dates\": \"2021-04-03T00:00:00\", \"datie_dates2\": \"2021-04-05T00:00:00\", \"datie_dates_m_y\": \"2021-04\", \"datie_dates2_m_y\": \"2021-04\", \"__day_diff__\": -2, \"_counts_\": 1}]}}, {\"mode\": \"vega-lite\"});\n",
       "</script>"
      ],
      "text/plain": [
       "alt.Chart(...)"
      ]
     },
     "metadata": {},
     "output_type": "display_data"
    },
    {
     "data": {
      "text/html": [
       "\n",
       "<div id=\"altair-viz-9a51afd5ba2746ffac1f257552444a46\"></div>\n",
       "<script type=\"text/javascript\">\n",
       "  var VEGA_DEBUG = (typeof VEGA_DEBUG == \"undefined\") ? {} : VEGA_DEBUG;\n",
       "  (function(spec, embedOpt){\n",
       "    let outputDiv = document.currentScript.previousElementSibling;\n",
       "    if (outputDiv.id !== \"altair-viz-9a51afd5ba2746ffac1f257552444a46\") {\n",
       "      outputDiv = document.getElementById(\"altair-viz-9a51afd5ba2746ffac1f257552444a46\");\n",
       "    }\n",
       "    const paths = {\n",
       "      \"vega\": \"https://cdn.jsdelivr.net/npm//vega@5?noext\",\n",
       "      \"vega-lib\": \"https://cdn.jsdelivr.net/npm//vega-lib?noext\",\n",
       "      \"vega-lite\": \"https://cdn.jsdelivr.net/npm//vega-lite@4.17.0?noext\",\n",
       "      \"vega-embed\": \"https://cdn.jsdelivr.net/npm//vega-embed@6?noext\",\n",
       "    };\n",
       "\n",
       "    function maybeLoadScript(lib, version) {\n",
       "      var key = `${lib.replace(\"-\", \"\")}_version`;\n",
       "      return (VEGA_DEBUG[key] == version) ?\n",
       "        Promise.resolve(paths[lib]) :\n",
       "        new Promise(function(resolve, reject) {\n",
       "          var s = document.createElement('script');\n",
       "          document.getElementsByTagName(\"head\")[0].appendChild(s);\n",
       "          s.async = true;\n",
       "          s.onload = () => {\n",
       "            VEGA_DEBUG[key] = version;\n",
       "            return resolve(paths[lib]);\n",
       "          };\n",
       "          s.onerror = () => reject(`Error loading script: ${paths[lib]}`);\n",
       "          s.src = paths[lib];\n",
       "        });\n",
       "    }\n",
       "\n",
       "    function showError(err) {\n",
       "      outputDiv.innerHTML = `<div class=\"error\" style=\"color:red;\">${err}</div>`;\n",
       "      throw err;\n",
       "    }\n",
       "\n",
       "    function displayChart(vegaEmbed) {\n",
       "      vegaEmbed(outputDiv, spec, embedOpt)\n",
       "        .catch(err => showError(`Javascript Error: ${err.message}<br>This usually means there's a typo in your chart specification. See the javascript console for the full traceback.`));\n",
       "    }\n",
       "\n",
       "    if(typeof define === \"function\" && define.amd) {\n",
       "      requirejs.config({paths});\n",
       "      require([\"vega-embed\"], displayChart, err => showError(`Error loading script: ${err.message}`));\n",
       "    } else {\n",
       "      maybeLoadScript(\"vega\", \"5\")\n",
       "        .then(() => maybeLoadScript(\"vega-lite\", \"4.17.0\"))\n",
       "        .then(() => maybeLoadScript(\"vega-embed\", \"6\"))\n",
       "        .catch(showError)\n",
       "        .then(() => displayChart(vegaEmbed));\n",
       "    }\n",
       "  })({\"config\": {\"view\": {\"continuousWidth\": 400, \"continuousHeight\": 300}}, \"data\": {\"name\": \"data-1490b89464ec84bcfcf21d26280dad6e\"}, \"mark\": \"rect\", \"encoding\": {\"color\": {\"field\": \"_counts_\", \"type\": \"quantitative\"}, \"x\": {\"field\": \"datie_dates_m_y\", \"type\": \"ordinal\"}, \"y\": {\"field\": \"datie_dates2_m_y\", \"type\": \"ordinal\"}}, \"$schema\": \"https://vega.github.io/schema/vega-lite/v4.17.0.json\", \"datasets\": {\"data-1490b89464ec84bcfcf21d26280dad6e\": [{\"datie_dates_m_y\": \"2020-01\", \"datie_dates2_m_y\": \"2020-01\", \"measures\": \"sum\", \"_counts_\": 3}, {\"datie_dates_m_y\": \"2021-02\", \"datie_dates2_m_y\": \"2021-02\", \"measures\": \"sum\", \"_counts_\": 3}, {\"datie_dates_m_y\": \"2021-04\", \"datie_dates2_m_y\": \"2021-04\", \"measures\": \"sum\", \"_counts_\": 3}]}}, {\"mode\": \"vega-lite\"});\n",
       "</script>"
      ],
      "text/plain": [
       "alt.Chart(...)"
      ]
     },
     "metadata": {},
     "output_type": "display_data"
    }
   ],
   "source": [
    "ce.chart_me(df, \"datie_dates\", \"datie_dates2\")\n"
   ]
  },
  {
   "cell_type": "code",
   "execution_count": 2,
   "id": "3a144419",
   "metadata": {},
   "outputs": [
    {
     "name": "stdout",
     "output_type": "stream",
     "text": [
      "ChartMeDataTypeMetaType.TEMPORAL ChartMeDataTypeMetaType.CATEGORICAL_LOW_CARDINALITY\n",
      "  datie_dates_m_y stringer2 measures  _counts_\n",
      "0         2020-01    rabbit      sum         3\n",
      "1         2021-04   leopard      sum         3\n",
      "2         2021-02    rabbit      sum         2\n",
      "3         2021-02   leopard      sum         1\n"
     ]
    },
    {
     "data": {
      "text/html": [
       "\n",
       "<div id=\"altair-viz-bb6cbb20ff0744599b770cbd2cc0fd16\"></div>\n",
       "<script type=\"text/javascript\">\n",
       "  var VEGA_DEBUG = (typeof VEGA_DEBUG == \"undefined\") ? {} : VEGA_DEBUG;\n",
       "  (function(spec, embedOpt){\n",
       "    let outputDiv = document.currentScript.previousElementSibling;\n",
       "    if (outputDiv.id !== \"altair-viz-bb6cbb20ff0744599b770cbd2cc0fd16\") {\n",
       "      outputDiv = document.getElementById(\"altair-viz-bb6cbb20ff0744599b770cbd2cc0fd16\");\n",
       "    }\n",
       "    const paths = {\n",
       "      \"vega\": \"https://cdn.jsdelivr.net/npm//vega@5?noext\",\n",
       "      \"vega-lib\": \"https://cdn.jsdelivr.net/npm//vega-lib?noext\",\n",
       "      \"vega-lite\": \"https://cdn.jsdelivr.net/npm//vega-lite@4.17.0?noext\",\n",
       "      \"vega-embed\": \"https://cdn.jsdelivr.net/npm//vega-embed@6?noext\",\n",
       "    };\n",
       "\n",
       "    function maybeLoadScript(lib, version) {\n",
       "      var key = `${lib.replace(\"-\", \"\")}_version`;\n",
       "      return (VEGA_DEBUG[key] == version) ?\n",
       "        Promise.resolve(paths[lib]) :\n",
       "        new Promise(function(resolve, reject) {\n",
       "          var s = document.createElement('script');\n",
       "          document.getElementsByTagName(\"head\")[0].appendChild(s);\n",
       "          s.async = true;\n",
       "          s.onload = () => {\n",
       "            VEGA_DEBUG[key] = version;\n",
       "            return resolve(paths[lib]);\n",
       "          };\n",
       "          s.onerror = () => reject(`Error loading script: ${paths[lib]}`);\n",
       "          s.src = paths[lib];\n",
       "        });\n",
       "    }\n",
       "\n",
       "    function showError(err) {\n",
       "      outputDiv.innerHTML = `<div class=\"error\" style=\"color:red;\">${err}</div>`;\n",
       "      throw err;\n",
       "    }\n",
       "\n",
       "    function displayChart(vegaEmbed) {\n",
       "      vegaEmbed(outputDiv, spec, embedOpt)\n",
       "        .catch(err => showError(`Javascript Error: ${err.message}<br>This usually means there's a typo in your chart specification. See the javascript console for the full traceback.`));\n",
       "    }\n",
       "\n",
       "    if(typeof define === \"function\" && define.amd) {\n",
       "      requirejs.config({paths});\n",
       "      require([\"vega-embed\"], displayChart, err => showError(`Error loading script: ${err.message}`));\n",
       "    } else {\n",
       "      maybeLoadScript(\"vega\", \"5\")\n",
       "        .then(() => maybeLoadScript(\"vega-lite\", \"4.17.0\"))\n",
       "        .then(() => maybeLoadScript(\"vega-embed\", \"6\"))\n",
       "        .catch(showError)\n",
       "        .then(() => displayChart(vegaEmbed));\n",
       "    }\n",
       "  })({\"config\": {\"view\": {\"continuousWidth\": 400, \"continuousHeight\": 300}}, \"hconcat\": [{\"mark\": \"bar\", \"encoding\": {\"color\": {\"field\": \"stringer2\", \"type\": \"nominal\"}, \"x\": {\"field\": \"datie_dates_m_y\", \"type\": \"ordinal\"}, \"y\": {\"field\": \"_counts_\", \"type\": \"quantitative\"}}}, {\"mark\": \"bar\", \"encoding\": {\"color\": {\"field\": \"stringer2\", \"type\": \"nominal\"}, \"x\": {\"field\": \"datie_dates_m_y\", \"type\": \"ordinal\"}, \"y\": {\"field\": \"_counts_\", \"stack\": \"normalize\", \"type\": \"quantitative\"}}}], \"data\": {\"name\": \"data-e43cc9e7b97ccab9ea2102ea35f917ec\"}, \"$schema\": \"https://vega.github.io/schema/vega-lite/v4.17.0.json\", \"datasets\": {\"data-e43cc9e7b97ccab9ea2102ea35f917ec\": [{\"datie_dates_m_y\": \"2020-01\", \"stringer2\": \"rabbit\", \"measures\": \"sum\", \"_counts_\": 3}, {\"datie_dates_m_y\": \"2021-04\", \"stringer2\": \"leopard\", \"measures\": \"sum\", \"_counts_\": 3}, {\"datie_dates_m_y\": \"2021-02\", \"stringer2\": \"rabbit\", \"measures\": \"sum\", \"_counts_\": 2}, {\"datie_dates_m_y\": \"2021-02\", \"stringer2\": \"leopard\", \"measures\": \"sum\", \"_counts_\": 1}]}}, {\"mode\": \"vega-lite\"});\n",
       "</script>"
      ],
      "text/plain": [
       "alt.HConcatChart(...)"
      ]
     },
     "execution_count": 2,
     "metadata": {},
     "output_type": "execute_result"
    }
   ],
   "source": [
    "cm.chart_me(df, [\"datie_dates\", \"stringer2\"])[0]"
   ]
  },
  {
   "cell_type": "code",
   "execution_count": 4,
   "id": "d391f47b",
   "metadata": {},
   "outputs": [
    {
     "name": "stdout",
     "output_type": "stream",
     "text": [
      "ChartMeDataTypeMetaType.CATEGORICAL_LOW_CARDINALITY ChartMeDataTypeMetaType.CATEGORICAL_LOW_CARDINALITY\n",
      "here\n",
      "  stringer stringer2 measures  _counts_\n",
      "0  leopard   leopard      sum         3\n",
      "1  leopard    rabbit      sum         3\n",
      "2   rabbit    rabbit      sum         2\n",
      "3   rabbit   leopard      sum         1\n"
     ]
    },
    {
     "data": {
      "text/html": [
       "\n",
       "<div id=\"altair-viz-6f2577fc5cad49fea982d51bdcc4a1ea\"></div>\n",
       "<script type=\"text/javascript\">\n",
       "  var VEGA_DEBUG = (typeof VEGA_DEBUG == \"undefined\") ? {} : VEGA_DEBUG;\n",
       "  (function(spec, embedOpt){\n",
       "    let outputDiv = document.currentScript.previousElementSibling;\n",
       "    if (outputDiv.id !== \"altair-viz-6f2577fc5cad49fea982d51bdcc4a1ea\") {\n",
       "      outputDiv = document.getElementById(\"altair-viz-6f2577fc5cad49fea982d51bdcc4a1ea\");\n",
       "    }\n",
       "    const paths = {\n",
       "      \"vega\": \"https://cdn.jsdelivr.net/npm//vega@5?noext\",\n",
       "      \"vega-lib\": \"https://cdn.jsdelivr.net/npm//vega-lib?noext\",\n",
       "      \"vega-lite\": \"https://cdn.jsdelivr.net/npm//vega-lite@4.17.0?noext\",\n",
       "      \"vega-embed\": \"https://cdn.jsdelivr.net/npm//vega-embed@6?noext\",\n",
       "    };\n",
       "\n",
       "    function maybeLoadScript(lib, version) {\n",
       "      var key = `${lib.replace(\"-\", \"\")}_version`;\n",
       "      return (VEGA_DEBUG[key] == version) ?\n",
       "        Promise.resolve(paths[lib]) :\n",
       "        new Promise(function(resolve, reject) {\n",
       "          var s = document.createElement('script');\n",
       "          document.getElementsByTagName(\"head\")[0].appendChild(s);\n",
       "          s.async = true;\n",
       "          s.onload = () => {\n",
       "            VEGA_DEBUG[key] = version;\n",
       "            return resolve(paths[lib]);\n",
       "          };\n",
       "          s.onerror = () => reject(`Error loading script: ${paths[lib]}`);\n",
       "          s.src = paths[lib];\n",
       "        });\n",
       "    }\n",
       "\n",
       "    function showError(err) {\n",
       "      outputDiv.innerHTML = `<div class=\"error\" style=\"color:red;\">${err}</div>`;\n",
       "      throw err;\n",
       "    }\n",
       "\n",
       "    function displayChart(vegaEmbed) {\n",
       "      vegaEmbed(outputDiv, spec, embedOpt)\n",
       "        .catch(err => showError(`Javascript Error: ${err.message}<br>This usually means there's a typo in your chart specification. See the javascript console for the full traceback.`));\n",
       "    }\n",
       "\n",
       "    if(typeof define === \"function\" && define.amd) {\n",
       "      requirejs.config({paths});\n",
       "      require([\"vega-embed\"], displayChart, err => showError(`Error loading script: ${err.message}`));\n",
       "    } else {\n",
       "      maybeLoadScript(\"vega\", \"5\")\n",
       "        .then(() => maybeLoadScript(\"vega-lite\", \"4.17.0\"))\n",
       "        .then(() => maybeLoadScript(\"vega-embed\", \"6\"))\n",
       "        .catch(showError)\n",
       "        .then(() => displayChart(vegaEmbed));\n",
       "    }\n",
       "  })({\"config\": {\"view\": {\"continuousWidth\": 400, \"continuousHeight\": 300}}, \"data\": {\"name\": \"data-f725280996de080e9ce5aedf65844bb9\"}, \"mark\": \"rect\", \"encoding\": {\"color\": {\"field\": \"_counts_\", \"type\": \"quantitative\"}, \"x\": {\"field\": \"stringer\", \"type\": \"ordinal\"}, \"y\": {\"field\": \"stringer2\", \"type\": \"ordinal\"}}, \"$schema\": \"https://vega.github.io/schema/vega-lite/v4.17.0.json\", \"datasets\": {\"data-f725280996de080e9ce5aedf65844bb9\": [{\"stringer\": \"leopard\", \"stringer2\": \"leopard\", \"measures\": \"sum\", \"_counts_\": 3}, {\"stringer\": \"leopard\", \"stringer2\": \"rabbit\", \"measures\": \"sum\", \"_counts_\": 3}, {\"stringer\": \"rabbit\", \"stringer2\": \"rabbit\", \"measures\": \"sum\", \"_counts_\": 2}, {\"stringer\": \"rabbit\", \"stringer2\": \"leopard\", \"measures\": \"sum\", \"_counts_\": 1}]}}, {\"mode\": \"vega-lite\"});\n",
       "</script>"
      ],
      "text/plain": [
       "alt.Chart(...)"
      ]
     },
     "execution_count": 4,
     "metadata": {},
     "output_type": "execute_result"
    }
   ],
   "source": [
    "cm.chart_me(df, [\"stringer\", \"stringer2\"])[0]"
   ]
  },
  {
   "cell_type": "code",
   "execution_count": 2,
   "id": "457379c5",
   "metadata": {},
   "outputs": [
    {
     "name": "stdout",
     "output_type": "stream",
     "text": [
      "ChartMeDataTypeMetaType.TEMPORAL ChartMeDataTypeMetaType.KEY\n"
     ]
    },
    {
     "data": {
      "text/html": [
       "\n",
       "<div id=\"altair-viz-3d76bf2497a2464b8a0fbf67c02fe376\"></div>\n",
       "<script type=\"text/javascript\">\n",
       "  var VEGA_DEBUG = (typeof VEGA_DEBUG == \"undefined\") ? {} : VEGA_DEBUG;\n",
       "  (function(spec, embedOpt){\n",
       "    let outputDiv = document.currentScript.previousElementSibling;\n",
       "    if (outputDiv.id !== \"altair-viz-3d76bf2497a2464b8a0fbf67c02fe376\") {\n",
       "      outputDiv = document.getElementById(\"altair-viz-3d76bf2497a2464b8a0fbf67c02fe376\");\n",
       "    }\n",
       "    const paths = {\n",
       "      \"vega\": \"https://cdn.jsdelivr.net/npm//vega@5?noext\",\n",
       "      \"vega-lib\": \"https://cdn.jsdelivr.net/npm//vega-lib?noext\",\n",
       "      \"vega-lite\": \"https://cdn.jsdelivr.net/npm//vega-lite@4.17.0?noext\",\n",
       "      \"vega-embed\": \"https://cdn.jsdelivr.net/npm//vega-embed@6?noext\",\n",
       "    };\n",
       "\n",
       "    function maybeLoadScript(lib, version) {\n",
       "      var key = `${lib.replace(\"-\", \"\")}_version`;\n",
       "      return (VEGA_DEBUG[key] == version) ?\n",
       "        Promise.resolve(paths[lib]) :\n",
       "        new Promise(function(resolve, reject) {\n",
       "          var s = document.createElement('script');\n",
       "          document.getElementsByTagName(\"head\")[0].appendChild(s);\n",
       "          s.async = true;\n",
       "          s.onload = () => {\n",
       "            VEGA_DEBUG[key] = version;\n",
       "            return resolve(paths[lib]);\n",
       "          };\n",
       "          s.onerror = () => reject(`Error loading script: ${paths[lib]}`);\n",
       "          s.src = paths[lib];\n",
       "        });\n",
       "    }\n",
       "\n",
       "    function showError(err) {\n",
       "      outputDiv.innerHTML = `<div class=\"error\" style=\"color:red;\">${err}</div>`;\n",
       "      throw err;\n",
       "    }\n",
       "\n",
       "    function displayChart(vegaEmbed) {\n",
       "      vegaEmbed(outputDiv, spec, embedOpt)\n",
       "        .catch(err => showError(`Javascript Error: ${err.message}<br>This usually means there's a typo in your chart specification. See the javascript console for the full traceback.`));\n",
       "    }\n",
       "\n",
       "    if(typeof define === \"function\" && define.amd) {\n",
       "      requirejs.config({paths});\n",
       "      require([\"vega-embed\"], displayChart, err => showError(`Error loading script: ${err.message}`));\n",
       "    } else {\n",
       "      maybeLoadScript(\"vega\", \"5\")\n",
       "        .then(() => maybeLoadScript(\"vega-lite\", \"4.17.0\"))\n",
       "        .then(() => maybeLoadScript(\"vega-embed\", \"6\"))\n",
       "        .catch(showError)\n",
       "        .then(() => displayChart(vegaEmbed));\n",
       "    }\n",
       "  })({\"config\": {\"view\": {\"continuousWidth\": 400, \"continuousHeight\": 300}}, \"hconcat\": [{\"data\": {\"name\": \"data-e332d210ed6f4e1253df199467c00979\"}, \"mark\": \"bar\", \"encoding\": {\"x\": {\"field\": \"datie_dates_m_y\", \"type\": \"ordinal\"}, \"y\": {\"field\": \"stringy_key\", \"type\": \"quantitative\"}}}, {\"data\": {\"name\": \"data-0820bfb88b02a55c9464ba16716f685e\"}, \"mark\": \"line\", \"encoding\": {\"color\": {\"field\": \"measures\", \"type\": \"nominal\"}, \"x\": {\"field\": \"datie_dates_m_y\", \"type\": \"ordinal\"}, \"y\": {\"field\": \"stringy_key\", \"type\": \"quantitative\"}}}], \"$schema\": \"https://vega.github.io/schema/vega-lite/v4.17.0.json\", \"datasets\": {\"data-e332d210ed6f4e1253df199467c00979\": [{\"datie_dates_m_y\": \"2020-01\", \"measures\": \"count\", \"stringy_key\": 3}, {\"datie_dates_m_y\": \"2021-02\", \"measures\": \"count\", \"stringy_key\": 3}, {\"datie_dates_m_y\": \"2021-04\", \"measures\": \"count\", \"stringy_key\": 3}], \"data-0820bfb88b02a55c9464ba16716f685e\": [{\"datie_dates_m_y\": \"2020-01\", \"measures\": \"nunique\", \"stringy_key\": 3}, {\"datie_dates_m_y\": \"2021-02\", \"measures\": \"nunique\", \"stringy_key\": 3}, {\"datie_dates_m_y\": \"2021-04\", \"measures\": \"nunique\", \"stringy_key\": 3}]}}, {\"mode\": \"vega-lite\"});\n",
       "</script>"
      ],
      "text/plain": [
       "alt.HConcatChart(...)"
      ]
     },
     "execution_count": 2,
     "metadata": {},
     "output_type": "execute_result"
    }
   ],
   "source": [
    "cm.chart_me(df, ['datie_dates', 'stringy_key'])[0]"
   ]
  },
  {
   "cell_type": "code",
   "execution_count": 3,
   "id": "1851b8ad",
   "metadata": {},
   "outputs": [
    {
     "name": "stdout",
     "output_type": "stream",
     "text": [
      "ChartMeDataTypeMetaType.CATEGORICAL_LOW_CARDINALITY ChartMeDataTypeMetaType.KEY\n"
     ]
    },
    {
     "data": {
      "text/html": [
       "\n",
       "<div id=\"altair-viz-dfec4587de234aff845136f952b6ac70\"></div>\n",
       "<script type=\"text/javascript\">\n",
       "  var VEGA_DEBUG = (typeof VEGA_DEBUG == \"undefined\") ? {} : VEGA_DEBUG;\n",
       "  (function(spec, embedOpt){\n",
       "    let outputDiv = document.currentScript.previousElementSibling;\n",
       "    if (outputDiv.id !== \"altair-viz-dfec4587de234aff845136f952b6ac70\") {\n",
       "      outputDiv = document.getElementById(\"altair-viz-dfec4587de234aff845136f952b6ac70\");\n",
       "    }\n",
       "    const paths = {\n",
       "      \"vega\": \"https://cdn.jsdelivr.net/npm//vega@5?noext\",\n",
       "      \"vega-lib\": \"https://cdn.jsdelivr.net/npm//vega-lib?noext\",\n",
       "      \"vega-lite\": \"https://cdn.jsdelivr.net/npm//vega-lite@4.17.0?noext\",\n",
       "      \"vega-embed\": \"https://cdn.jsdelivr.net/npm//vega-embed@6?noext\",\n",
       "    };\n",
       "\n",
       "    function maybeLoadScript(lib, version) {\n",
       "      var key = `${lib.replace(\"-\", \"\")}_version`;\n",
       "      return (VEGA_DEBUG[key] == version) ?\n",
       "        Promise.resolve(paths[lib]) :\n",
       "        new Promise(function(resolve, reject) {\n",
       "          var s = document.createElement('script');\n",
       "          document.getElementsByTagName(\"head\")[0].appendChild(s);\n",
       "          s.async = true;\n",
       "          s.onload = () => {\n",
       "            VEGA_DEBUG[key] = version;\n",
       "            return resolve(paths[lib]);\n",
       "          };\n",
       "          s.onerror = () => reject(`Error loading script: ${paths[lib]}`);\n",
       "          s.src = paths[lib];\n",
       "        });\n",
       "    }\n",
       "\n",
       "    function showError(err) {\n",
       "      outputDiv.innerHTML = `<div class=\"error\" style=\"color:red;\">${err}</div>`;\n",
       "      throw err;\n",
       "    }\n",
       "\n",
       "    function displayChart(vegaEmbed) {\n",
       "      vegaEmbed(outputDiv, spec, embedOpt)\n",
       "        .catch(err => showError(`Javascript Error: ${err.message}<br>This usually means there's a typo in your chart specification. See the javascript console for the full traceback.`));\n",
       "    }\n",
       "\n",
       "    if(typeof define === \"function\" && define.amd) {\n",
       "      requirejs.config({paths});\n",
       "      require([\"vega-embed\"], displayChart, err => showError(`Error loading script: ${err.message}`));\n",
       "    } else {\n",
       "      maybeLoadScript(\"vega\", \"5\")\n",
       "        .then(() => maybeLoadScript(\"vega-lite\", \"4.17.0\"))\n",
       "        .then(() => maybeLoadScript(\"vega-embed\", \"6\"))\n",
       "        .catch(showError)\n",
       "        .then(() => displayChart(vegaEmbed));\n",
       "    }\n",
       "  })({\"config\": {\"view\": {\"continuousWidth\": 400, \"continuousHeight\": 300}}, \"data\": {\"name\": \"data-4411739d6625ded17639f9bad7d5f661\"}, \"mark\": \"bar\", \"encoding\": {\"facet\": {\"columns\": 2, \"field\": \"measures\", \"type\": \"ordinal\"}, \"x\": {\"field\": \"stringy_key\", \"type\": \"quantitative\"}, \"y\": {\"field\": \"stringer\", \"type\": \"ordinal\"}}, \"resolve\": {\"scale\": {\"x\": \"independent\"}}, \"$schema\": \"https://vega.github.io/schema/vega-lite/v4.17.0.json\", \"datasets\": {\"data-4411739d6625ded17639f9bad7d5f661\": [{\"stringer\": \"rabbit\", \"measures\": \"count\", \"stringy_key\": 5}, {\"stringer\": \"leopard\", \"measures\": \"count\", \"stringy_key\": 4}, {\"stringer\": \"rabbit\", \"measures\": \"nunique\", \"stringy_key\": 5}, {\"stringer\": \"leopard\", \"measures\": \"nunique\", \"stringy_key\": 4}]}}, {\"mode\": \"vega-lite\"});\n",
       "</script>"
      ],
      "text/plain": [
       "alt.Chart(...)"
      ]
     },
     "execution_count": 3,
     "metadata": {},
     "output_type": "execute_result"
    }
   ],
   "source": [
    "cm.chart_me(df, ['stringer', 'stringy_key'])[0]"
   ]
  },
  {
   "cell_type": "code",
   "execution_count": 2,
   "id": "7598da30",
   "metadata": {},
   "outputs": [
    {
     "data": {
      "text/html": [
       "\n",
       "<div id=\"altair-viz-64d28c214bc447f2bda8f47da32a7ece\"></div>\n",
       "<script type=\"text/javascript\">\n",
       "  var VEGA_DEBUG = (typeof VEGA_DEBUG == \"undefined\") ? {} : VEGA_DEBUG;\n",
       "  (function(spec, embedOpt){\n",
       "    let outputDiv = document.currentScript.previousElementSibling;\n",
       "    if (outputDiv.id !== \"altair-viz-64d28c214bc447f2bda8f47da32a7ece\") {\n",
       "      outputDiv = document.getElementById(\"altair-viz-64d28c214bc447f2bda8f47da32a7ece\");\n",
       "    }\n",
       "    const paths = {\n",
       "      \"vega\": \"https://cdn.jsdelivr.net/npm//vega@5?noext\",\n",
       "      \"vega-lib\": \"https://cdn.jsdelivr.net/npm//vega-lib?noext\",\n",
       "      \"vega-lite\": \"https://cdn.jsdelivr.net/npm//vega-lite@4.17.0?noext\",\n",
       "      \"vega-embed\": \"https://cdn.jsdelivr.net/npm//vega-embed@6?noext\",\n",
       "    };\n",
       "\n",
       "    function maybeLoadScript(lib, version) {\n",
       "      var key = `${lib.replace(\"-\", \"\")}_version`;\n",
       "      return (VEGA_DEBUG[key] == version) ?\n",
       "        Promise.resolve(paths[lib]) :\n",
       "        new Promise(function(resolve, reject) {\n",
       "          var s = document.createElement('script');\n",
       "          document.getElementsByTagName(\"head\")[0].appendChild(s);\n",
       "          s.async = true;\n",
       "          s.onload = () => {\n",
       "            VEGA_DEBUG[key] = version;\n",
       "            return resolve(paths[lib]);\n",
       "          };\n",
       "          s.onerror = () => reject(`Error loading script: ${paths[lib]}`);\n",
       "          s.src = paths[lib];\n",
       "        });\n",
       "    }\n",
       "\n",
       "    function showError(err) {\n",
       "      outputDiv.innerHTML = `<div class=\"error\" style=\"color:red;\">${err}</div>`;\n",
       "      throw err;\n",
       "    }\n",
       "\n",
       "    function displayChart(vegaEmbed) {\n",
       "      vegaEmbed(outputDiv, spec, embedOpt)\n",
       "        .catch(err => showError(`Javascript Error: ${err.message}<br>This usually means there's a typo in your chart specification. See the javascript console for the full traceback.`));\n",
       "    }\n",
       "\n",
       "    if(typeof define === \"function\" && define.amd) {\n",
       "      requirejs.config({paths});\n",
       "      require([\"vega-embed\"], displayChart, err => showError(`Error loading script: ${err.message}`));\n",
       "    } else {\n",
       "      maybeLoadScript(\"vega\", \"5\")\n",
       "        .then(() => maybeLoadScript(\"vega-lite\", \"4.17.0\"))\n",
       "        .then(() => maybeLoadScript(\"vega-embed\", \"6\"))\n",
       "        .catch(showError)\n",
       "        .then(() => displayChart(vegaEmbed));\n",
       "    }\n",
       "  })({\"config\": {\"view\": {\"continuousWidth\": 400, \"continuousHeight\": 300}}, \"data\": {\"name\": \"data-8df7c747bc2928e54a6df6a031ff9c00\"}, \"mark\": \"bar\", \"encoding\": {\"x\": {\"field\": \"quantity\", \"type\": \"quantitative\"}, \"y\": {\"field\": \"label\", \"type\": \"ordinal\"}}, \"$schema\": \"https://vega.github.io/schema/vega-lite/v4.17.0.json\", \"datasets\": {\"data-8df7c747bc2928e54a6df6a031ff9c00\": [{\"integers\": 1, \"floaties\": 0.6290896074628884, \"floaties2\": 0.12659076195949215, \"floaties_key\": 0, \"stringy_key\": \"hsryw\", \"integer_bools\": true, \"stringer\": \"rabbit\", \"datie_dates\": \"2020-01-01T00:00:00\", \"quantity\": 1, \"label\": \"0-hsryw\"}, {\"integers\": 2, \"floaties\": 0.7149617348303231, \"floaties2\": 0.15441416977679734, \"floaties_key\": 1, \"stringy_key\": \"gXVdP\", \"integer_bools\": true, \"stringer\": \"leopard\", \"datie_dates\": \"2021-02-03T00:00:00\", \"quantity\": 1, \"label\": \"1-gXVdP\"}, {\"integers\": 3, \"floaties\": 0.25937624757354105, \"floaties2\": 0.6532655797125568, \"floaties_key\": 2, \"stringy_key\": \"pxKkm\", \"integer_bools\": true, \"stringer\": \"rabbit\", \"datie_dates\": \"2021-04-03T00:00:00\", \"quantity\": 1, \"label\": \"2-pxKkm\"}, {\"integers\": 1, \"floaties\": 0.38519315469982374, \"floaties2\": 0.25824562751205704, \"floaties_key\": 3, \"stringy_key\": \"AJPBH\", \"integer_bools\": false, \"stringer\": \"rabbit\", \"datie_dates\": \"2020-01-01T00:00:00\", \"quantity\": 1, \"label\": \"3-AJPBH\"}, {\"integers\": 2, \"floaties\": 0.7619487649678475, \"floaties2\": 0.8428863648192291, \"floaties_key\": 4, \"stringy_key\": \"VyeGN\", \"integer_bools\": false, \"stringer\": \"leopard\", \"datie_dates\": \"2021-02-03T00:00:00\", \"quantity\": 1, \"label\": \"4-VyeGN\"}, {\"integers\": 3, \"floaties\": 0.27909122761121363, \"floaties2\": 0.5477216589415361, \"floaties_key\": 5, \"stringy_key\": \"pLJqd\", \"integer_bools\": true, \"stringer\": \"rabbit\", \"datie_dates\": \"2021-04-03T00:00:00\", \"quantity\": 1, \"label\": \"5-pLJqd\"}, {\"integers\": 1, \"floaties\": 0.32370932710934863, \"floaties2\": 0.033576674225562875, \"floaties_key\": 6, \"stringy_key\": \"fWviz\", \"integer_bools\": true, \"stringer\": \"rabbit\", \"datie_dates\": \"2020-01-01T00:00:00\", \"quantity\": 1, \"label\": \"6-fWviz\"}, {\"integers\": 2, \"floaties\": 0.7984410214140156, \"floaties2\": 0.8605227151793244, \"floaties_key\": 7, \"stringy_key\": \"Ezlex\", \"integer_bools\": false, \"stringer\": \"leopard\", \"datie_dates\": \"2021-02-03T00:00:00\", \"quantity\": 1, \"label\": \"7-Ezlex\"}, {\"integers\": 3, \"floaties\": 0.3480323116160111, \"floaties2\": 0.6456107329952855, \"floaties_key\": 8, \"stringy_key\": \"gRyHP\", \"integer_bools\": false, \"stringer\": \"rabbit\", \"datie_dates\": \"2021-04-03T00:00:00\", \"quantity\": 1, \"label\": \"8-gRyHP\"}]}}, {\"mode\": \"vega-lite\"});\n",
       "</script>"
      ],
      "text/plain": [
       "alt.Chart(...)"
      ]
     },
     "execution_count": 2,
     "metadata": {},
     "output_type": "execute_result"
    }
   ],
   "source": [
    "cm.chart_me(df, ['stringy_key', 'floaties_key'])[0]"
   ]
  },
  {
   "cell_type": "code",
   "execution_count": 4,
   "id": "782d9f12",
   "metadata": {},
   "outputs": [
    {
     "data": {
      "text/html": [
       "\n",
       "<div id=\"altair-viz-17b7760c54804e649a97fbf6ac9cfb2d\"></div>\n",
       "<script type=\"text/javascript\">\n",
       "  var VEGA_DEBUG = (typeof VEGA_DEBUG == \"undefined\") ? {} : VEGA_DEBUG;\n",
       "  (function(spec, embedOpt){\n",
       "    let outputDiv = document.currentScript.previousElementSibling;\n",
       "    if (outputDiv.id !== \"altair-viz-17b7760c54804e649a97fbf6ac9cfb2d\") {\n",
       "      outputDiv = document.getElementById(\"altair-viz-17b7760c54804e649a97fbf6ac9cfb2d\");\n",
       "    }\n",
       "    const paths = {\n",
       "      \"vega\": \"https://cdn.jsdelivr.net/npm//vega@5?noext\",\n",
       "      \"vega-lib\": \"https://cdn.jsdelivr.net/npm//vega-lib?noext\",\n",
       "      \"vega-lite\": \"https://cdn.jsdelivr.net/npm//vega-lite@4.17.0?noext\",\n",
       "      \"vega-embed\": \"https://cdn.jsdelivr.net/npm//vega-embed@6?noext\",\n",
       "    };\n",
       "\n",
       "    function maybeLoadScript(lib, version) {\n",
       "      var key = `${lib.replace(\"-\", \"\")}_version`;\n",
       "      return (VEGA_DEBUG[key] == version) ?\n",
       "        Promise.resolve(paths[lib]) :\n",
       "        new Promise(function(resolve, reject) {\n",
       "          var s = document.createElement('script');\n",
       "          document.getElementsByTagName(\"head\")[0].appendChild(s);\n",
       "          s.async = true;\n",
       "          s.onload = () => {\n",
       "            VEGA_DEBUG[key] = version;\n",
       "            return resolve(paths[lib]);\n",
       "          };\n",
       "          s.onerror = () => reject(`Error loading script: ${paths[lib]}`);\n",
       "          s.src = paths[lib];\n",
       "        });\n",
       "    }\n",
       "\n",
       "    function showError(err) {\n",
       "      outputDiv.innerHTML = `<div class=\"error\" style=\"color:red;\">${err}</div>`;\n",
       "      throw err;\n",
       "    }\n",
       "\n",
       "    function displayChart(vegaEmbed) {\n",
       "      vegaEmbed(outputDiv, spec, embedOpt)\n",
       "        .catch(err => showError(`Javascript Error: ${err.message}<br>This usually means there's a typo in your chart specification. See the javascript console for the full traceback.`));\n",
       "    }\n",
       "\n",
       "    if(typeof define === \"function\" && define.amd) {\n",
       "      requirejs.config({paths});\n",
       "      require([\"vega-embed\"], displayChart, err => showError(`Error loading script: ${err.message}`));\n",
       "    } else {\n",
       "      maybeLoadScript(\"vega\", \"5\")\n",
       "        .then(() => maybeLoadScript(\"vega-lite\", \"4.17.0\"))\n",
       "        .then(() => maybeLoadScript(\"vega-embed\", \"6\"))\n",
       "        .catch(showError)\n",
       "        .then(() => displayChart(vegaEmbed));\n",
       "    }\n",
       "  })({\"config\": {\"view\": {\"continuousWidth\": 400, \"continuousHeight\": 300}}, \"hconcat\": [{\"data\": {\"name\": \"data-f2e2649315de0e8cf02e89ae1fdf426e\"}, \"mark\": \"bar\", \"encoding\": {\"x\": {\"field\": \"datie_dates_m_y\", \"type\": \"ordinal\"}, \"y\": {\"field\": \"floaties\", \"type\": \"quantitative\"}}}, {\"data\": {\"name\": \"data-2e52a7c7c39e5b6db752b37cf09e585b\"}, \"mark\": \"line\", \"encoding\": {\"color\": {\"field\": \"measures\", \"type\": \"nominal\"}, \"x\": {\"field\": \"datie_dates_m_y\", \"type\": \"ordinal\"}, \"y\": {\"field\": \"floaties\", \"type\": \"quantitative\"}}}], \"$schema\": \"https://vega.github.io/schema/vega-lite/v4.17.0.json\", \"datasets\": {\"data-f2e2649315de0e8cf02e89ae1fdf426e\": [{\"datie_dates_m_y\": \"2020-01\", \"measures\": \"count\", \"floaties\": 3.0}, {\"datie_dates_m_y\": \"2021-02\", \"measures\": \"count\", \"floaties\": 3.0}, {\"datie_dates_m_y\": \"2021-04\", \"measures\": \"count\", \"floaties\": 3.0}], \"data-2e52a7c7c39e5b6db752b37cf09e585b\": [{\"datie_dates_m_y\": \"2020-01\", \"measures\": \"min\", \"floaties\": 0.1287951373114017}, {\"datie_dates_m_y\": \"2021-02\", \"measures\": \"min\", \"floaties\": 0.010628695633971064}, {\"datie_dates_m_y\": \"2021-04\", \"measures\": \"min\", \"floaties\": 0.4826745202688919}, {\"datie_dates_m_y\": \"2020-01\", \"measures\": \"max\", \"floaties\": 0.9092021727276336}, {\"datie_dates_m_y\": \"2021-02\", \"measures\": \"max\", \"floaties\": 0.578923300288715}, {\"datie_dates_m_y\": \"2021-04\", \"measures\": \"max\", \"floaties\": 0.6710867573435182}, {\"datie_dates_m_y\": \"2020-01\", \"measures\": \"mean\", \"floaties\": 0.6038063569826551}, {\"datie_dates_m_y\": \"2021-02\", \"measures\": \"mean\", \"floaties\": 0.38730805817742486}, {\"datie_dates_m_y\": \"2021-04\", \"measures\": \"mean\", \"floaties\": 0.5930585027414225}, {\"datie_dates_m_y\": \"2020-01\", \"measures\": \"median\", \"floaties\": 0.77342176090893}, {\"datie_dates_m_y\": \"2021-02\", \"measures\": \"median\", \"floaties\": 0.5723721786095886}, {\"datie_dates_m_y\": \"2021-04\", \"measures\": \"median\", \"floaties\": 0.6254142306118574}]}}, {\"mode\": \"vega-lite\"});\n",
       "</script>"
      ],
      "text/plain": [
       "alt.HConcatChart(...)"
      ]
     },
     "execution_count": 4,
     "metadata": {},
     "output_type": "execute_result"
    }
   ],
   "source": [
    "cm.chart_me(df, ['datie_dates', 'floaties'])[0]"
   ]
  },
  {
   "cell_type": "code",
   "execution_count": 2,
   "id": "9f68b253",
   "metadata": {},
   "outputs": [
    {
     "name": "stdout",
     "output_type": "stream",
     "text": [
      "  string_low_card measures  floaties\n",
      "0         stringC    count     347.0\n",
      "1         stringA    count     337.0\n"
     ]
    }
   ],
   "source": [
    "chart1, chart2 = cm.chart_me(df_d, ['string_low_card', 'floaties'])"
   ]
  },
  {
   "cell_type": "code",
   "execution_count": 3,
   "id": "973bd3a8",
   "metadata": {},
   "outputs": [
    {
     "data": {
      "text/html": [
       "\n",
       "<div id=\"altair-viz-3605744fb5af4779b7b759efeb077ef2\"></div>\n",
       "<script type=\"text/javascript\">\n",
       "  var VEGA_DEBUG = (typeof VEGA_DEBUG == \"undefined\") ? {} : VEGA_DEBUG;\n",
       "  (function(spec, embedOpt){\n",
       "    let outputDiv = document.currentScript.previousElementSibling;\n",
       "    if (outputDiv.id !== \"altair-viz-3605744fb5af4779b7b759efeb077ef2\") {\n",
       "      outputDiv = document.getElementById(\"altair-viz-3605744fb5af4779b7b759efeb077ef2\");\n",
       "    }\n",
       "    const paths = {\n",
       "      \"vega\": \"https://cdn.jsdelivr.net/npm//vega@5?noext\",\n",
       "      \"vega-lib\": \"https://cdn.jsdelivr.net/npm//vega-lib?noext\",\n",
       "      \"vega-lite\": \"https://cdn.jsdelivr.net/npm//vega-lite@4.17.0?noext\",\n",
       "      \"vega-embed\": \"https://cdn.jsdelivr.net/npm//vega-embed@6?noext\",\n",
       "    };\n",
       "\n",
       "    function maybeLoadScript(lib, version) {\n",
       "      var key = `${lib.replace(\"-\", \"\")}_version`;\n",
       "      return (VEGA_DEBUG[key] == version) ?\n",
       "        Promise.resolve(paths[lib]) :\n",
       "        new Promise(function(resolve, reject) {\n",
       "          var s = document.createElement('script');\n",
       "          document.getElementsByTagName(\"head\")[0].appendChild(s);\n",
       "          s.async = true;\n",
       "          s.onload = () => {\n",
       "            VEGA_DEBUG[key] = version;\n",
       "            return resolve(paths[lib]);\n",
       "          };\n",
       "          s.onerror = () => reject(`Error loading script: ${paths[lib]}`);\n",
       "          s.src = paths[lib];\n",
       "        });\n",
       "    }\n",
       "\n",
       "    function showError(err) {\n",
       "      outputDiv.innerHTML = `<div class=\"error\" style=\"color:red;\">${err}</div>`;\n",
       "      throw err;\n",
       "    }\n",
       "\n",
       "    function displayChart(vegaEmbed) {\n",
       "      vegaEmbed(outputDiv, spec, embedOpt)\n",
       "        .catch(err => showError(`Javascript Error: ${err.message}<br>This usually means there's a typo in your chart specification. See the javascript console for the full traceback.`));\n",
       "    }\n",
       "\n",
       "    if(typeof define === \"function\" && define.amd) {\n",
       "      requirejs.config({paths});\n",
       "      require([\"vega-embed\"], displayChart, err => showError(`Error loading script: ${err.message}`));\n",
       "    } else {\n",
       "      maybeLoadScript(\"vega\", \"5\")\n",
       "        .then(() => maybeLoadScript(\"vega-lite\", \"4.17.0\"))\n",
       "        .then(() => maybeLoadScript(\"vega-embed\", \"6\"))\n",
       "        .catch(showError)\n",
       "        .then(() => displayChart(vegaEmbed));\n",
       "    }\n",
       "  })({\"config\": {\"view\": {\"continuousWidth\": 400, \"continuousHeight\": 300}}, \"data\": {\"name\": \"data-802e87603cdd490fc9bed4744ce215b5\"}, \"mark\": \"bar\", \"encoding\": {\"facet\": {\"columns\": 4, \"field\": \"string_low_card\", \"type\": \"ordinal\"}, \"x\": {\"bin\": true, \"field\": \"floaties\", \"type\": \"quantitative\"}, \"y\": {\"aggregate\": \"count\", \"type\": \"quantitative\"}}, \"$schema\": \"https://vega.github.io/schema/vega-lite/v4.17.0.json\", \"datasets\": {\"data-802e87603cdd490fc9bed4744ce215b5\": [{\"string_low_card\": \"stringC\", \"floaties\": 0.27153715943815027}, {\"string_low_card\": \"stringC\", \"floaties\": 0.4502994971142352}, {\"string_low_card\": \"stringA\", \"floaties\": 0.34530247028649885}, {\"string_low_card\": \"stringA\", \"floaties\": 0.907841834681076}, {\"string_low_card\": \"stringC\", \"floaties\": 0.03152983403740284}, {\"string_low_card\": \"stringB\", \"floaties\": 0.513399852074397}, {\"string_low_card\": \"stringA\", \"floaties\": 0.016258650984286138}, {\"string_low_card\": \"stringB\", \"floaties\": 0.44245610018213233}, {\"string_low_card\": \"stringA\", \"floaties\": 0.5292243364310383}, {\"string_low_card\": \"stringA\", \"floaties\": 0.48689067803356767}, {\"string_low_card\": \"stringA\", \"floaties\": 0.2414226021850383}, {\"string_low_card\": \"stringA\", \"floaties\": 0.6420216849938254}, {\"string_low_card\": \"stringB\", \"floaties\": 0.499361386194508}, {\"string_low_card\": \"stringB\", \"floaties\": 0.6836824287430677}, {\"string_low_card\": \"stringA\", \"floaties\": 0.9165469584159547}, {\"string_low_card\": \"stringA\", \"floaties\": 0.1901424593801896}, {\"string_low_card\": \"stringA\", \"floaties\": 0.5927889927453583}, {\"string_low_card\": \"stringB\", \"floaties\": 0.04951207112181566}, {\"string_low_card\": \"stringC\", \"floaties\": 0.5077334018689401}, {\"string_low_card\": \"stringC\", \"floaties\": 0.20309014434499462}, {\"string_low_card\": \"stringA\", \"floaties\": 0.43216799155080965}, {\"string_low_card\": \"stringC\", \"floaties\": 0.6327379987506084}, {\"string_low_card\": \"stringA\", \"floaties\": 0.12137695837890228}, {\"string_low_card\": \"stringA\", \"floaties\": 0.9786477621719418}, {\"string_low_card\": \"stringA\", \"floaties\": 0.17745303597463302}, {\"string_low_card\": \"stringB\", \"floaties\": 0.7970716670442792}, {\"string_low_card\": \"stringC\", \"floaties\": 0.17574084913099064}, {\"string_low_card\": \"stringC\", \"floaties\": 0.809116660468899}, {\"string_low_card\": \"stringB\", \"floaties\": 0.7584081413594734}, {\"string_low_card\": \"stringB\", \"floaties\": 0.13870390818175315}, {\"string_low_card\": \"stringC\", \"floaties\": 0.5247519464731739}, {\"string_low_card\": \"stringA\", \"floaties\": 0.4326282323154027}, {\"string_low_card\": \"stringC\", \"floaties\": 0.3458108519949187}, {\"string_low_card\": \"stringA\", \"floaties\": 0.8719981550780732}, {\"string_low_card\": \"stringA\", \"floaties\": 0.03369277696640305}, {\"string_low_card\": \"stringA\", \"floaties\": 0.25058470958574586}, {\"string_low_card\": \"stringB\", \"floaties\": 0.5145110443156815}, {\"string_low_card\": \"stringC\", \"floaties\": 0.12968827949884543}, {\"string_low_card\": \"stringA\", \"floaties\": 0.9840771029588967}, {\"string_low_card\": \"stringC\", \"floaties\": 0.849506054832652}, {\"string_low_card\": \"stringA\", \"floaties\": 0.844584314039067}, {\"string_low_card\": \"stringB\", \"floaties\": 0.998183209677628}, {\"string_low_card\": \"stringC\", \"floaties\": 0.1718410062288035}, {\"string_low_card\": \"stringB\", \"floaties\": 0.8917609964120974}, {\"string_low_card\": \"stringA\", \"floaties\": 0.47312395508670213}, {\"string_low_card\": \"stringB\", \"floaties\": 0.926251288358045}, {\"string_low_card\": \"stringB\", \"floaties\": 0.669950513632994}, {\"string_low_card\": \"stringA\", \"floaties\": 0.3814942903953782}, {\"string_low_card\": \"stringC\", \"floaties\": 0.3431042095118094}, {\"string_low_card\": \"stringA\", \"floaties\": 0.576911664177346}, {\"string_low_card\": \"stringB\", \"floaties\": 0.27985841040736137}, {\"string_low_card\": \"stringA\", \"floaties\": 0.8319251994561286}, {\"string_low_card\": \"stringA\", \"floaties\": 0.04818773556563116}, {\"string_low_card\": \"stringB\", \"floaties\": 0.11240848320075869}, {\"string_low_card\": \"stringC\", \"floaties\": 0.11684514361259257}, {\"string_low_card\": \"stringA\", \"floaties\": 0.012950131573169599}, {\"string_low_card\": \"stringC\", \"floaties\": 0.42674025243630787}, {\"string_low_card\": \"stringC\", \"floaties\": 0.19339997976104784}, {\"string_low_card\": \"stringC\", \"floaties\": 0.6930066468230737}, {\"string_low_card\": \"stringA\", \"floaties\": 0.6287529327971967}, {\"string_low_card\": \"stringC\", \"floaties\": 0.19849864450471666}, {\"string_low_card\": \"stringC\", \"floaties\": 0.98469526241397}, {\"string_low_card\": \"stringA\", \"floaties\": 0.28892582874000927}, {\"string_low_card\": \"stringA\", \"floaties\": 0.5893616714463742}, {\"string_low_card\": \"stringA\", \"floaties\": 0.8184738645858212}, {\"string_low_card\": \"stringC\", \"floaties\": 0.8389030239343052}, {\"string_low_card\": \"stringB\", \"floaties\": 0.5686580128890408}, {\"string_low_card\": \"stringB\", \"floaties\": 0.41741576231994004}, {\"string_low_card\": \"stringA\", \"floaties\": 0.3260732888984813}, {\"string_low_card\": \"stringB\", \"floaties\": 0.39774861307588016}, {\"string_low_card\": \"stringC\", \"floaties\": 0.024759250164710367}, {\"string_low_card\": \"stringB\", \"floaties\": 0.7376555332001491}, {\"string_low_card\": \"stringC\", \"floaties\": 0.3866477512111768}, {\"string_low_card\": \"stringB\", \"floaties\": 0.8026686068721803}, {\"string_low_card\": \"stringA\", \"floaties\": 0.3010675350355798}, {\"string_low_card\": \"stringB\", \"floaties\": 0.7333464568089988}, {\"string_low_card\": \"stringB\", \"floaties\": 0.6109905708539465}, {\"string_low_card\": \"stringA\", \"floaties\": 0.3797714951586654}, {\"string_low_card\": \"stringB\", \"floaties\": 0.012957225487614576}, {\"string_low_card\": \"stringB\", \"floaties\": 0.9519498953359808}, {\"string_low_card\": \"stringC\", \"floaties\": 0.7511870347257306}, {\"string_low_card\": \"stringA\", \"floaties\": 0.053225108911716945}, {\"string_low_card\": \"stringB\", \"floaties\": 0.36476815782149996}, {\"string_low_card\": \"stringB\", \"floaties\": 0.706166031081306}, {\"string_low_card\": \"stringC\", \"floaties\": 0.17885574055521536}, {\"string_low_card\": \"stringB\", \"floaties\": 0.3576302075844735}, {\"string_low_card\": \"stringA\", \"floaties\": 0.4704750614677847}, {\"string_low_card\": \"stringA\", \"floaties\": 0.44247145035079904}, {\"string_low_card\": \"stringB\", \"floaties\": 0.8039709436222542}, {\"string_low_card\": \"stringA\", \"floaties\": 0.8621175858024847}, {\"string_low_card\": \"stringA\", \"floaties\": 0.1385316311788598}, {\"string_low_card\": \"stringA\", \"floaties\": 0.0956698475021448}, {\"string_low_card\": \"stringB\", \"floaties\": 0.8550289420064429}, {\"string_low_card\": \"stringC\", \"floaties\": 0.7308846271144835}, {\"string_low_card\": \"stringB\", \"floaties\": 0.11697973081562063}, {\"string_low_card\": \"stringB\", \"floaties\": 0.36101776047695155}, {\"string_low_card\": \"stringC\", \"floaties\": 0.36679759085240815}, {\"string_low_card\": \"stringC\", \"floaties\": 0.8060150151879665}, {\"string_low_card\": \"stringC\", \"floaties\": 0.46238119678615575}, {\"string_low_card\": \"stringA\", \"floaties\": 0.15830024090240757}, {\"string_low_card\": \"stringA\", \"floaties\": 0.42315032355636084}, {\"string_low_card\": \"stringC\", \"floaties\": 0.4473795401785061}, {\"string_low_card\": \"stringC\", \"floaties\": 0.14880835595342023}, {\"string_low_card\": \"stringA\", \"floaties\": 0.0733920257946139}, {\"string_low_card\": \"stringC\", \"floaties\": 0.4541753371482028}, {\"string_low_card\": \"stringA\", \"floaties\": 0.18891747269136427}, {\"string_low_card\": \"stringB\", \"floaties\": 0.5852585363947209}, {\"string_low_card\": \"stringA\", \"floaties\": 0.6518299945631842}, {\"string_low_card\": \"stringA\", \"floaties\": 0.49467723746609027}, {\"string_low_card\": \"stringA\", \"floaties\": 0.26637179471847117}, {\"string_low_card\": \"stringA\", \"floaties\": 0.5751940455305548}, {\"string_low_card\": \"stringB\", \"floaties\": 0.6341051992717968}, {\"string_low_card\": \"stringB\", \"floaties\": 0.7344597654622088}, {\"string_low_card\": \"stringC\", \"floaties\": 0.9173435032471062}, {\"string_low_card\": \"stringC\", \"floaties\": 0.6967055819134589}, {\"string_low_card\": \"stringB\", \"floaties\": 0.8898875087839895}, {\"string_low_card\": \"stringB\", \"floaties\": 0.85486337706629}, {\"string_low_card\": \"stringA\", \"floaties\": 0.5050640863196715}, {\"string_low_card\": \"stringB\", \"floaties\": 0.5513429487001874}, {\"string_low_card\": \"stringC\", \"floaties\": 0.2705548644758836}, {\"string_low_card\": \"stringC\", \"floaties\": 0.036807698492065666}, {\"string_low_card\": \"stringC\", \"floaties\": 0.33671787394396324}, {\"string_low_card\": \"stringB\", \"floaties\": 0.08013583743788533}, {\"string_low_card\": \"stringC\", \"floaties\": 0.9361983245439167}, {\"string_low_card\": \"stringC\", \"floaties\": 0.07248568551697943}, {\"string_low_card\": \"stringC\", \"floaties\": 0.53362715315439}, {\"string_low_card\": \"stringC\", \"floaties\": 0.1431287210385458}, {\"string_low_card\": \"stringA\", \"floaties\": 0.8315808000126521}, {\"string_low_card\": \"stringB\", \"floaties\": 0.22854532097724234}, {\"string_low_card\": \"stringA\", \"floaties\": 0.16434045015409982}, {\"string_low_card\": \"stringA\", \"floaties\": 0.8541183301065934}, {\"string_low_card\": \"stringC\", \"floaties\": 0.8193577623685913}, {\"string_low_card\": \"stringB\", \"floaties\": 0.15918692630965325}, {\"string_low_card\": \"stringB\", \"floaties\": 0.33462991677742293}, {\"string_low_card\": \"stringC\", \"floaties\": 0.5373984217367883}, {\"string_low_card\": \"stringC\", \"floaties\": 0.1798504981196818}, {\"string_low_card\": \"stringB\", \"floaties\": 0.6484524813105462}, {\"string_low_card\": \"stringB\", \"floaties\": 0.6695414347713735}, {\"string_low_card\": \"stringC\", \"floaties\": 0.6857923897782794}, {\"string_low_card\": \"stringB\", \"floaties\": 0.7912412939938169}, {\"string_low_card\": \"stringB\", \"floaties\": 0.254122548463241}, {\"string_low_card\": \"stringC\", \"floaties\": 0.18953080825410207}, {\"string_low_card\": \"stringA\", \"floaties\": 0.29457645134644383}, {\"string_low_card\": \"stringC\", \"floaties\": 0.08297725448632365}, {\"string_low_card\": \"stringC\", \"floaties\": 0.07120049888551794}, {\"string_low_card\": \"stringB\", \"floaties\": 0.3853253356981473}, {\"string_low_card\": \"stringB\", \"floaties\": 0.7833710526767061}, {\"string_low_card\": \"stringA\", \"floaties\": 0.3591201398386069}, {\"string_low_card\": \"stringA\", \"floaties\": 0.5643658595838128}, {\"string_low_card\": \"stringA\", \"floaties\": 0.3115780912649847}, {\"string_low_card\": \"stringA\", \"floaties\": 0.701520449643958}, {\"string_low_card\": \"stringC\", \"floaties\": 0.0155465899195667}, {\"string_low_card\": \"stringA\", \"floaties\": 0.40772714858711356}, {\"string_low_card\": \"stringC\", \"floaties\": 0.635234218855804}, {\"string_low_card\": \"stringA\", \"floaties\": 0.2976988403594496}, {\"string_low_card\": \"stringA\", \"floaties\": 0.028905683789824055}, {\"string_low_card\": \"stringC\", \"floaties\": 0.5015657492404059}, {\"string_low_card\": \"stringA\", \"floaties\": 0.6081830538628065}, {\"string_low_card\": \"stringB\", \"floaties\": 0.76221621839031}, {\"string_low_card\": \"stringC\", \"floaties\": 0.28544324108435537}, {\"string_low_card\": \"stringB\", \"floaties\": 0.8519065965887287}, {\"string_low_card\": \"stringB\", \"floaties\": 0.1453656017439765}, {\"string_low_card\": \"stringA\", \"floaties\": 0.3389579497604073}, {\"string_low_card\": \"stringC\", \"floaties\": 0.4226904354392874}, {\"string_low_card\": \"stringC\", \"floaties\": 0.28710744829662926}, {\"string_low_card\": \"stringC\", \"floaties\": 0.86336853990512}, {\"string_low_card\": \"stringB\", \"floaties\": 0.31528190930984845}, {\"string_low_card\": \"stringB\", \"floaties\": 0.329232804421031}, {\"string_low_card\": \"stringC\", \"floaties\": 0.8634831425889677}, {\"string_low_card\": \"stringA\", \"floaties\": 0.5002427743475826}, {\"string_low_card\": \"stringB\", \"floaties\": 0.8528379092619649}, {\"string_low_card\": \"stringA\", \"floaties\": 0.3226601468069259}, {\"string_low_card\": \"stringB\", \"floaties\": 0.9326618969499475}, {\"string_low_card\": \"stringC\", \"floaties\": 0.7119104454375572}, {\"string_low_card\": \"stringB\", \"floaties\": 0.998511260230115}, {\"string_low_card\": \"stringB\", \"floaties\": 0.2661623869080554}, {\"string_low_card\": \"stringB\", \"floaties\": 0.6289156170866637}, {\"string_low_card\": \"stringC\", \"floaties\": 0.6774990041467367}, {\"string_low_card\": \"stringB\", \"floaties\": 0.3181524614793202}, {\"string_low_card\": \"stringA\", \"floaties\": 0.49537235079509556}, {\"string_low_card\": \"stringC\", \"floaties\": 0.09024664048231967}, {\"string_low_card\": \"stringB\", \"floaties\": 0.8459032575824497}, {\"string_low_card\": \"stringC\", \"floaties\": 0.14753373500609135}, {\"string_low_card\": \"stringB\", \"floaties\": 0.2907922291431566}, {\"string_low_card\": \"stringA\", \"floaties\": 0.6715440579302934}, {\"string_low_card\": \"stringA\", \"floaties\": 0.9504770450823301}, {\"string_low_card\": \"stringC\", \"floaties\": 0.480925862279333}, {\"string_low_card\": \"stringA\", \"floaties\": 0.8458514001266221}, {\"string_low_card\": \"stringC\", \"floaties\": 0.2895935040254184}, {\"string_low_card\": \"stringC\", \"floaties\": 0.4826925185477112}, {\"string_low_card\": \"stringB\", \"floaties\": 0.7492787276419162}, {\"string_low_card\": \"stringB\", \"floaties\": 0.7987259826635613}, {\"string_low_card\": \"stringC\", \"floaties\": 0.1983677742127754}, {\"string_low_card\": \"stringC\", \"floaties\": 0.43157982579194076}, {\"string_low_card\": \"stringA\", \"floaties\": 0.10034431357607121}, {\"string_low_card\": \"stringC\", \"floaties\": 0.00954182915890256}, {\"string_low_card\": \"stringC\", \"floaties\": 0.4322366839964473}, {\"string_low_card\": \"stringA\", \"floaties\": 0.9554125885102713}, {\"string_low_card\": \"stringA\", \"floaties\": 0.3041395392483838}, {\"string_low_card\": \"stringA\", \"floaties\": 0.3817101196822734}, {\"string_low_card\": \"stringC\", \"floaties\": 0.0022183830488951006}, {\"string_low_card\": \"stringA\", \"floaties\": 0.10268153479060371}, {\"string_low_card\": \"stringC\", \"floaties\": 0.20279323300864627}, {\"string_low_card\": \"stringA\", \"floaties\": 0.6826393758394226}, {\"string_low_card\": \"stringC\", \"floaties\": 0.2056270818496052}, {\"string_low_card\": \"stringA\", \"floaties\": 0.46570794080808653}, {\"string_low_card\": \"stringB\", \"floaties\": 0.6189962049508058}, {\"string_low_card\": \"stringB\", \"floaties\": 0.6866524145798624}, {\"string_low_card\": \"stringA\", \"floaties\": 0.6915183457677434}, {\"string_low_card\": \"stringA\", \"floaties\": 0.21066018894331606}, {\"string_low_card\": \"stringB\", \"floaties\": 0.2606359187675199}, {\"string_low_card\": \"stringC\", \"floaties\": 0.06385021377959876}, {\"string_low_card\": \"stringA\", \"floaties\": 0.115718762958678}, {\"string_low_card\": \"stringA\", \"floaties\": 0.07356220758059384}, {\"string_low_card\": \"stringA\", \"floaties\": 0.22729243673118904}, {\"string_low_card\": \"stringB\", \"floaties\": 0.5606436461164102}, {\"string_low_card\": \"stringC\", \"floaties\": 0.9283029724654579}, {\"string_low_card\": \"stringC\", \"floaties\": 0.9286763662768714}, {\"string_low_card\": \"stringC\", \"floaties\": 0.22897006072639015}, {\"string_low_card\": \"stringC\", \"floaties\": 0.2765040247431292}, {\"string_low_card\": \"stringC\", \"floaties\": 0.274577035039525}, {\"string_low_card\": \"stringB\", \"floaties\": 0.834202937186173}, {\"string_low_card\": \"stringA\", \"floaties\": 0.9146961196790218}, {\"string_low_card\": \"stringC\", \"floaties\": 0.6152523614638306}, {\"string_low_card\": \"stringB\", \"floaties\": 0.21822742020673336}, {\"string_low_card\": \"stringC\", \"floaties\": 0.7667783482254323}, {\"string_low_card\": \"stringA\", \"floaties\": 0.9271439273609982}, {\"string_low_card\": \"stringA\", \"floaties\": 0.21588597769475393}, {\"string_low_card\": \"stringA\", \"floaties\": 0.5791391205283775}, {\"string_low_card\": \"stringA\", \"floaties\": 0.8576641741705578}, {\"string_low_card\": \"stringB\", \"floaties\": 0.12367069332533465}, {\"string_low_card\": \"stringC\", \"floaties\": 0.6239069455977121}, {\"string_low_card\": \"stringC\", \"floaties\": 0.7447213166133096}, {\"string_low_card\": \"stringB\", \"floaties\": 0.5026808453722229}, {\"string_low_card\": \"stringA\", \"floaties\": 0.7514741884017804}, {\"string_low_card\": \"stringB\", \"floaties\": 0.7887326616231727}, {\"string_low_card\": \"stringB\", \"floaties\": 0.9580695554214814}, {\"string_low_card\": \"stringC\", \"floaties\": 0.10034373587358991}, {\"string_low_card\": \"stringC\", \"floaties\": 0.20422698134851125}, {\"string_low_card\": \"stringB\", \"floaties\": 0.05816215377241096}, {\"string_low_card\": \"stringB\", \"floaties\": 0.5194848164755126}, {\"string_low_card\": \"stringB\", \"floaties\": 0.12270733869605088}, {\"string_low_card\": \"stringA\", \"floaties\": 0.03646509212871485}, {\"string_low_card\": \"stringA\", \"floaties\": 0.386627706574341}, {\"string_low_card\": \"stringA\", \"floaties\": 0.28414027091178073}, {\"string_low_card\": \"stringA\", \"floaties\": 0.6186575264686508}, {\"string_low_card\": \"stringA\", \"floaties\": 0.05974711404132316}, {\"string_low_card\": \"stringC\", \"floaties\": 0.6170671039679927}, {\"string_low_card\": \"stringC\", \"floaties\": 0.7932585693258045}, {\"string_low_card\": \"stringC\", \"floaties\": 0.3105674370863527}, {\"string_low_card\": \"stringC\", \"floaties\": 0.6571526813375715}, {\"string_low_card\": \"stringB\", \"floaties\": 0.40159397548256015}, {\"string_low_card\": \"stringA\", \"floaties\": 0.7837174121676062}, {\"string_low_card\": \"stringC\", \"floaties\": 0.32441637063993667}, {\"string_low_card\": \"stringC\", \"floaties\": 0.8314665685481628}, {\"string_low_card\": \"stringA\", \"floaties\": 0.044648133181015126}, {\"string_low_card\": \"stringC\", \"floaties\": 0.967706333263064}, {\"string_low_card\": \"stringC\", \"floaties\": 0.994650327385022}, {\"string_low_card\": \"stringC\", \"floaties\": 0.24478006738103242}, {\"string_low_card\": \"stringA\", \"floaties\": 0.36161364702056076}, {\"string_low_card\": \"stringA\", \"floaties\": 0.12056516122875527}, {\"string_low_card\": \"stringC\", \"floaties\": 0.7593127394573865}, {\"string_low_card\": \"stringC\", \"floaties\": 0.6475837062535168}, {\"string_low_card\": \"stringB\", \"floaties\": 0.5807842885995922}, {\"string_low_card\": \"stringB\", \"floaties\": 0.18925430934057874}, {\"string_low_card\": \"stringB\", \"floaties\": 0.632933379163202}, {\"string_low_card\": \"stringA\", \"floaties\": 0.10645581939798665}, {\"string_low_card\": \"stringA\", \"floaties\": 0.7381201163243557}, {\"string_low_card\": \"stringC\", \"floaties\": 0.6263924387584711}, {\"string_low_card\": \"stringA\", \"floaties\": 0.3657567052017022}, {\"string_low_card\": \"stringC\", \"floaties\": 0.9050298481240053}, {\"string_low_card\": \"stringC\", \"floaties\": 0.6093945956618981}, {\"string_low_card\": \"stringC\", \"floaties\": 0.9009013259399898}, {\"string_low_card\": \"stringB\", \"floaties\": 0.8363427014587591}, {\"string_low_card\": \"stringA\", \"floaties\": 0.12574030474833564}, {\"string_low_card\": \"stringC\", \"floaties\": 0.606572950177384}, {\"string_low_card\": \"stringB\", \"floaties\": 0.9456829990785784}, {\"string_low_card\": \"stringA\", \"floaties\": 0.8834588057767699}, {\"string_low_card\": \"stringC\", \"floaties\": 0.12976253250468905}, {\"string_low_card\": \"stringB\", \"floaties\": 0.8420628986308661}, {\"string_low_card\": \"stringA\", \"floaties\": 0.542366750564884}, {\"string_low_card\": \"stringC\", \"floaties\": 0.3611948218273149}, {\"string_low_card\": \"stringA\", \"floaties\": 0.0310332658135678}, {\"string_low_card\": \"stringA\", \"floaties\": 0.13180334571472796}, {\"string_low_card\": \"stringB\", \"floaties\": 0.06324695851984696}, {\"string_low_card\": \"stringA\", \"floaties\": 0.26456198299702127}, {\"string_low_card\": \"stringB\", \"floaties\": 0.14582826766532442}, {\"string_low_card\": \"stringC\", \"floaties\": 0.14821544805484677}, {\"string_low_card\": \"stringA\", \"floaties\": 0.03154690498509993}, {\"string_low_card\": \"stringC\", \"floaties\": 0.43564394491679637}, {\"string_low_card\": \"stringA\", \"floaties\": 0.5824231157693875}, {\"string_low_card\": \"stringA\", \"floaties\": 0.3284710819930159}, {\"string_low_card\": \"stringC\", \"floaties\": 0.4632742054572896}, {\"string_low_card\": \"stringA\", \"floaties\": 0.9087998901035417}, {\"string_low_card\": \"stringB\", \"floaties\": 0.8409894895592195}, {\"string_low_card\": \"stringC\", \"floaties\": 0.9442179341137751}, {\"string_low_card\": \"stringC\", \"floaties\": 0.301348217443143}, {\"string_low_card\": \"stringC\", \"floaties\": 0.17102615547656663}, {\"string_low_card\": \"stringA\", \"floaties\": 0.34722020304054413}, {\"string_low_card\": \"stringC\", \"floaties\": 0.36637377822901784}, {\"string_low_card\": \"stringA\", \"floaties\": 0.6746044610690922}, {\"string_low_card\": \"stringB\", \"floaties\": 0.3274904119029467}, {\"string_low_card\": \"stringA\", \"floaties\": 0.334113743584197}, {\"string_low_card\": \"stringC\", \"floaties\": 0.7401461854109147}, {\"string_low_card\": \"stringC\", \"floaties\": 0.6142070203434347}, {\"string_low_card\": \"stringC\", \"floaties\": 0.07687222246933278}, {\"string_low_card\": \"stringB\", \"floaties\": 0.3526653708422417}, {\"string_low_card\": \"stringA\", \"floaties\": 0.14997458724640467}, {\"string_low_card\": \"stringC\", \"floaties\": 0.9536475588228003}, {\"string_low_card\": \"stringC\", \"floaties\": 0.19075569965708072}, {\"string_low_card\": \"stringC\", \"floaties\": 0.8416779388630038}, {\"string_low_card\": \"stringC\", \"floaties\": 0.3067822878334159}, {\"string_low_card\": \"stringC\", \"floaties\": 0.03783582725466195}, {\"string_low_card\": \"stringB\", \"floaties\": 0.7677395974316868}, {\"string_low_card\": \"stringB\", \"floaties\": 0.5684173886624523}, {\"string_low_card\": \"stringA\", \"floaties\": 0.4271066878229237}, {\"string_low_card\": \"stringB\", \"floaties\": 0.21984236574229588}, {\"string_low_card\": \"stringB\", \"floaties\": 0.880932993938317}, {\"string_low_card\": \"stringC\", \"floaties\": 0.961234410834499}, {\"string_low_card\": \"stringA\", \"floaties\": 0.26790154786899667}, {\"string_low_card\": \"stringC\", \"floaties\": 0.11853603755825659}, {\"string_low_card\": \"stringA\", \"floaties\": 0.21361414806727697}, {\"string_low_card\": \"stringC\", \"floaties\": 0.8044911349272055}, {\"string_low_card\": \"stringA\", \"floaties\": 0.052670822372758996}, {\"string_low_card\": \"stringA\", \"floaties\": 0.6796938523748011}, {\"string_low_card\": \"stringC\", \"floaties\": 0.4971749199909248}, {\"string_low_card\": \"stringB\", \"floaties\": 0.2656276272102729}, {\"string_low_card\": \"stringC\", \"floaties\": 0.4251710320929636}, {\"string_low_card\": \"stringB\", \"floaties\": 0.27645842780608065}, {\"string_low_card\": \"stringA\", \"floaties\": 0.4615564939032438}, {\"string_low_card\": \"stringC\", \"floaties\": 0.9253251677090274}, {\"string_low_card\": \"stringA\", \"floaties\": 0.24880990043728612}, {\"string_low_card\": \"stringB\", \"floaties\": 0.3000863102975537}, {\"string_low_card\": \"stringA\", \"floaties\": 0.7568240526994574}, {\"string_low_card\": \"stringB\", \"floaties\": 0.8883875004155474}, {\"string_low_card\": \"stringA\", \"floaties\": 0.9913119040434741}, {\"string_low_card\": \"stringC\", \"floaties\": 0.3708419408539273}, {\"string_low_card\": \"stringA\", \"floaties\": 0.2657398527643482}, {\"string_low_card\": \"stringB\", \"floaties\": 0.8664334349176481}, {\"string_low_card\": \"stringC\", \"floaties\": 0.048133352413690655}, {\"string_low_card\": \"stringC\", \"floaties\": 0.9363215374159934}, {\"string_low_card\": \"stringC\", \"floaties\": 0.6597022514165207}, {\"string_low_card\": \"stringC\", \"floaties\": 0.40375655206859296}, {\"string_low_card\": \"stringC\", \"floaties\": 0.7931715855664762}, {\"string_low_card\": \"stringB\", \"floaties\": 0.5245388539793531}, {\"string_low_card\": \"stringC\", \"floaties\": 0.9437190468921545}, {\"string_low_card\": \"stringC\", \"floaties\": 0.7137778043040854}, {\"string_low_card\": \"stringA\", \"floaties\": 0.3662902438766158}, {\"string_low_card\": \"stringA\", \"floaties\": 0.3075098018228004}, {\"string_low_card\": \"stringC\", \"floaties\": 0.83108305426495}, {\"string_low_card\": \"stringC\", \"floaties\": 0.9163392448077021}, {\"string_low_card\": \"stringA\", \"floaties\": 0.45935108101322164}, {\"string_low_card\": \"stringB\", \"floaties\": 0.04203581283084268}, {\"string_low_card\": \"stringB\", \"floaties\": 0.28164063044672494}, {\"string_low_card\": \"stringB\", \"floaties\": 0.09063201822424705}, {\"string_low_card\": \"stringC\", \"floaties\": 0.49373187247121186}, {\"string_low_card\": \"stringB\", \"floaties\": 0.8680294502167668}, {\"string_low_card\": \"stringB\", \"floaties\": 0.804331230886724}, {\"string_low_card\": \"stringA\", \"floaties\": 0.9519062443233357}, {\"string_low_card\": \"stringB\", \"floaties\": 0.05110888623694465}, {\"string_low_card\": \"stringA\", \"floaties\": 0.9299350834523477}, {\"string_low_card\": \"stringC\", \"floaties\": 0.657325373134835}, {\"string_low_card\": \"stringB\", \"floaties\": 0.46539712872088934}, {\"string_low_card\": \"stringA\", \"floaties\": 0.42791256402651145}, {\"string_low_card\": \"stringA\", \"floaties\": 0.15937748448385103}, {\"string_low_card\": \"stringA\", \"floaties\": 0.33821242113891425}, {\"string_low_card\": \"stringB\", \"floaties\": 0.4702764976317676}, {\"string_low_card\": \"stringC\", \"floaties\": 0.8107933324555011}, {\"string_low_card\": \"stringC\", \"floaties\": 0.5852035455043197}, {\"string_low_card\": \"stringC\", \"floaties\": 0.7855304155442512}, {\"string_low_card\": \"stringA\", \"floaties\": 0.26513349318803503}, {\"string_low_card\": \"stringA\", \"floaties\": 0.6832439555124362}, {\"string_low_card\": \"stringB\", \"floaties\": 0.03807907968201474}, {\"string_low_card\": \"stringC\", \"floaties\": 0.023035081238232613}, {\"string_low_card\": \"stringA\", \"floaties\": 0.4973514231364786}, {\"string_low_card\": \"stringB\", \"floaties\": 0.7380582571504543}, {\"string_low_card\": \"stringB\", \"floaties\": 0.5621187881836847}, {\"string_low_card\": \"stringA\", \"floaties\": 0.9800942021486019}, {\"string_low_card\": \"stringA\", \"floaties\": 0.02939887943603703}, {\"string_low_card\": \"stringB\", \"floaties\": 0.9434717466899804}, {\"string_low_card\": \"stringB\", \"floaties\": 0.705099711703354}, {\"string_low_card\": \"stringA\", \"floaties\": 0.20843731378398556}, {\"string_low_card\": \"stringC\", \"floaties\": 0.3767483300595239}, {\"string_low_card\": \"stringB\", \"floaties\": 0.8359270327856242}, {\"string_low_card\": \"stringB\", \"floaties\": 0.31183593409946064}, {\"string_low_card\": \"stringC\", \"floaties\": 0.6652621114208435}, {\"string_low_card\": \"stringB\", \"floaties\": 0.8339581889222691}, {\"string_low_card\": \"stringB\", \"floaties\": 0.4694795018086916}, {\"string_low_card\": \"stringC\", \"floaties\": 0.39929072257403264}, {\"string_low_card\": \"stringC\", \"floaties\": 0.7024180942057516}, {\"string_low_card\": \"stringB\", \"floaties\": 0.06393368200651262}, {\"string_low_card\": \"stringB\", \"floaties\": 0.7257752592829861}, {\"string_low_card\": \"stringA\", \"floaties\": 0.8356404205430444}, {\"string_low_card\": \"stringC\", \"floaties\": 0.5333989991169494}, {\"string_low_card\": \"stringA\", \"floaties\": 0.14126255235513396}, {\"string_low_card\": \"stringB\", \"floaties\": 0.06476300313291561}, {\"string_low_card\": \"stringC\", \"floaties\": 0.7542052174175601}, {\"string_low_card\": \"stringB\", \"floaties\": 0.4685679231320212}, {\"string_low_card\": \"stringA\", \"floaties\": 0.048786348952841174}, {\"string_low_card\": \"stringA\", \"floaties\": 0.08248336764379516}, {\"string_low_card\": \"stringA\", \"floaties\": 0.9785531967932044}, {\"string_low_card\": \"stringB\", \"floaties\": 0.6194052893079404}, {\"string_low_card\": \"stringC\", \"floaties\": 0.6504496572951242}, {\"string_low_card\": \"stringB\", \"floaties\": 0.9391488927359001}, {\"string_low_card\": \"stringC\", \"floaties\": 0.23597275369544035}, {\"string_low_card\": \"stringA\", \"floaties\": 0.5016789519764298}, {\"string_low_card\": \"stringC\", \"floaties\": 0.19996717277791176}, {\"string_low_card\": \"stringB\", \"floaties\": 0.586119131591152}, {\"string_low_card\": \"stringC\", \"floaties\": 0.7491678746487715}, {\"string_low_card\": \"stringB\", \"floaties\": 0.6399904578463925}, {\"string_low_card\": \"stringA\", \"floaties\": 0.38318376442011814}, {\"string_low_card\": \"stringC\", \"floaties\": 0.7434293670355335}, {\"string_low_card\": \"stringB\", \"floaties\": 0.53810431965139}, {\"string_low_card\": \"stringB\", \"floaties\": 0.9974786146394657}, {\"string_low_card\": \"stringA\", \"floaties\": 0.6370797104045836}, {\"string_low_card\": \"stringC\", \"floaties\": 0.30983277615438265}, {\"string_low_card\": \"stringB\", \"floaties\": 0.06551147778884148}, {\"string_low_card\": \"stringB\", \"floaties\": 0.5292466505208065}, {\"string_low_card\": \"stringB\", \"floaties\": 0.942036972703319}, {\"string_low_card\": \"stringB\", \"floaties\": 0.6795918790775601}, {\"string_low_card\": \"stringC\", \"floaties\": 0.8435720903522513}, {\"string_low_card\": \"stringB\", \"floaties\": 0.4509092224426744}, {\"string_low_card\": \"stringC\", \"floaties\": 0.1487562033970128}, {\"string_low_card\": \"stringC\", \"floaties\": 0.6303323424102282}, {\"string_low_card\": \"stringC\", \"floaties\": 0.503974544306764}, {\"string_low_card\": \"stringC\", \"floaties\": 0.2909061477381485}, {\"string_low_card\": \"stringC\", \"floaties\": 0.26503707010309807}, {\"string_low_card\": \"stringA\", \"floaties\": 0.2917716384522858}, {\"string_low_card\": \"stringB\", \"floaties\": 0.14812017069555594}, {\"string_low_card\": \"stringA\", \"floaties\": 0.22496710531653275}, {\"string_low_card\": \"stringA\", \"floaties\": 0.9313057146410139}, {\"string_low_card\": \"stringA\", \"floaties\": 0.3586661428855158}, {\"string_low_card\": \"stringA\", \"floaties\": 0.4682232605271136}, {\"string_low_card\": \"stringC\", \"floaties\": 0.07685467551195468}, {\"string_low_card\": \"stringB\", \"floaties\": 0.31113010120362206}, {\"string_low_card\": \"stringC\", \"floaties\": 0.5259582291216901}, {\"string_low_card\": \"stringC\", \"floaties\": 0.2726214533778424}, {\"string_low_card\": \"stringB\", \"floaties\": 0.9025140326781728}, {\"string_low_card\": \"stringC\", \"floaties\": 0.26183856004496886}, {\"string_low_card\": \"stringA\", \"floaties\": 0.8048103699487645}, {\"string_low_card\": \"stringC\", \"floaties\": 0.4057563299040444}, {\"string_low_card\": \"stringB\", \"floaties\": 0.2694028497088282}, {\"string_low_card\": \"stringC\", \"floaties\": 0.21132759509258836}, {\"string_low_card\": \"stringB\", \"floaties\": 0.8752951929352067}, {\"string_low_card\": \"stringA\", \"floaties\": 0.8487815178997941}, {\"string_low_card\": \"stringA\", \"floaties\": 0.9266160596203769}, {\"string_low_card\": \"stringC\", \"floaties\": 0.3275168780488643}, {\"string_low_card\": \"stringA\", \"floaties\": 0.2672868296708557}, {\"string_low_card\": \"stringB\", \"floaties\": 0.26253755745944574}, {\"string_low_card\": \"stringB\", \"floaties\": 0.7801183193109448}, {\"string_low_card\": \"stringB\", \"floaties\": 0.5968137619641752}, {\"string_low_card\": \"stringB\", \"floaties\": 0.20358175125015854}, {\"string_low_card\": \"stringC\", \"floaties\": 0.5131826961739232}, {\"string_low_card\": \"stringB\", \"floaties\": 0.4794368461543448}, {\"string_low_card\": \"stringA\", \"floaties\": 0.9473487490343911}, {\"string_low_card\": \"stringC\", \"floaties\": 0.5851862202591323}, {\"string_low_card\": \"stringA\", \"floaties\": 0.8765531567949232}, {\"string_low_card\": \"stringB\", \"floaties\": 0.9727399888523903}, {\"string_low_card\": \"stringA\", \"floaties\": 0.5248777327249347}, {\"string_low_card\": \"stringA\", \"floaties\": 0.3577961346649472}, {\"string_low_card\": \"stringC\", \"floaties\": 0.34352733412624525}, {\"string_low_card\": \"stringB\", \"floaties\": 0.24422935634158716}, {\"string_low_card\": \"stringC\", \"floaties\": 0.7450083682105773}, {\"string_low_card\": \"stringB\", \"floaties\": 0.9280527507656318}, {\"string_low_card\": \"stringB\", \"floaties\": 0.27410453370747256}, {\"string_low_card\": \"stringA\", \"floaties\": 0.1849983662717839}, {\"string_low_card\": \"stringC\", \"floaties\": 0.2814160014303356}, {\"string_low_card\": \"stringB\", \"floaties\": 0.42111489617716547}, {\"string_low_card\": \"stringA\", \"floaties\": 0.5823677850026986}, {\"string_low_card\": \"stringC\", \"floaties\": 0.6102683874470821}, {\"string_low_card\": \"stringC\", \"floaties\": 0.4371471558806833}, {\"string_low_card\": \"stringB\", \"floaties\": 0.4433876137421181}, {\"string_low_card\": \"stringA\", \"floaties\": 0.3375250437499814}, {\"string_low_card\": \"stringA\", \"floaties\": 0.7285179358754706}, {\"string_low_card\": \"stringC\", \"floaties\": 0.9361514576156238}, {\"string_low_card\": \"stringA\", \"floaties\": 0.819037153087965}, {\"string_low_card\": \"stringB\", \"floaties\": 0.8183927640564005}, {\"string_low_card\": \"stringA\", \"floaties\": 0.3270506841994253}, {\"string_low_card\": \"stringC\", \"floaties\": 0.6100564508657926}, {\"string_low_card\": \"stringC\", \"floaties\": 0.017408170917783572}, {\"string_low_card\": \"stringC\", \"floaties\": 0.9604844154309123}, {\"string_low_card\": \"stringA\", \"floaties\": 0.7253003172682757}, {\"string_low_card\": \"stringC\", \"floaties\": 0.5914403462648701}, {\"string_low_card\": \"stringC\", \"floaties\": 0.5095888898140235}, {\"string_low_card\": \"stringA\", \"floaties\": 0.9025355711914046}, {\"string_low_card\": \"stringB\", \"floaties\": 0.10399372139526031}, {\"string_low_card\": \"stringC\", \"floaties\": 0.8536029033883502}, {\"string_low_card\": \"stringA\", \"floaties\": 0.37578774278466065}, {\"string_low_card\": \"stringA\", \"floaties\": 0.5114616843177401}, {\"string_low_card\": \"stringC\", \"floaties\": 0.6636087264110947}, {\"string_low_card\": \"stringA\", \"floaties\": 0.6749732888188804}, {\"string_low_card\": \"stringC\", \"floaties\": 0.5235803239323458}, {\"string_low_card\": \"stringA\", \"floaties\": 0.5138024475885015}, {\"string_low_card\": \"stringC\", \"floaties\": 0.7589926209290232}, {\"string_low_card\": \"stringA\", \"floaties\": 0.6718281151802835}, {\"string_low_card\": \"stringB\", \"floaties\": 0.7052892571024449}, {\"string_low_card\": \"stringA\", \"floaties\": 0.5215392419567799}, {\"string_low_card\": \"stringB\", \"floaties\": 0.6888971491597513}, {\"string_low_card\": \"stringC\", \"floaties\": 0.49522111722936124}, {\"string_low_card\": \"stringC\", \"floaties\": 0.7984834177920177}, {\"string_low_card\": \"stringA\", \"floaties\": 0.729855690174098}, {\"string_low_card\": \"stringA\", \"floaties\": 0.6976578604520363}, {\"string_low_card\": \"stringC\", \"floaties\": 0.03488572544945967}, {\"string_low_card\": \"stringA\", \"floaties\": 0.9144180912887834}, {\"string_low_card\": \"stringB\", \"floaties\": 0.6893682207369537}, {\"string_low_card\": \"stringC\", \"floaties\": 0.1377981740569839}, {\"string_low_card\": \"stringC\", \"floaties\": 0.6806566941777267}, {\"string_low_card\": \"stringC\", \"floaties\": 0.8882139017236892}, {\"string_low_card\": \"stringB\", \"floaties\": 0.13910201727214577}, {\"string_low_card\": \"stringB\", \"floaties\": 0.7438389439064211}, {\"string_low_card\": \"stringA\", \"floaties\": 0.06681627784000521}, {\"string_low_card\": \"stringC\", \"floaties\": 0.9303022911595772}, {\"string_low_card\": \"stringA\", \"floaties\": 0.855207696711686}, {\"string_low_card\": \"stringB\", \"floaties\": 0.04376006515303854}, {\"string_low_card\": \"stringC\", \"floaties\": 0.4722075383337717}, {\"string_low_card\": \"stringA\", \"floaties\": 0.1080463042893609}, {\"string_low_card\": \"stringC\", \"floaties\": 0.6981294756126183}, {\"string_low_card\": \"stringC\", \"floaties\": 0.5594743116482532}, {\"string_low_card\": \"stringA\", \"floaties\": 0.21624061789258742}, {\"string_low_card\": \"stringA\", \"floaties\": 0.013485000796510938}, {\"string_low_card\": \"stringB\", \"floaties\": 0.0910261848185836}, {\"string_low_card\": \"stringA\", \"floaties\": 0.9976471034506663}, {\"string_low_card\": \"stringC\", \"floaties\": 0.719783613662407}, {\"string_low_card\": \"stringA\", \"floaties\": 0.8544093603720851}, {\"string_low_card\": \"stringA\", \"floaties\": 0.5997815947539148}, {\"string_low_card\": \"stringA\", \"floaties\": 0.03146773280160542}, {\"string_low_card\": \"stringB\", \"floaties\": 0.44769588995470877}, {\"string_low_card\": \"stringB\", \"floaties\": 0.38979024671584783}, {\"string_low_card\": \"stringC\", \"floaties\": 0.6291441296283221}, {\"string_low_card\": \"stringB\", \"floaties\": 0.4193244051444309}, {\"string_low_card\": \"stringC\", \"floaties\": 0.7842563490265948}, {\"string_low_card\": \"stringB\", \"floaties\": 0.9315942452900073}, {\"string_low_card\": \"stringA\", \"floaties\": 0.7777230063964925}, {\"string_low_card\": \"stringB\", \"floaties\": 0.5479051354631774}, {\"string_low_card\": \"stringB\", \"floaties\": 0.23008517302837905}, {\"string_low_card\": \"stringA\", \"floaties\": 0.2837892802798171}, {\"string_low_card\": \"stringC\", \"floaties\": 0.8677474706904001}, {\"string_low_card\": \"stringB\", \"floaties\": 0.6273841043601155}, {\"string_low_card\": \"stringA\", \"floaties\": 0.4962290144781125}, {\"string_low_card\": \"stringB\", \"floaties\": 0.06350692664969348}, {\"string_low_card\": \"stringA\", \"floaties\": 0.7275032740701649}, {\"string_low_card\": \"stringB\", \"floaties\": 0.13727020425795333}, {\"string_low_card\": \"stringA\", \"floaties\": 0.718734984410881}, {\"string_low_card\": \"stringB\", \"floaties\": 0.6693001112321765}, {\"string_low_card\": \"stringC\", \"floaties\": 0.355655532160543}, {\"string_low_card\": \"stringA\", \"floaties\": 0.9204803512294356}, {\"string_low_card\": \"stringB\", \"floaties\": 0.130165420483347}, {\"string_low_card\": \"stringB\", \"floaties\": 0.9825758935753461}, {\"string_low_card\": \"stringB\", \"floaties\": 0.5805548270600599}, {\"string_low_card\": \"stringA\", \"floaties\": 0.07545326949866382}, {\"string_low_card\": \"stringA\", \"floaties\": 0.7666070578899528}, {\"string_low_card\": \"stringB\", \"floaties\": 0.7845949065507584}, {\"string_low_card\": \"stringC\", \"floaties\": 0.5806357214713561}, {\"string_low_card\": \"stringB\", \"floaties\": 0.4458085708084224}, {\"string_low_card\": \"stringA\", \"floaties\": 0.869048156865878}, {\"string_low_card\": \"stringA\", \"floaties\": 0.7781097579400235}, {\"string_low_card\": \"stringB\", \"floaties\": 0.874438246359317}, {\"string_low_card\": \"stringA\", \"floaties\": 0.04967409037634607}, {\"string_low_card\": \"stringC\", \"floaties\": 0.4222989523634624}, {\"string_low_card\": \"stringC\", \"floaties\": 0.18254425721743484}, {\"string_low_card\": \"stringA\", \"floaties\": 0.6556912685231477}, {\"string_low_card\": \"stringC\", \"floaties\": 0.6962567389391581}, {\"string_low_card\": \"stringB\", \"floaties\": 0.9999949846009923}, {\"string_low_card\": \"stringB\", \"floaties\": 0.6850291773807777}, {\"string_low_card\": \"stringB\", \"floaties\": 0.6113481806642106}, {\"string_low_card\": \"stringC\", \"floaties\": 0.5108516659614931}, {\"string_low_card\": \"stringA\", \"floaties\": 0.49910378751189166}, {\"string_low_card\": \"stringC\", \"floaties\": 0.27047921924738294}, {\"string_low_card\": \"stringA\", \"floaties\": 0.8046736019816013}, {\"string_low_card\": \"stringA\", \"floaties\": 0.9035045349341433}, {\"string_low_card\": \"stringB\", \"floaties\": 0.5197528213074671}, {\"string_low_card\": \"stringA\", \"floaties\": 0.9988757894438959}, {\"string_low_card\": \"stringB\", \"floaties\": 0.0613062634846796}, {\"string_low_card\": \"stringC\", \"floaties\": 0.5986058788600261}, {\"string_low_card\": \"stringC\", \"floaties\": 0.49396354988219715}, {\"string_low_card\": \"stringC\", \"floaties\": 0.17898733618896978}, {\"string_low_card\": \"stringB\", \"floaties\": 0.7212635131884263}, {\"string_low_card\": \"stringC\", \"floaties\": 0.9245962462761346}, {\"string_low_card\": \"stringA\", \"floaties\": 0.6252030023339086}, {\"string_low_card\": \"stringB\", \"floaties\": 0.9296500027917335}, {\"string_low_card\": \"stringB\", \"floaties\": 0.6629878913599885}, {\"string_low_card\": \"stringA\", \"floaties\": 0.6292164825112014}, {\"string_low_card\": \"stringB\", \"floaties\": 0.24712968279661096}, {\"string_low_card\": \"stringB\", \"floaties\": 0.17358649895445466}, {\"string_low_card\": \"stringB\", \"floaties\": 0.6100280406640041}, {\"string_low_card\": \"stringB\", \"floaties\": 0.972936234917669}, {\"string_low_card\": \"stringB\", \"floaties\": 0.8444317500277169}, {\"string_low_card\": \"stringB\", \"floaties\": 0.4373257634623553}, {\"string_low_card\": \"stringA\", \"floaties\": 0.5913266089496483}, {\"string_low_card\": \"stringA\", \"floaties\": 0.021219523917584193}, {\"string_low_card\": \"stringC\", \"floaties\": 0.6355677336721429}, {\"string_low_card\": \"stringC\", \"floaties\": 0.07600110452892572}, {\"string_low_card\": \"stringA\", \"floaties\": 0.3194505477347853}, {\"string_low_card\": \"stringB\", \"floaties\": 0.7036426779431261}, {\"string_low_card\": \"stringC\", \"floaties\": 0.6181117153332534}, {\"string_low_card\": \"stringC\", \"floaties\": 0.6984829231843835}, {\"string_low_card\": \"stringC\", \"floaties\": 0.07096370752561565}, {\"string_low_card\": \"stringB\", \"floaties\": 0.06509959522831599}, {\"string_low_card\": \"stringC\", \"floaties\": 0.7983566558197792}, {\"string_low_card\": \"stringA\", \"floaties\": 0.05458916429400562}, {\"string_low_card\": \"stringC\", \"floaties\": 0.7223067426940555}, {\"string_low_card\": \"stringC\", \"floaties\": 0.5891363094367061}, {\"string_low_card\": \"stringC\", \"floaties\": 0.06951011981046273}, {\"string_low_card\": \"stringA\", \"floaties\": 0.16401917659805632}, {\"string_low_card\": \"stringB\", \"floaties\": 0.37623342133395843}, {\"string_low_card\": \"stringB\", \"floaties\": 0.6047057064088627}, {\"string_low_card\": \"stringC\", \"floaties\": 0.04264526752687281}, {\"string_low_card\": \"stringC\", \"floaties\": 0.17450226587834938}, {\"string_low_card\": \"stringA\", \"floaties\": 0.11052988197136748}, {\"string_low_card\": \"stringC\", \"floaties\": 0.6239144275142678}, {\"string_low_card\": \"stringC\", \"floaties\": 0.7290157495835303}, {\"string_low_card\": \"stringC\", \"floaties\": 0.7531798333535332}, {\"string_low_card\": \"stringA\", \"floaties\": 0.06262611707539278}, {\"string_low_card\": \"stringA\", \"floaties\": 0.011575627499690211}, {\"string_low_card\": \"stringB\", \"floaties\": 0.5103050943200639}, {\"string_low_card\": \"stringB\", \"floaties\": 0.2283591578347125}, {\"string_low_card\": \"stringA\", \"floaties\": 0.9348763589147161}, {\"string_low_card\": \"stringC\", \"floaties\": 0.010006445764029759}, {\"string_low_card\": \"stringA\", \"floaties\": 0.7818813986572493}, {\"string_low_card\": \"stringA\", \"floaties\": 0.10132101235315982}, {\"string_low_card\": \"stringB\", \"floaties\": 0.9551694507939771}, {\"string_low_card\": \"stringB\", \"floaties\": 0.1067928824336074}, {\"string_low_card\": \"stringA\", \"floaties\": 0.18039925706202398}, {\"string_low_card\": \"stringC\", \"floaties\": 0.46433201323335704}, {\"string_low_card\": \"stringB\", \"floaties\": 0.27509625055380904}, {\"string_low_card\": \"stringB\", \"floaties\": 0.612744831015303}, {\"string_low_card\": \"stringB\", \"floaties\": 0.16628597155777047}, {\"string_low_card\": \"stringC\", \"floaties\": 0.33979139238402867}, {\"string_low_card\": \"stringC\", \"floaties\": 0.38057966248809094}, {\"string_low_card\": \"stringC\", \"floaties\": 0.18651605971843743}, {\"string_low_card\": \"stringA\", \"floaties\": 0.9111633281779188}, {\"string_low_card\": \"stringA\", \"floaties\": 0.37213394543414413}, {\"string_low_card\": \"stringA\", \"floaties\": 0.2050439800861169}, {\"string_low_card\": \"stringB\", \"floaties\": 0.5580422709832533}, {\"string_low_card\": \"stringC\", \"floaties\": 0.33239745790694}, {\"string_low_card\": \"stringC\", \"floaties\": 0.7278729333721806}, {\"string_low_card\": \"stringB\", \"floaties\": 0.3670186774787696}, {\"string_low_card\": \"stringB\", \"floaties\": 0.7928018892954487}, {\"string_low_card\": \"stringB\", \"floaties\": 0.6583768392498744}, {\"string_low_card\": \"stringC\", \"floaties\": 0.8692458491946976}, {\"string_low_card\": \"stringC\", \"floaties\": 0.24500337278432416}, {\"string_low_card\": \"stringB\", \"floaties\": 0.7475743641751822}, {\"string_low_card\": \"stringC\", \"floaties\": 0.9407297123170544}, {\"string_low_card\": \"stringB\", \"floaties\": 0.7955750811961823}, {\"string_low_card\": \"stringC\", \"floaties\": 0.4343275229072546}, {\"string_low_card\": \"stringB\", \"floaties\": 0.7028036715461786}, {\"string_low_card\": \"stringB\", \"floaties\": 0.9230513592395014}, {\"string_low_card\": \"stringC\", \"floaties\": 0.5507465060118905}, {\"string_low_card\": \"stringC\", \"floaties\": 0.025103832875518317}, {\"string_low_card\": \"stringA\", \"floaties\": 0.2584179386138422}, {\"string_low_card\": \"stringA\", \"floaties\": 0.4060609136894182}, {\"string_low_card\": \"stringB\", \"floaties\": 0.7816070894614199}, {\"string_low_card\": \"stringA\", \"floaties\": 0.0637481849534276}, {\"string_low_card\": \"stringC\", \"floaties\": 0.2188834212851516}, {\"string_low_card\": \"stringA\", \"floaties\": 0.932346637587443}, {\"string_low_card\": \"stringA\", \"floaties\": 0.15800091887180845}, {\"string_low_card\": \"stringA\", \"floaties\": 0.3921696125727828}, {\"string_low_card\": \"stringA\", \"floaties\": 0.5663652012045259}, {\"string_low_card\": \"stringA\", \"floaties\": 0.1604544639687452}, {\"string_low_card\": \"stringA\", \"floaties\": 0.1852616712159778}, {\"string_low_card\": \"stringB\", \"floaties\": 0.9899414890667106}, {\"string_low_card\": \"stringA\", \"floaties\": 0.12715059810989582}, {\"string_low_card\": \"stringB\", \"floaties\": 0.07388383551193878}, {\"string_low_card\": \"stringB\", \"floaties\": 0.7067354743944044}, {\"string_low_card\": \"stringB\", \"floaties\": 0.3048473605975136}, {\"string_low_card\": \"stringA\", \"floaties\": 0.7160727999373608}, {\"string_low_card\": \"stringA\", \"floaties\": 0.6111315129520919}, {\"string_low_card\": \"stringA\", \"floaties\": 0.007825005412253838}, {\"string_low_card\": \"stringB\", \"floaties\": 0.37506077614226074}, {\"string_low_card\": \"stringC\", \"floaties\": 0.8089224727114271}, {\"string_low_card\": \"stringC\", \"floaties\": 0.8877553353981552}, {\"string_low_card\": \"stringB\", \"floaties\": 0.29174315434952813}, {\"string_low_card\": \"stringA\", \"floaties\": 0.3282853904747258}, {\"string_low_card\": \"stringB\", \"floaties\": 0.8121942490075579}, {\"string_low_card\": \"stringA\", \"floaties\": 0.964367914355068}, {\"string_low_card\": \"stringC\", \"floaties\": 0.271330208886861}, {\"string_low_card\": \"stringC\", \"floaties\": 0.15777994436414344}, {\"string_low_card\": \"stringC\", \"floaties\": 0.904070995780979}, {\"string_low_card\": \"stringB\", \"floaties\": 0.08815112883174925}, {\"string_low_card\": \"stringC\", \"floaties\": 0.5432853935641531}, {\"string_low_card\": \"stringB\", \"floaties\": 0.48648802964716487}, {\"string_low_card\": \"stringB\", \"floaties\": 0.46892112149119713}, {\"string_low_card\": \"stringA\", \"floaties\": 0.5671673532230488}, {\"string_low_card\": \"stringA\", \"floaties\": 0.9746347187987568}, {\"string_low_card\": \"stringC\", \"floaties\": 0.6816151224868213}, {\"string_low_card\": \"stringC\", \"floaties\": 0.12164694775803209}, {\"string_low_card\": \"stringB\", \"floaties\": 0.8784936705982533}, {\"string_low_card\": \"stringC\", \"floaties\": 0.04316775080819979}, {\"string_low_card\": \"stringA\", \"floaties\": 0.3772136383730169}, {\"string_low_card\": \"stringC\", \"floaties\": 0.1329932466535365}, {\"string_low_card\": \"stringB\", \"floaties\": 0.91513042778869}, {\"string_low_card\": \"stringC\", \"floaties\": 0.25950657599895555}, {\"string_low_card\": \"stringA\", \"floaties\": 0.9274076370772515}, {\"string_low_card\": \"stringA\", \"floaties\": 0.6191855149850182}, {\"string_low_card\": \"stringA\", \"floaties\": 0.5215677123606253}, {\"string_low_card\": \"stringC\", \"floaties\": 0.08607852051438147}, {\"string_low_card\": \"stringA\", \"floaties\": 0.054470605733901944}, {\"string_low_card\": \"stringA\", \"floaties\": 0.7049212437827606}, {\"string_low_card\": \"stringB\", \"floaties\": 0.5878487678773172}, {\"string_low_card\": \"stringB\", \"floaties\": 0.565029730526242}, {\"string_low_card\": \"stringB\", \"floaties\": 0.33274345263788196}, {\"string_low_card\": \"stringB\", \"floaties\": 0.8028771974678066}, {\"string_low_card\": \"stringB\", \"floaties\": 0.7832538906448521}, {\"string_low_card\": \"stringA\", \"floaties\": 0.1997639406499575}, {\"string_low_card\": \"stringB\", \"floaties\": 0.232014295041446}, {\"string_low_card\": \"stringA\", \"floaties\": 0.07707329270978813}, {\"string_low_card\": \"stringC\", \"floaties\": 0.7701328604761187}, {\"string_low_card\": \"stringC\", \"floaties\": 0.10080192418386913}, {\"string_low_card\": \"stringA\", \"floaties\": 0.6987174455524495}, {\"string_low_card\": \"stringB\", \"floaties\": 0.9938773388016943}, {\"string_low_card\": \"stringA\", \"floaties\": 0.5714685817299956}, {\"string_low_card\": \"stringB\", \"floaties\": 0.4843287691039725}, {\"string_low_card\": \"stringB\", \"floaties\": 0.3369406603122186}, {\"string_low_card\": \"stringB\", \"floaties\": 0.45368016369294184}, {\"string_low_card\": \"stringC\", \"floaties\": 0.7571892407395125}, {\"string_low_card\": \"stringC\", \"floaties\": 0.03988732987591703}, {\"string_low_card\": \"stringA\", \"floaties\": 0.1534342258611554}, {\"string_low_card\": \"stringC\", \"floaties\": 0.993321788960251}, {\"string_low_card\": \"stringA\", \"floaties\": 0.16777552954815178}, {\"string_low_card\": \"stringB\", \"floaties\": 0.8632446416150181}, {\"string_low_card\": \"stringC\", \"floaties\": 0.8611995436697013}, {\"string_low_card\": \"stringC\", \"floaties\": 0.23304355559394307}, {\"string_low_card\": \"stringA\", \"floaties\": 0.5052772616513008}, {\"string_low_card\": \"stringA\", \"floaties\": 0.4418300024661559}, {\"string_low_card\": \"stringC\", \"floaties\": 0.37712713179306223}, {\"string_low_card\": \"stringC\", \"floaties\": 0.5589746600737513}, {\"string_low_card\": \"stringB\", \"floaties\": 0.9155364451777297}, {\"string_low_card\": \"stringA\", \"floaties\": 0.7827827114627813}, {\"string_low_card\": \"stringB\", \"floaties\": 0.539337901605463}, {\"string_low_card\": \"stringB\", \"floaties\": 0.7532086634710357}, {\"string_low_card\": \"stringB\", \"floaties\": 0.46722231142157566}, {\"string_low_card\": \"stringA\", \"floaties\": 0.5786612838342741}, {\"string_low_card\": \"stringA\", \"floaties\": 0.7530172050538542}, {\"string_low_card\": \"stringB\", \"floaties\": 0.6528736961817251}, {\"string_low_card\": \"stringB\", \"floaties\": 0.629700891739261}, {\"string_low_card\": \"stringB\", \"floaties\": 0.3361292476853561}, {\"string_low_card\": \"stringA\", \"floaties\": 0.9232739036936337}, {\"string_low_card\": \"stringA\", \"floaties\": 0.6203994233276203}, {\"string_low_card\": \"stringC\", \"floaties\": 0.5055066503103139}, {\"string_low_card\": \"stringC\", \"floaties\": 0.010243652079411691}, {\"string_low_card\": \"stringA\", \"floaties\": 0.026095154239520135}, {\"string_low_card\": \"stringC\", \"floaties\": 0.9902649008992653}, {\"string_low_card\": \"stringA\", \"floaties\": 0.9894258946832075}, {\"string_low_card\": \"stringB\", \"floaties\": 0.29399322900713576}, {\"string_low_card\": \"stringA\", \"floaties\": 0.5733330218361987}, {\"string_low_card\": \"stringC\", \"floaties\": 0.6366212701378378}, {\"string_low_card\": \"stringA\", \"floaties\": 0.34901761351100635}, {\"string_low_card\": \"stringC\", \"floaties\": 0.16877614216406012}, {\"string_low_card\": \"stringA\", \"floaties\": 0.35510043172155836}, {\"string_low_card\": \"stringC\", \"floaties\": 0.14116472159970805}, {\"string_low_card\": \"stringA\", \"floaties\": 0.06886906344312327}, {\"string_low_card\": \"stringA\", \"floaties\": 0.6078677163036127}, {\"string_low_card\": \"stringB\", \"floaties\": 0.010944643731379933}, {\"string_low_card\": \"stringC\", \"floaties\": 0.8525738382171574}, {\"string_low_card\": \"stringC\", \"floaties\": 0.9449494315651523}, {\"string_low_card\": \"stringB\", \"floaties\": 0.777317597587582}, {\"string_low_card\": \"stringB\", \"floaties\": 0.981859742289698}, {\"string_low_card\": \"stringC\", \"floaties\": 0.6139601045987959}, {\"string_low_card\": \"stringA\", \"floaties\": 0.6259015733172715}, {\"string_low_card\": \"stringB\", \"floaties\": 0.9284999057143024}, {\"string_low_card\": \"stringB\", \"floaties\": 0.07093354312602218}, {\"string_low_card\": \"stringB\", \"floaties\": 0.9149434833291}, {\"string_low_card\": \"stringB\", \"floaties\": 0.44666830099145305}, {\"string_low_card\": \"stringC\", \"floaties\": 0.739294697725362}, {\"string_low_card\": \"stringB\", \"floaties\": 0.8409029973940998}, {\"string_low_card\": \"stringC\", \"floaties\": 0.019810235239052343}, {\"string_low_card\": \"stringA\", \"floaties\": 0.13348086287123373}, {\"string_low_card\": \"stringC\", \"floaties\": 0.9159648017692029}, {\"string_low_card\": \"stringA\", \"floaties\": 0.9267640473714405}, {\"string_low_card\": \"stringA\", \"floaties\": 0.9810499805796811}, {\"string_low_card\": \"stringC\", \"floaties\": 0.19847334347963652}, {\"string_low_card\": \"stringA\", \"floaties\": 0.032759878742741555}, {\"string_low_card\": \"stringC\", \"floaties\": 0.8546620176861317}, {\"string_low_card\": \"stringB\", \"floaties\": 0.008376343326049307}, {\"string_low_card\": \"stringC\", \"floaties\": 0.4761704508341097}, {\"string_low_card\": \"stringC\", \"floaties\": 0.9296775659260405}, {\"string_low_card\": \"stringA\", \"floaties\": 0.0865144377991558}, {\"string_low_card\": \"stringB\", \"floaties\": 0.9285228779174667}, {\"string_low_card\": \"stringC\", \"floaties\": 0.4394544210643969}, {\"string_low_card\": \"stringA\", \"floaties\": 0.12757545194207687}, {\"string_low_card\": \"stringC\", \"floaties\": 0.14317240409640708}, {\"string_low_card\": \"stringA\", \"floaties\": 0.21747794505495088}, {\"string_low_card\": \"stringB\", \"floaties\": 0.6927159050254484}, {\"string_low_card\": \"stringA\", \"floaties\": 0.49797726412335275}, {\"string_low_card\": \"stringA\", \"floaties\": 0.9898973580271306}, {\"string_low_card\": \"stringC\", \"floaties\": 0.4843273687759677}, {\"string_low_card\": \"stringA\", \"floaties\": 0.8111740842126353}, {\"string_low_card\": \"stringC\", \"floaties\": 0.5867314313189959}, {\"string_low_card\": \"stringC\", \"floaties\": 0.1257498715577262}, {\"string_low_card\": \"stringB\", \"floaties\": 0.2923890231435923}, {\"string_low_card\": \"stringA\", \"floaties\": 0.4373528721648783}, {\"string_low_card\": \"stringB\", \"floaties\": 0.7092793315841537}, {\"string_low_card\": \"stringA\", \"floaties\": 0.6510247065254503}, {\"string_low_card\": \"stringA\", \"floaties\": 0.737004442698831}, {\"string_low_card\": \"stringA\", \"floaties\": 0.08621775591484115}, {\"string_low_card\": \"stringA\", \"floaties\": 0.7772579465938879}, {\"string_low_card\": \"stringB\", \"floaties\": 0.17100272567625263}, {\"string_low_card\": \"stringA\", \"floaties\": 0.4825077904949251}, {\"string_low_card\": \"stringB\", \"floaties\": 0.401956855422161}, {\"string_low_card\": \"stringA\", \"floaties\": 0.7383852505787404}, {\"string_low_card\": \"stringB\", \"floaties\": 0.9244202562051775}, {\"string_low_card\": \"stringA\", \"floaties\": 0.4075412964974916}, {\"string_low_card\": \"stringC\", \"floaties\": 0.8368534833912232}, {\"string_low_card\": \"stringC\", \"floaties\": 0.2009355848130734}, {\"string_low_card\": \"stringB\", \"floaties\": 0.8234340913093101}, {\"string_low_card\": \"stringC\", \"floaties\": 0.12691288103321197}, {\"string_low_card\": \"stringA\", \"floaties\": 0.9039625150806455}, {\"string_low_card\": \"stringC\", \"floaties\": 0.5451408721301139}, {\"string_low_card\": \"stringB\", \"floaties\": 0.09337152096169588}, {\"string_low_card\": \"stringC\", \"floaties\": 0.9547826465479049}, {\"string_low_card\": \"stringA\", \"floaties\": 0.24059064740783598}, {\"string_low_card\": \"stringB\", \"floaties\": 0.868715886052282}, {\"string_low_card\": \"stringC\", \"floaties\": 0.8585308301660327}, {\"string_low_card\": \"stringA\", \"floaties\": 0.2052374965817294}, {\"string_low_card\": \"stringC\", \"floaties\": 0.6388456432650517}, {\"string_low_card\": \"stringA\", \"floaties\": 0.7212090447817698}, {\"string_low_card\": \"stringC\", \"floaties\": 0.7964520125384191}, {\"string_low_card\": \"stringA\", \"floaties\": 0.4062918413807043}, {\"string_low_card\": \"stringC\", \"floaties\": 0.8813208866501063}, {\"string_low_card\": \"stringC\", \"floaties\": 0.3842709709857277}, {\"string_low_card\": \"stringB\", \"floaties\": 0.19432333270791435}, {\"string_low_card\": \"stringA\", \"floaties\": 0.5855144878937651}, {\"string_low_card\": \"stringA\", \"floaties\": 0.5102453915468379}, {\"string_low_card\": \"stringA\", \"floaties\": 0.868996777549372}, {\"string_low_card\": \"stringC\", \"floaties\": 0.6983623687672375}, {\"string_low_card\": \"stringA\", \"floaties\": 0.05162776086928178}, {\"string_low_card\": \"stringA\", \"floaties\": 0.2374153731432218}, {\"string_low_card\": \"stringA\", \"floaties\": 0.780852236953142}, {\"string_low_card\": \"stringA\", \"floaties\": 0.34279919874596554}, {\"string_low_card\": \"stringB\", \"floaties\": 0.2500546992983309}, {\"string_low_card\": \"stringA\", \"floaties\": 0.8676812106677418}, {\"string_low_card\": \"stringA\", \"floaties\": 0.6034528433744115}, {\"string_low_card\": \"stringB\", \"floaties\": 0.8708993845772157}, {\"string_low_card\": \"stringB\", \"floaties\": 0.29554489032798037}, {\"string_low_card\": \"stringA\", \"floaties\": 0.5638782680385872}, {\"string_low_card\": \"stringB\", \"floaties\": 0.9826081187092273}, {\"string_low_card\": \"stringA\", \"floaties\": 0.08600292708945123}, {\"string_low_card\": \"stringA\", \"floaties\": 0.42721601887997573}, {\"string_low_card\": \"stringC\", \"floaties\": 0.7127059938242112}, {\"string_low_card\": \"stringB\", \"floaties\": 0.13111907172349313}, {\"string_low_card\": \"stringB\", \"floaties\": 0.08743625774602892}, {\"string_low_card\": \"stringB\", \"floaties\": 0.14007340518271683}, {\"string_low_card\": \"stringC\", \"floaties\": 0.7195230332755227}, {\"string_low_card\": \"stringA\", \"floaties\": 0.7676605072684767}, {\"string_low_card\": \"stringC\", \"floaties\": 0.8789975770800478}, {\"string_low_card\": \"stringC\", \"floaties\": 0.5850839085055729}, {\"string_low_card\": \"stringB\", \"floaties\": 0.758515943685625}, {\"string_low_card\": \"stringB\", \"floaties\": 0.23730778272274466}, {\"string_low_card\": \"stringC\", \"floaties\": 0.9924668657807536}, {\"string_low_card\": \"stringA\", \"floaties\": 0.9256748414704772}, {\"string_low_card\": \"stringA\", \"floaties\": 0.7820095105933237}, {\"string_low_card\": \"stringB\", \"floaties\": 0.3760145904319161}, {\"string_low_card\": \"stringB\", \"floaties\": 0.8258893674672235}, {\"string_low_card\": \"stringB\", \"floaties\": 0.951674295602075}, {\"string_low_card\": \"stringC\", \"floaties\": 0.09767201859295949}, {\"string_low_card\": \"stringA\", \"floaties\": 0.529294609633599}, {\"string_low_card\": \"stringC\", \"floaties\": 0.35398478340268313}, {\"string_low_card\": \"stringC\", \"floaties\": 0.5475820566439376}, {\"string_low_card\": \"stringA\", \"floaties\": 0.8066685985715591}, {\"string_low_card\": \"stringC\", \"floaties\": 0.1984215752133366}, {\"string_low_card\": \"stringB\", \"floaties\": 0.5368731323608195}, {\"string_low_card\": \"stringC\", \"floaties\": 0.35726781498287585}, {\"string_low_card\": \"stringC\", \"floaties\": 0.26537320900707306}, {\"string_low_card\": \"stringC\", \"floaties\": 0.30806779066568835}, {\"string_low_card\": \"stringB\", \"floaties\": 0.08209666328066656}, {\"string_low_card\": \"stringB\", \"floaties\": 0.3483264572967171}, {\"string_low_card\": \"stringA\", \"floaties\": 0.5269109134159563}, {\"string_low_card\": \"stringA\", \"floaties\": 0.7184174626790613}, {\"string_low_card\": \"stringB\", \"floaties\": 0.1041784353752363}, {\"string_low_card\": \"stringC\", \"floaties\": 0.4519799321139305}, {\"string_low_card\": \"stringA\", \"floaties\": 0.6124129553969091}, {\"string_low_card\": \"stringA\", \"floaties\": 0.4921220201616916}, {\"string_low_card\": \"stringA\", \"floaties\": 0.3800824470980325}, {\"string_low_card\": \"stringC\", \"floaties\": 0.14313767834112445}, {\"string_low_card\": \"stringB\", \"floaties\": 0.17934997317821588}, {\"string_low_card\": \"stringA\", \"floaties\": 0.3110089932106086}, {\"string_low_card\": \"stringC\", \"floaties\": 0.5322214544844256}, {\"string_low_card\": \"stringA\", \"floaties\": 0.049940734609935644}, {\"string_low_card\": \"stringC\", \"floaties\": 0.7530466358877234}, {\"string_low_card\": \"stringC\", \"floaties\": 0.28842158303995324}, {\"string_low_card\": \"stringB\", \"floaties\": 0.37037967943139993}, {\"string_low_card\": \"stringB\", \"floaties\": 0.09854275280464442}, {\"string_low_card\": \"stringA\", \"floaties\": 0.9678256957693355}, {\"string_low_card\": \"stringC\", \"floaties\": 0.6003962835538399}, {\"string_low_card\": \"stringC\", \"floaties\": 0.8638248204992977}, {\"string_low_card\": \"stringB\", \"floaties\": 0.7925137392748213}, {\"string_low_card\": \"stringC\", \"floaties\": 0.14788070095870387}, {\"string_low_card\": \"stringC\", \"floaties\": 0.5821974583651865}, {\"string_low_card\": \"stringC\", \"floaties\": 0.9190328995828234}, {\"string_low_card\": \"stringA\", \"floaties\": 0.6291212749017792}, {\"string_low_card\": \"stringC\", \"floaties\": 0.6381432325242627}, {\"string_low_card\": \"stringB\", \"floaties\": 0.10973291650969563}, {\"string_low_card\": \"stringC\", \"floaties\": 0.04021680179745546}, {\"string_low_card\": \"stringB\", \"floaties\": 0.24327057201659263}, {\"string_low_card\": \"stringA\", \"floaties\": 0.8884239186747771}, {\"string_low_card\": \"stringA\", \"floaties\": 0.31681820199934896}, {\"string_low_card\": \"stringB\", \"floaties\": 0.192102040962028}, {\"string_low_card\": \"stringC\", \"floaties\": 0.9704066025479913}, {\"string_low_card\": \"stringB\", \"floaties\": 0.486837772730631}, {\"string_low_card\": \"stringB\", \"floaties\": 0.7325399064933219}, {\"string_low_card\": \"stringB\", \"floaties\": 0.3344805543184687}, {\"string_low_card\": \"stringB\", \"floaties\": 0.6395315121987116}, {\"string_low_card\": \"stringB\", \"floaties\": 0.07023526917640033}, {\"string_low_card\": \"stringB\", \"floaties\": 0.7142617890359052}, {\"string_low_card\": \"stringA\", \"floaties\": 0.08725136684218093}, {\"string_low_card\": \"stringA\", \"floaties\": 0.7762352557577915}, {\"string_low_card\": \"stringB\", \"floaties\": 0.5702621108050219}, {\"string_low_card\": \"stringB\", \"floaties\": 0.08964333076681863}, {\"string_low_card\": \"stringC\", \"floaties\": 0.21026054488980417}, {\"string_low_card\": \"stringA\", \"floaties\": 0.5132392630175431}, {\"string_low_card\": \"stringB\", \"floaties\": 0.7007392832709965}, {\"string_low_card\": \"stringB\", \"floaties\": 0.7500057210646394}, {\"string_low_card\": \"stringC\", \"floaties\": 0.10229902680182035}, {\"string_low_card\": \"stringB\", \"floaties\": 0.4010004686160231}, {\"string_low_card\": \"stringB\", \"floaties\": 0.6142822545938856}, {\"string_low_card\": \"stringB\", \"floaties\": 0.3670558224952368}, {\"string_low_card\": \"stringA\", \"floaties\": 0.5927306479211738}, {\"string_low_card\": \"stringC\", \"floaties\": 0.1798786065628598}, {\"string_low_card\": \"stringA\", \"floaties\": 0.2111941884769516}, {\"string_low_card\": \"stringB\", \"floaties\": 0.05730636338612327}, {\"string_low_card\": \"stringC\", \"floaties\": 0.21261754458328652}, {\"string_low_card\": \"stringB\", \"floaties\": 0.5840297328137853}, {\"string_low_card\": \"stringB\", \"floaties\": 0.6171174647793761}, {\"string_low_card\": \"stringC\", \"floaties\": 0.2616002830670757}, {\"string_low_card\": \"stringB\", \"floaties\": 0.27856914121226606}, {\"string_low_card\": \"stringC\", \"floaties\": 0.9694037365295685}, {\"string_low_card\": \"stringB\", \"floaties\": 0.3526941446551006}, {\"string_low_card\": \"stringC\", \"floaties\": 0.9615280304125272}, {\"string_low_card\": \"stringB\", \"floaties\": 0.026291011153044774}, {\"string_low_card\": \"stringC\", \"floaties\": 0.1706006537246364}, {\"string_low_card\": \"stringB\", \"floaties\": 0.7339810329019119}, {\"string_low_card\": \"stringA\", \"floaties\": 0.014198559057974736}, {\"string_low_card\": \"stringA\", \"floaties\": 0.26186408573850173}, {\"string_low_card\": \"stringA\", \"floaties\": 0.3287662252833474}, {\"string_low_card\": \"stringB\", \"floaties\": 0.810135298582622}, {\"string_low_card\": \"stringB\", \"floaties\": 0.5500119751287688}, {\"string_low_card\": \"stringC\", \"floaties\": 0.30518150655945964}, {\"string_low_card\": \"stringA\", \"floaties\": 0.14941868030942573}, {\"string_low_card\": \"stringC\", \"floaties\": 0.7728830515767536}, {\"string_low_card\": \"stringC\", \"floaties\": 0.1567883285181183}, {\"string_low_card\": \"stringC\", \"floaties\": 0.514575143806867}, {\"string_low_card\": \"stringA\", \"floaties\": 0.2819826280733597}, {\"string_low_card\": \"stringC\", \"floaties\": 0.9715633914212826}, {\"string_low_card\": \"stringC\", \"floaties\": 0.5059705376310475}, {\"string_low_card\": \"stringB\", \"floaties\": 0.464404094307591}, {\"string_low_card\": \"stringC\", \"floaties\": 0.5623166375295894}, {\"string_low_card\": \"stringC\", \"floaties\": 0.7831184609117003}, {\"string_low_card\": \"stringB\", \"floaties\": 0.6386531318773884}, {\"string_low_card\": \"stringC\", \"floaties\": 0.5684585200477495}, {\"string_low_card\": \"stringB\", \"floaties\": 0.8532116536231364}, {\"string_low_card\": \"stringC\", \"floaties\": 0.0069749369662969185}, {\"string_low_card\": \"stringA\", \"floaties\": 0.4673240784107717}, {\"string_low_card\": \"stringC\", \"floaties\": 0.46328271955120826}, {\"string_low_card\": \"stringA\", \"floaties\": 0.654900997560201}, {\"string_low_card\": \"stringB\", \"floaties\": 0.3859452000290575}, {\"string_low_card\": \"stringA\", \"floaties\": 0.26869496446179586}, {\"string_low_card\": \"stringB\", \"floaties\": 0.5441529537100026}, {\"string_low_card\": \"stringB\", \"floaties\": 0.36556998207267555}, {\"string_low_card\": \"stringA\", \"floaties\": 0.045588660812770576}, {\"string_low_card\": \"stringB\", \"floaties\": 0.615161699313022}, {\"string_low_card\": \"stringC\", \"floaties\": 0.10883207103715642}, {\"string_low_card\": \"stringA\", \"floaties\": 0.7811299408150824}, {\"string_low_card\": \"stringA\", \"floaties\": 0.5904028619634477}, {\"string_low_card\": \"stringB\", \"floaties\": 0.6046234193894944}, {\"string_low_card\": \"stringC\", \"floaties\": 0.2655107137290872}, {\"string_low_card\": \"stringB\", \"floaties\": 0.6981327968443565}, {\"string_low_card\": \"stringB\", \"floaties\": 0.9612601328204758}, {\"string_low_card\": \"stringB\", \"floaties\": 0.5403685525499241}, {\"string_low_card\": \"stringC\", \"floaties\": 0.2750110463987103}, {\"string_low_card\": \"stringC\", \"floaties\": 0.9802871767314055}, {\"string_low_card\": \"stringC\", \"floaties\": 0.8644841164634613}, {\"string_low_card\": \"stringB\", \"floaties\": 0.9950911650402022}, {\"string_low_card\": \"stringC\", \"floaties\": 0.4086992601843513}, {\"string_low_card\": \"stringA\", \"floaties\": 0.07449973087719175}, {\"string_low_card\": \"stringB\", \"floaties\": 0.7964937683964615}, {\"string_low_card\": \"stringC\", \"floaties\": 0.8677158091612478}, {\"string_low_card\": \"stringC\", \"floaties\": 0.6357584469340439}, {\"string_low_card\": \"stringC\", \"floaties\": 0.7168273363559057}, {\"string_low_card\": \"stringA\", \"floaties\": 0.5794943729297533}, {\"string_low_card\": \"stringA\", \"floaties\": 0.09329261560173585}, {\"string_low_card\": \"stringA\", \"floaties\": 0.026334509252732508}, {\"string_low_card\": \"stringA\", \"floaties\": 0.1420755821608124}, {\"string_low_card\": \"stringB\", \"floaties\": 0.9772851408370452}, {\"string_low_card\": \"stringA\", \"floaties\": 0.8987225382745484}, {\"string_low_card\": \"stringA\", \"floaties\": 0.47160138515201067}, {\"string_low_card\": \"stringA\", \"floaties\": 0.8930898533001073}, {\"string_low_card\": \"stringC\", \"floaties\": 0.14190626822035413}, {\"string_low_card\": \"stringB\", \"floaties\": 0.44365833152620915}, {\"string_low_card\": \"stringC\", \"floaties\": 0.26096349118715334}, {\"string_low_card\": \"stringC\", \"floaties\": 0.869071553475162}, {\"string_low_card\": \"stringC\", \"floaties\": 0.46865956108575724}, {\"string_low_card\": \"stringC\", \"floaties\": 0.1859664443395761}, {\"string_low_card\": \"stringC\", \"floaties\": 0.9382759379271206}, {\"string_low_card\": \"stringB\", \"floaties\": 0.7131010567665851}, {\"string_low_card\": \"stringA\", \"floaties\": 0.05678677157463985}, {\"string_low_card\": \"stringA\", \"floaties\": 0.9816300208482142}, {\"string_low_card\": \"stringC\", \"floaties\": 0.8187925152697632}, {\"string_low_card\": \"stringC\", \"floaties\": 0.39501396621667484}, {\"string_low_card\": \"stringA\", \"floaties\": 0.6044432467095582}, {\"string_low_card\": \"stringC\", \"floaties\": 0.3633432740797342}]}}, {\"mode\": \"vega-lite\"});\n",
       "</script>"
      ],
      "text/plain": [
       "alt.Chart(...)"
      ]
     },
     "execution_count": 3,
     "metadata": {},
     "output_type": "execute_result"
    }
   ],
   "source": [
    "chart1"
   ]
  },
  {
   "cell_type": "code",
   "execution_count": 4,
   "id": "b754621f",
   "metadata": {},
   "outputs": [
    {
     "data": {
      "text/html": [
       "\n",
       "<div id=\"altair-viz-e7a0208375dc4f5d9377db280d2cb068\"></div>\n",
       "<script type=\"text/javascript\">\n",
       "  var VEGA_DEBUG = (typeof VEGA_DEBUG == \"undefined\") ? {} : VEGA_DEBUG;\n",
       "  (function(spec, embedOpt){\n",
       "    let outputDiv = document.currentScript.previousElementSibling;\n",
       "    if (outputDiv.id !== \"altair-viz-e7a0208375dc4f5d9377db280d2cb068\") {\n",
       "      outputDiv = document.getElementById(\"altair-viz-e7a0208375dc4f5d9377db280d2cb068\");\n",
       "    }\n",
       "    const paths = {\n",
       "      \"vega\": \"https://cdn.jsdelivr.net/npm//vega@5?noext\",\n",
       "      \"vega-lib\": \"https://cdn.jsdelivr.net/npm//vega-lib?noext\",\n",
       "      \"vega-lite\": \"https://cdn.jsdelivr.net/npm//vega-lite@4.17.0?noext\",\n",
       "      \"vega-embed\": \"https://cdn.jsdelivr.net/npm//vega-embed@6?noext\",\n",
       "    };\n",
       "\n",
       "    function maybeLoadScript(lib, version) {\n",
       "      var key = `${lib.replace(\"-\", \"\")}_version`;\n",
       "      return (VEGA_DEBUG[key] == version) ?\n",
       "        Promise.resolve(paths[lib]) :\n",
       "        new Promise(function(resolve, reject) {\n",
       "          var s = document.createElement('script');\n",
       "          document.getElementsByTagName(\"head\")[0].appendChild(s);\n",
       "          s.async = true;\n",
       "          s.onload = () => {\n",
       "            VEGA_DEBUG[key] = version;\n",
       "            return resolve(paths[lib]);\n",
       "          };\n",
       "          s.onerror = () => reject(`Error loading script: ${paths[lib]}`);\n",
       "          s.src = paths[lib];\n",
       "        });\n",
       "    }\n",
       "\n",
       "    function showError(err) {\n",
       "      outputDiv.innerHTML = `<div class=\"error\" style=\"color:red;\">${err}</div>`;\n",
       "      throw err;\n",
       "    }\n",
       "\n",
       "    function displayChart(vegaEmbed) {\n",
       "      vegaEmbed(outputDiv, spec, embedOpt)\n",
       "        .catch(err => showError(`Javascript Error: ${err.message}<br>This usually means there's a typo in your chart specification. See the javascript console for the full traceback.`));\n",
       "    }\n",
       "\n",
       "    if(typeof define === \"function\" && define.amd) {\n",
       "      requirejs.config({paths});\n",
       "      require([\"vega-embed\"], displayChart, err => showError(`Error loading script: ${err.message}`));\n",
       "    } else {\n",
       "      maybeLoadScript(\"vega\", \"5\")\n",
       "        .then(() => maybeLoadScript(\"vega-lite\", \"4.17.0\"))\n",
       "        .then(() => maybeLoadScript(\"vega-embed\", \"6\"))\n",
       "        .catch(showError)\n",
       "        .then(() => displayChart(vegaEmbed));\n",
       "    }\n",
       "  })({\"config\": {\"view\": {\"continuousWidth\": 400, \"continuousHeight\": 300}}, \"data\": {\"name\": \"data-21d752e8027ea25a2ced0e974a4bed08\"}, \"mark\": \"bar\", \"encoding\": {\"facet\": {\"columns\": 2, \"field\": \"measures\", \"type\": \"ordinal\"}, \"x\": {\"field\": \"floaties\", \"type\": \"quantitative\"}, \"y\": {\"field\": \"string_low_card\", \"type\": \"ordinal\"}}, \"resolve\": {\"scale\": {\"x\": \"independent\"}}, \"$schema\": \"https://vega.github.io/schema/vega-lite/v4.17.0.json\", \"datasets\": {\"data-21d752e8027ea25a2ced0e974a4bed08\": [{\"string_low_card\": \"stringC\", \"measures\": \"count\", \"floaties\": 347.0}, {\"string_low_card\": \"stringA\", \"measures\": \"count\", \"floaties\": 337.0}, {\"string_low_card\": \"stringB\", \"measures\": \"count\", \"floaties\": 316.0}, {\"string_low_card\": \"stringC\", \"measures\": \"min\", \"floaties\": 0.0022183830488951006}, {\"string_low_card\": \"stringA\", \"measures\": \"min\", \"floaties\": 0.007825005412253838}, {\"string_low_card\": \"stringB\", \"measures\": \"min\", \"floaties\": 0.008376343326049307}, {\"string_low_card\": \"stringC\", \"measures\": \"max\", \"floaties\": 0.994650327385022}, {\"string_low_card\": \"stringA\", \"measures\": \"max\", \"floaties\": 0.9988757894438959}, {\"string_low_card\": \"stringB\", \"measures\": \"max\", \"floaties\": 0.9999949846009923}, {\"string_low_card\": \"stringC\", \"measures\": \"mean\", \"floaties\": 0.494204646210082}, {\"string_low_card\": \"stringA\", \"measures\": \"mean\", \"floaties\": 0.47460246694572256}, {\"string_low_card\": \"stringB\", \"measures\": \"mean\", \"floaties\": 0.5312724498391972}, {\"string_low_card\": \"stringC\", \"measures\": \"median\", \"floaties\": 0.5015657492404059}, {\"string_low_card\": \"stringA\", \"measures\": \"median\", \"floaties\": 0.4704750614677847}, {\"string_low_card\": \"stringB\", \"measures\": \"median\", \"floaties\": 0.5593429585498317}]}}, {\"mode\": \"vega-lite\"});\n",
       "</script>"
      ],
      "text/plain": [
       "alt.Chart(...)"
      ]
     },
     "execution_count": 4,
     "metadata": {},
     "output_type": "execute_result"
    }
   ],
   "source": [
    "chart2"
   ]
  },
  {
   "cell_type": "code",
   "execution_count": 4,
   "id": "4d83ddde",
   "metadata": {},
   "outputs": [],
   "source": [
    "import pandas as pd\n",
    "df[\"id\"] = df.index\n",
    "del df['id']"
   ]
  },
  {
   "cell_type": "code",
   "execution_count": 19,
   "id": "83153474",
   "metadata": {},
   "outputs": [
    {
     "data": {
      "text/html": [
       "<div>\n",
       "<style scoped>\n",
       "    .dataframe tbody tr th:only-of-type {\n",
       "        vertical-align: middle;\n",
       "    }\n",
       "\n",
       "    .dataframe tbody tr th {\n",
       "        vertical-align: top;\n",
       "    }\n",
       "\n",
       "    .dataframe thead th {\n",
       "        text-align: right;\n",
       "    }\n",
       "</style>\n",
       "<table border=\"1\" class=\"dataframe\">\n",
       "  <thead>\n",
       "    <tr style=\"text-align: right;\">\n",
       "      <th></th>\n",
       "      <th>string_low_card</th>\n",
       "      <th>measures</th>\n",
       "      <th>value_name</th>\n",
       "    </tr>\n",
       "  </thead>\n",
       "  <tbody>\n",
       "    <tr>\n",
       "      <th>0</th>\n",
       "      <td>stringC</td>\n",
       "      <td>count</td>\n",
       "      <td>362.000000</td>\n",
       "    </tr>\n",
       "    <tr>\n",
       "      <th>1</th>\n",
       "      <td>stringA</td>\n",
       "      <td>count</td>\n",
       "      <td>345.000000</td>\n",
       "    </tr>\n",
       "    <tr>\n",
       "      <th>2</th>\n",
       "      <td>stringB</td>\n",
       "      <td>count</td>\n",
       "      <td>293.000000</td>\n",
       "    </tr>\n",
       "    <tr>\n",
       "      <th>3</th>\n",
       "      <td>stringC</td>\n",
       "      <td>min</td>\n",
       "      <td>0.000180</td>\n",
       "    </tr>\n",
       "    <tr>\n",
       "      <th>4</th>\n",
       "      <td>stringA</td>\n",
       "      <td>min</td>\n",
       "      <td>0.001140</td>\n",
       "    </tr>\n",
       "    <tr>\n",
       "      <th>5</th>\n",
       "      <td>stringB</td>\n",
       "      <td>min</td>\n",
       "      <td>0.001400</td>\n",
       "    </tr>\n",
       "    <tr>\n",
       "      <th>6</th>\n",
       "      <td>stringC</td>\n",
       "      <td>max</td>\n",
       "      <td>0.999517</td>\n",
       "    </tr>\n",
       "    <tr>\n",
       "      <th>7</th>\n",
       "      <td>stringA</td>\n",
       "      <td>max</td>\n",
       "      <td>0.995457</td>\n",
       "    </tr>\n",
       "    <tr>\n",
       "      <th>8</th>\n",
       "      <td>stringB</td>\n",
       "      <td>max</td>\n",
       "      <td>0.993620</td>\n",
       "    </tr>\n",
       "    <tr>\n",
       "      <th>9</th>\n",
       "      <td>stringC</td>\n",
       "      <td>mean</td>\n",
       "      <td>0.513202</td>\n",
       "    </tr>\n",
       "    <tr>\n",
       "      <th>10</th>\n",
       "      <td>stringA</td>\n",
       "      <td>mean</td>\n",
       "      <td>0.477105</td>\n",
       "    </tr>\n",
       "    <tr>\n",
       "      <th>11</th>\n",
       "      <td>stringB</td>\n",
       "      <td>mean</td>\n",
       "      <td>0.494442</td>\n",
       "    </tr>\n",
       "    <tr>\n",
       "      <th>12</th>\n",
       "      <td>stringC</td>\n",
       "      <td>median</td>\n",
       "      <td>0.499689</td>\n",
       "    </tr>\n",
       "    <tr>\n",
       "      <th>13</th>\n",
       "      <td>stringA</td>\n",
       "      <td>median</td>\n",
       "      <td>0.478405</td>\n",
       "    </tr>\n",
       "    <tr>\n",
       "      <th>14</th>\n",
       "      <td>stringB</td>\n",
       "      <td>median</td>\n",
       "      <td>0.509490</td>\n",
       "    </tr>\n",
       "  </tbody>\n",
       "</table>\n",
       "</div>"
      ],
      "text/plain": [
       "   string_low_card measures  value_name\n",
       "0          stringC    count  362.000000\n",
       "1          stringA    count  345.000000\n",
       "2          stringB    count  293.000000\n",
       "3          stringC      min    0.000180\n",
       "4          stringA      min    0.001140\n",
       "5          stringB      min    0.001400\n",
       "6          stringC      max    0.999517\n",
       "7          stringA      max    0.995457\n",
       "8          stringB      max    0.993620\n",
       "9          stringC     mean    0.513202\n",
       "10         stringA     mean    0.477105\n",
       "11         stringB     mean    0.494442\n",
       "12         stringC   median    0.499689\n",
       "13         stringA   median    0.478405\n",
       "14         stringB   median    0.509490"
      ]
     },
     "execution_count": 19,
     "metadata": {},
     "output_type": "execute_result"
    }
   ],
   "source": [
    "#pd.wide_to_long(df, stubnames=['floaties-'], i=['string_low_card'], j='measure')\n",
    "dfm = pd.melt(df, id_vars=[\"string_low_card\"], var_name='measures', value_name=\"value_name\")\n",
    "dfm['measures'] = dfm['measures'].str.split('-').str[-1]\n",
    "dfm"
   ]
  },
  {
   "cell_type": "code",
   "execution_count": 20,
   "id": "29f4ada1",
   "metadata": {},
   "outputs": [],
   "source": [
    "y = {'a':['a', 'b', 'c']}"
   ]
  },
  {
   "cell_type": "code",
   "execution_count": 25,
   "id": "4f8e01e4",
   "metadata": {},
   "outputs": [
    {
     "data": {
      "text/plain": [
       "'a'"
      ]
     },
     "execution_count": 25,
     "metadata": {},
     "output_type": "execute_result"
    }
   ],
   "source": [
    "next(iter(y.keys()))"
   ]
  },
  {
   "cell_type": "code",
   "execution_count": 2,
   "id": "a95890a6",
   "metadata": {},
   "outputs": [
    {
     "name": "stdout",
     "output_type": "stream",
     "text": [
      "set()\n"
     ]
    },
    {
     "data": {
      "text/html": [
       "\n",
       "<div id=\"altair-viz-86bea9e068ab4646b8e4079284227595\"></div>\n",
       "<script type=\"text/javascript\">\n",
       "  var VEGA_DEBUG = (typeof VEGA_DEBUG == \"undefined\") ? {} : VEGA_DEBUG;\n",
       "  (function(spec, embedOpt){\n",
       "    let outputDiv = document.currentScript.previousElementSibling;\n",
       "    if (outputDiv.id !== \"altair-viz-86bea9e068ab4646b8e4079284227595\") {\n",
       "      outputDiv = document.getElementById(\"altair-viz-86bea9e068ab4646b8e4079284227595\");\n",
       "    }\n",
       "    const paths = {\n",
       "      \"vega\": \"https://cdn.jsdelivr.net/npm//vega@5?noext\",\n",
       "      \"vega-lib\": \"https://cdn.jsdelivr.net/npm//vega-lib?noext\",\n",
       "      \"vega-lite\": \"https://cdn.jsdelivr.net/npm//vega-lite@4.17.0?noext\",\n",
       "      \"vega-embed\": \"https://cdn.jsdelivr.net/npm//vega-embed@6?noext\",\n",
       "    };\n",
       "\n",
       "    function maybeLoadScript(lib, version) {\n",
       "      var key = `${lib.replace(\"-\", \"\")}_version`;\n",
       "      return (VEGA_DEBUG[key] == version) ?\n",
       "        Promise.resolve(paths[lib]) :\n",
       "        new Promise(function(resolve, reject) {\n",
       "          var s = document.createElement('script');\n",
       "          document.getElementsByTagName(\"head\")[0].appendChild(s);\n",
       "          s.async = true;\n",
       "          s.onload = () => {\n",
       "            VEGA_DEBUG[key] = version;\n",
       "            return resolve(paths[lib]);\n",
       "          };\n",
       "          s.onerror = () => reject(`Error loading script: ${paths[lib]}`);\n",
       "          s.src = paths[lib];\n",
       "        });\n",
       "    }\n",
       "\n",
       "    function showError(err) {\n",
       "      outputDiv.innerHTML = `<div class=\"error\" style=\"color:red;\">${err}</div>`;\n",
       "      throw err;\n",
       "    }\n",
       "\n",
       "    function displayChart(vegaEmbed) {\n",
       "      vegaEmbed(outputDiv, spec, embedOpt)\n",
       "        .catch(err => showError(`Javascript Error: ${err.message}<br>This usually means there's a typo in your chart specification. See the javascript console for the full traceback.`));\n",
       "    }\n",
       "\n",
       "    if(typeof define === \"function\" && define.amd) {\n",
       "      requirejs.config({paths});\n",
       "      require([\"vega-embed\"], displayChart, err => showError(`Error loading script: ${err.message}`));\n",
       "    } else {\n",
       "      maybeLoadScript(\"vega\", \"5\")\n",
       "        .then(() => maybeLoadScript(\"vega-lite\", \"4.17.0\"))\n",
       "        .then(() => maybeLoadScript(\"vega-embed\", \"6\"))\n",
       "        .catch(showError)\n",
       "        .then(() => displayChart(vegaEmbed));\n",
       "    }\n",
       "  })({\"config\": {\"view\": {\"continuousWidth\": 400, \"continuousHeight\": 300}}, \"data\": {\"name\": \"data-3c970e4d5ab357298eb8eb50b7bf5d26\"}, \"mark\": \"bar\", \"encoding\": {\"x\": {\"field\": \"floaties\", \"type\": \"quantitative\"}, \"y\": {\"field\": \"floaties_key\", \"type\": \"ordinal\"}}, \"$schema\": \"https://vega.github.io/schema/vega-lite/v4.17.0.json\", \"datasets\": {\"data-3c970e4d5ab357298eb8eb50b7bf5d26\": [{\"integers\": 1, \"floaties\": 0.659644053440152, \"floaties2\": 0.8583683136468772, \"floaties_key\": 0, \"integer_bools\": false, \"stringer\": \"rabbit\", \"datie_dates\": \"2020-01-01T00:00:00\"}, {\"integers\": 2, \"floaties\": 0.001979997711955561, \"floaties2\": 0.9816129638563054, \"floaties_key\": 1, \"integer_bools\": true, \"stringer\": \"leopard\", \"datie_dates\": \"2021-02-03T00:00:00\"}, {\"integers\": 3, \"floaties\": 0.25008557594572967, \"floaties2\": 0.3435991350825005, \"floaties_key\": 2, \"integer_bools\": true, \"stringer\": \"rabbit\", \"datie_dates\": \"2021-02-03T00:00:00\"}, {\"integers\": 1, \"floaties\": 0.18664229989506043, \"floaties2\": 0.7215956819524822, \"floaties_key\": 3, \"integer_bools\": true, \"stringer\": \"rabbit\", \"datie_dates\": \"2020-01-01T00:00:00\"}, {\"integers\": 2, \"floaties\": 0.4941257813646749, \"floaties2\": 0.279352495019179, \"floaties_key\": 4, \"integer_bools\": true, \"stringer\": \"leopard\", \"datie_dates\": \"2021-02-03T00:00:00\"}]}}, {\"mode\": \"vega-lite\"});\n",
       "</script>"
      ],
      "text/plain": [
       "alt.Chart(...)"
      ]
     },
     "execution_count": 2,
     "metadata": {},
     "output_type": "execute_result"
    }
   ],
   "source": [
    "cm.chart_me(df, ['floaties', 'floaties_key'])[0]"
   ]
  },
  {
   "cell_type": "code",
   "execution_count": 3,
   "id": "e4a75581",
   "metadata": {},
   "outputs": [
    {
     "data": {
      "text/html": [
       "\n",
       "<div id=\"altair-viz-3eecfc8816574207bbf4a22e71a0b7e9\"></div>\n",
       "<script type=\"text/javascript\">\n",
       "  var VEGA_DEBUG = (typeof VEGA_DEBUG == \"undefined\") ? {} : VEGA_DEBUG;\n",
       "  (function(spec, embedOpt){\n",
       "    let outputDiv = document.currentScript.previousElementSibling;\n",
       "    if (outputDiv.id !== \"altair-viz-3eecfc8816574207bbf4a22e71a0b7e9\") {\n",
       "      outputDiv = document.getElementById(\"altair-viz-3eecfc8816574207bbf4a22e71a0b7e9\");\n",
       "    }\n",
       "    const paths = {\n",
       "      \"vega\": \"https://cdn.jsdelivr.net/npm//vega@5?noext\",\n",
       "      \"vega-lib\": \"https://cdn.jsdelivr.net/npm//vega-lib?noext\",\n",
       "      \"vega-lite\": \"https://cdn.jsdelivr.net/npm//vega-lite@4.17.0?noext\",\n",
       "      \"vega-embed\": \"https://cdn.jsdelivr.net/npm//vega-embed@6?noext\",\n",
       "    };\n",
       "\n",
       "    function maybeLoadScript(lib, version) {\n",
       "      var key = `${lib.replace(\"-\", \"\")}_version`;\n",
       "      return (VEGA_DEBUG[key] == version) ?\n",
       "        Promise.resolve(paths[lib]) :\n",
       "        new Promise(function(resolve, reject) {\n",
       "          var s = document.createElement('script');\n",
       "          document.getElementsByTagName(\"head\")[0].appendChild(s);\n",
       "          s.async = true;\n",
       "          s.onload = () => {\n",
       "            VEGA_DEBUG[key] = version;\n",
       "            return resolve(paths[lib]);\n",
       "          };\n",
       "          s.onerror = () => reject(`Error loading script: ${paths[lib]}`);\n",
       "          s.src = paths[lib];\n",
       "        });\n",
       "    }\n",
       "\n",
       "    function showError(err) {\n",
       "      outputDiv.innerHTML = `<div class=\"error\" style=\"color:red;\">${err}</div>`;\n",
       "      throw err;\n",
       "    }\n",
       "\n",
       "    function displayChart(vegaEmbed) {\n",
       "      vegaEmbed(outputDiv, spec, embedOpt)\n",
       "        .catch(err => showError(`Javascript Error: ${err.message}<br>This usually means there's a typo in your chart specification. See the javascript console for the full traceback.`));\n",
       "    }\n",
       "\n",
       "    if(typeof define === \"function\" && define.amd) {\n",
       "      requirejs.config({paths});\n",
       "      require([\"vega-embed\"], displayChart, err => showError(`Error loading script: ${err.message}`));\n",
       "    } else {\n",
       "      maybeLoadScript(\"vega\", \"5\")\n",
       "        .then(() => maybeLoadScript(\"vega-lite\", \"4.17.0\"))\n",
       "        .then(() => maybeLoadScript(\"vega-embed\", \"6\"))\n",
       "        .catch(showError)\n",
       "        .then(() => displayChart(vegaEmbed));\n",
       "    }\n",
       "  })({\"config\": {\"view\": {\"continuousWidth\": 400, \"continuousHeight\": 300}}, \"data\": {\"name\": \"data-fa20291374706544121acc5b7bba118a\"}, \"mark\": \"point\", \"encoding\": {\"x\": {\"field\": \"floaties\", \"type\": \"quantitative\"}, \"y\": {\"field\": \"floaties2\", \"type\": \"quantitative\"}}, \"$schema\": \"https://vega.github.io/schema/vega-lite/v4.17.0.json\", \"datasets\": {\"data-fa20291374706544121acc5b7bba118a\": [{\"integers\": 1, \"floaties\": 0.4891882125032282, \"floaties2\": 0.6656146868616736, \"floaties_key\": 0, \"integer_bools\": false, \"stringer\": \"rabbit\", \"datie_dates\": \"2020-01-01T00:00:00\"}, {\"integers\": 2, \"floaties\": 0.35599461248571074, \"floaties2\": 0.6707318247524434, \"floaties_key\": 1, \"integer_bools\": true, \"stringer\": \"leopard\", \"datie_dates\": \"2021-02-03T00:00:00\"}, {\"integers\": 3, \"floaties\": 0.21831815014569034, \"floaties2\": 0.9720139189925208, \"floaties_key\": 2, \"integer_bools\": false, \"stringer\": \"rabbit\", \"datie_dates\": \"2021-02-03T00:00:00\"}, {\"integers\": 1, \"floaties\": 0.4404654743969886, \"floaties2\": 0.2025105944804475, \"floaties_key\": 3, \"integer_bools\": false, \"stringer\": \"rabbit\", \"datie_dates\": \"2020-01-01T00:00:00\"}, {\"integers\": 2, \"floaties\": 0.21055683569345196, \"floaties2\": 0.16187542902655616, \"floaties_key\": 4, \"integer_bools\": true, \"stringer\": \"leopard\", \"datie_dates\": \"2021-02-03T00:00:00\"}, {\"integers\": 3, \"floaties\": 0.013131439465544625, \"floaties2\": 0.1062820294060619, \"floaties_key\": 5, \"integer_bools\": false, \"stringer\": \"rabbit\", \"datie_dates\": \"2021-02-03T00:00:00\"}, {\"integers\": 1, \"floaties\": 0.6438888396774389, \"floaties2\": 0.016408742299833023, \"floaties_key\": 6, \"integer_bools\": true, \"stringer\": \"rabbit\", \"datie_dates\": \"2020-01-01T00:00:00\"}, {\"integers\": 2, \"floaties\": 0.67785924389864, \"floaties2\": 0.27373848141545487, \"floaties_key\": 7, \"integer_bools\": true, \"stringer\": \"leopard\", \"datie_dates\": \"2021-02-03T00:00:00\"}, {\"integers\": 3, \"floaties\": 0.5860138022568014, \"floaties2\": 0.7870680424769853, \"floaties_key\": 8, \"integer_bools\": true, \"stringer\": \"rabbit\", \"datie_dates\": \"2021-02-03T00:00:00\"}]}}, {\"mode\": \"vega-lite\"});\n",
       "</script>"
      ],
      "text/plain": [
       "alt.Chart(...)"
      ]
     },
     "execution_count": 3,
     "metadata": {},
     "output_type": "execute_result"
    }
   ],
   "source": [
    "cm.chart_me(df, ['floaties', 'floaties2'])[0]"
   ]
  },
  {
   "cell_type": "code",
   "execution_count": 5,
   "id": "f42bbcdc",
   "metadata": {},
   "outputs": [
    {
     "name": "stdout",
     "output_type": "stream",
     "text": [
      "  datie_dates_ym_temp  datie_dates_ym_temp_count\n",
      "0             2020-01                          3\n",
      "1             2021-02                          6\n",
      "Index(['datie_dates_ym_temp', 'datie_dates_ym_temp_count'], dtype='object')\n",
      "datie_dates_ym_temp-datie_dates_ym_temp_count\n"
     ]
    },
    {
     "data": {
      "text/html": [
       "\n",
       "<div id=\"altair-viz-e90003e0e60d400891ceb511e05c7f92\"></div>\n",
       "<script type=\"text/javascript\">\n",
       "  var VEGA_DEBUG = (typeof VEGA_DEBUG == \"undefined\") ? {} : VEGA_DEBUG;\n",
       "  (function(spec, embedOpt){\n",
       "    let outputDiv = document.currentScript.previousElementSibling;\n",
       "    if (outputDiv.id !== \"altair-viz-e90003e0e60d400891ceb511e05c7f92\") {\n",
       "      outputDiv = document.getElementById(\"altair-viz-e90003e0e60d400891ceb511e05c7f92\");\n",
       "    }\n",
       "    const paths = {\n",
       "      \"vega\": \"https://cdn.jsdelivr.net/npm//vega@5?noext\",\n",
       "      \"vega-lib\": \"https://cdn.jsdelivr.net/npm//vega-lib?noext\",\n",
       "      \"vega-lite\": \"https://cdn.jsdelivr.net/npm//vega-lite@4.17.0?noext\",\n",
       "      \"vega-embed\": \"https://cdn.jsdelivr.net/npm//vega-embed@6?noext\",\n",
       "    };\n",
       "\n",
       "    function maybeLoadScript(lib, version) {\n",
       "      var key = `${lib.replace(\"-\", \"\")}_version`;\n",
       "      return (VEGA_DEBUG[key] == version) ?\n",
       "        Promise.resolve(paths[lib]) :\n",
       "        new Promise(function(resolve, reject) {\n",
       "          var s = document.createElement('script');\n",
       "          document.getElementsByTagName(\"head\")[0].appendChild(s);\n",
       "          s.async = true;\n",
       "          s.onload = () => {\n",
       "            VEGA_DEBUG[key] = version;\n",
       "            return resolve(paths[lib]);\n",
       "          };\n",
       "          s.onerror = () => reject(`Error loading script: ${paths[lib]}`);\n",
       "          s.src = paths[lib];\n",
       "        });\n",
       "    }\n",
       "\n",
       "    function showError(err) {\n",
       "      outputDiv.innerHTML = `<div class=\"error\" style=\"color:red;\">${err}</div>`;\n",
       "      throw err;\n",
       "    }\n",
       "\n",
       "    function displayChart(vegaEmbed) {\n",
       "      vegaEmbed(outputDiv, spec, embedOpt)\n",
       "        .catch(err => showError(`Javascript Error: ${err.message}<br>This usually means there's a typo in your chart specification. See the javascript console for the full traceback.`));\n",
       "    }\n",
       "\n",
       "    if(typeof define === \"function\" && define.amd) {\n",
       "      requirejs.config({paths});\n",
       "      require([\"vega-embed\"], displayChart, err => showError(`Error loading script: ${err.message}`));\n",
       "    } else {\n",
       "      maybeLoadScript(\"vega\", \"5\")\n",
       "        .then(() => maybeLoadScript(\"vega-lite\", \"4.17.0\"))\n",
       "        .then(() => maybeLoadScript(\"vega-embed\", \"6\"))\n",
       "        .catch(showError)\n",
       "        .then(() => displayChart(vegaEmbed));\n",
       "    }\n",
       "  })({\"config\": {\"view\": {\"continuousWidth\": 400, \"continuousHeight\": 300}}, \"data\": {\"name\": \"data-0c5ef37ad6a4dec83e0875f7e9f90730\"}, \"mark\": \"bar\", \"encoding\": {\"x\": {\"field\": \"datie_dates_ym_temp\", \"type\": \"ordinal\"}, \"y\": {\"field\": \"datie_dates_ym_temp_count\", \"type\": \"quantitative\"}}, \"$schema\": \"https://vega.github.io/schema/vega-lite/v4.17.0.json\", \"datasets\": {\"data-0c5ef37ad6a4dec83e0875f7e9f90730\": [{\"datie_dates_ym_temp\": \"2020-01\", \"datie_dates_ym_temp_count\": 3}, {\"datie_dates_ym_temp\": \"2021-02\", \"datie_dates_ym_temp_count\": 6}]}}, {\"mode\": \"vega-lite\"});\n",
       "</script>"
      ],
      "text/plain": [
       "alt.Chart(...)"
      ]
     },
     "execution_count": 5,
     "metadata": {},
     "output_type": "execute_result"
    }
   ],
   "source": [
    "cm.chart_me(df, ['datie_dates'])[0]"
   ]
  },
  {
   "cell_type": "code",
   "execution_count": 6,
   "id": "640a2fac",
   "metadata": {},
   "outputs": [
    {
     "data": {
      "text/html": [
       "<div>\n",
       "<style scoped>\n",
       "    .dataframe tbody tr th:only-of-type {\n",
       "        vertical-align: middle;\n",
       "    }\n",
       "\n",
       "    .dataframe tbody tr th {\n",
       "        vertical-align: top;\n",
       "    }\n",
       "\n",
       "    .dataframe thead th {\n",
       "        text-align: right;\n",
       "    }\n",
       "</style>\n",
       "<table border=\"1\" class=\"dataframe\">\n",
       "  <thead>\n",
       "    <tr style=\"text-align: right;\">\n",
       "      <th></th>\n",
       "      <th>integers</th>\n",
       "      <th>floaties</th>\n",
       "      <th>floaties_key</th>\n",
       "      <th>integer_bools</th>\n",
       "      <th>stringer</th>\n",
       "      <th>datie_dates</th>\n",
       "    </tr>\n",
       "  </thead>\n",
       "  <tbody>\n",
       "    <tr>\n",
       "      <th>0</th>\n",
       "      <td>1</td>\n",
       "      <td>0.907579</td>\n",
       "      <td>0</td>\n",
       "      <td>False</td>\n",
       "      <td>rabbit</td>\n",
       "      <td>2020-01-01</td>\n",
       "    </tr>\n",
       "  </tbody>\n",
       "</table>\n",
       "</div>"
      ],
      "text/plain": [
       "   integers  floaties  floaties_key  integer_bools stringer datie_dates\n",
       "0         1  0.907579             0          False   rabbit  2020-01-01"
      ]
     },
     "execution_count": 6,
     "metadata": {},
     "output_type": "execute_result"
    }
   ],
   "source": [
    "df.head(n=1)"
   ]
  },
  {
   "cell_type": "code",
   "execution_count": 7,
   "id": "bf883386",
   "metadata": {},
   "outputs": [
    {
     "name": "stdout",
     "output_type": "stream",
     "text": [
      "in here\n"
     ]
    },
    {
     "data": {
      "text/html": [
       "\n",
       "<div id=\"altair-viz-8251b9dc07bc460984a4be947140c678\"></div>\n",
       "<script type=\"text/javascript\">\n",
       "  var VEGA_DEBUG = (typeof VEGA_DEBUG == \"undefined\") ? {} : VEGA_DEBUG;\n",
       "  (function(spec, embedOpt){\n",
       "    let outputDiv = document.currentScript.previousElementSibling;\n",
       "    if (outputDiv.id !== \"altair-viz-8251b9dc07bc460984a4be947140c678\") {\n",
       "      outputDiv = document.getElementById(\"altair-viz-8251b9dc07bc460984a4be947140c678\");\n",
       "    }\n",
       "    const paths = {\n",
       "      \"vega\": \"https://cdn.jsdelivr.net/npm//vega@5?noext\",\n",
       "      \"vega-lib\": \"https://cdn.jsdelivr.net/npm//vega-lib?noext\",\n",
       "      \"vega-lite\": \"https://cdn.jsdelivr.net/npm//vega-lite@4.17.0?noext\",\n",
       "      \"vega-embed\": \"https://cdn.jsdelivr.net/npm//vega-embed@6?noext\",\n",
       "    };\n",
       "\n",
       "    function maybeLoadScript(lib, version) {\n",
       "      var key = `${lib.replace(\"-\", \"\")}_version`;\n",
       "      return (VEGA_DEBUG[key] == version) ?\n",
       "        Promise.resolve(paths[lib]) :\n",
       "        new Promise(function(resolve, reject) {\n",
       "          var s = document.createElement('script');\n",
       "          document.getElementsByTagName(\"head\")[0].appendChild(s);\n",
       "          s.async = true;\n",
       "          s.onload = () => {\n",
       "            VEGA_DEBUG[key] = version;\n",
       "            return resolve(paths[lib]);\n",
       "          };\n",
       "          s.onerror = () => reject(`Error loading script: ${paths[lib]}`);\n",
       "          s.src = paths[lib];\n",
       "        });\n",
       "    }\n",
       "\n",
       "    function showError(err) {\n",
       "      outputDiv.innerHTML = `<div class=\"error\" style=\"color:red;\">${err}</div>`;\n",
       "      throw err;\n",
       "    }\n",
       "\n",
       "    function displayChart(vegaEmbed) {\n",
       "      vegaEmbed(outputDiv, spec, embedOpt)\n",
       "        .catch(err => showError(`Javascript Error: ${err.message}<br>This usually means there's a typo in your chart specification. See the javascript console for the full traceback.`));\n",
       "    }\n",
       "\n",
       "    if(typeof define === \"function\" && define.amd) {\n",
       "      requirejs.config({paths});\n",
       "      require([\"vega-embed\"], displayChart, err => showError(`Error loading script: ${err.message}`));\n",
       "    } else {\n",
       "      maybeLoadScript(\"vega\", \"5\")\n",
       "        .then(() => maybeLoadScript(\"vega-lite\", \"4.17.0\"))\n",
       "        .then(() => maybeLoadScript(\"vega-embed\", \"6\"))\n",
       "        .catch(showError)\n",
       "        .then(() => displayChart(vegaEmbed));\n",
       "    }\n",
       "  })({\"config\": {\"view\": {\"continuousWidth\": 400, \"continuousHeight\": 300}}, \"data\": {\"name\": \"data-d9eacf1da0ebb153646ee8e9f437f22c\"}, \"mark\": \"bar\", \"encoding\": {\"x\": {\"field\": \"stringer_count\", \"type\": \"quantitative\"}, \"y\": {\"field\": \"stringer\", \"type\": \"ordinal\"}}, \"$schema\": \"https://vega.github.io/schema/vega-lite/v4.17.0.json\", \"datasets\": {\"data-d9eacf1da0ebb153646ee8e9f437f22c\": [{\"stringer\": \"rabbit\", \"stringer_count\": 6}, {\"stringer\": \"leopard\", \"stringer_count\": 3}]}}, {\"mode\": \"vega-lite\"});\n",
       "</script>"
      ],
      "text/plain": [
       "alt.Chart(...)"
      ]
     },
     "execution_count": 7,
     "metadata": {},
     "output_type": "execute_result"
    }
   ],
   "source": [
    "cm.chart_me(df, ['stringer'])[0]"
   ]
  },
  {
   "cell_type": "code",
   "execution_count": 8,
   "id": "ee6087c7",
   "metadata": {},
   "outputs": [
    {
     "name": "stdout",
     "output_type": "stream",
     "text": [
      "in here\n"
     ]
    },
    {
     "data": {
      "text/html": [
       "\n",
       "<div id=\"altair-viz-00b049da7df64964a087e04f462e108a\"></div>\n",
       "<script type=\"text/javascript\">\n",
       "  var VEGA_DEBUG = (typeof VEGA_DEBUG == \"undefined\") ? {} : VEGA_DEBUG;\n",
       "  (function(spec, embedOpt){\n",
       "    let outputDiv = document.currentScript.previousElementSibling;\n",
       "    if (outputDiv.id !== \"altair-viz-00b049da7df64964a087e04f462e108a\") {\n",
       "      outputDiv = document.getElementById(\"altair-viz-00b049da7df64964a087e04f462e108a\");\n",
       "    }\n",
       "    const paths = {\n",
       "      \"vega\": \"https://cdn.jsdelivr.net/npm//vega@5?noext\",\n",
       "      \"vega-lib\": \"https://cdn.jsdelivr.net/npm//vega-lib?noext\",\n",
       "      \"vega-lite\": \"https://cdn.jsdelivr.net/npm//vega-lite@4.17.0?noext\",\n",
       "      \"vega-embed\": \"https://cdn.jsdelivr.net/npm//vega-embed@6?noext\",\n",
       "    };\n",
       "\n",
       "    function maybeLoadScript(lib, version) {\n",
       "      var key = `${lib.replace(\"-\", \"\")}_version`;\n",
       "      return (VEGA_DEBUG[key] == version) ?\n",
       "        Promise.resolve(paths[lib]) :\n",
       "        new Promise(function(resolve, reject) {\n",
       "          var s = document.createElement('script');\n",
       "          document.getElementsByTagName(\"head\")[0].appendChild(s);\n",
       "          s.async = true;\n",
       "          s.onload = () => {\n",
       "            VEGA_DEBUG[key] = version;\n",
       "            return resolve(paths[lib]);\n",
       "          };\n",
       "          s.onerror = () => reject(`Error loading script: ${paths[lib]}`);\n",
       "          s.src = paths[lib];\n",
       "        });\n",
       "    }\n",
       "\n",
       "    function showError(err) {\n",
       "      outputDiv.innerHTML = `<div class=\"error\" style=\"color:red;\">${err}</div>`;\n",
       "      throw err;\n",
       "    }\n",
       "\n",
       "    function displayChart(vegaEmbed) {\n",
       "      vegaEmbed(outputDiv, spec, embedOpt)\n",
       "        .catch(err => showError(`Javascript Error: ${err.message}<br>This usually means there's a typo in your chart specification. See the javascript console for the full traceback.`));\n",
       "    }\n",
       "\n",
       "    if(typeof define === \"function\" && define.amd) {\n",
       "      requirejs.config({paths});\n",
       "      require([\"vega-embed\"], displayChart, err => showError(`Error loading script: ${err.message}`));\n",
       "    } else {\n",
       "      maybeLoadScript(\"vega\", \"5\")\n",
       "        .then(() => maybeLoadScript(\"vega-lite\", \"4.17.0\"))\n",
       "        .then(() => maybeLoadScript(\"vega-embed\", \"6\"))\n",
       "        .catch(showError)\n",
       "        .then(() => displayChart(vegaEmbed));\n",
       "    }\n",
       "  })({\"config\": {\"view\": {\"continuousWidth\": 400, \"continuousHeight\": 300}}, \"data\": {\"name\": \"data-14a61fdcfa70cacb6424f2e28dd36034\"}, \"mark\": \"bar\", \"encoding\": {\"x\": {\"field\": \"integer_bools_count\", \"type\": \"quantitative\"}, \"y\": {\"field\": \"integer_bools\", \"type\": \"ordinal\"}}, \"$schema\": \"https://vega.github.io/schema/vega-lite/v4.17.0.json\", \"datasets\": {\"data-14a61fdcfa70cacb6424f2e28dd36034\": [{\"integer_bools\": false, \"integer_bools_count\": 5}, {\"integer_bools\": true, \"integer_bools_count\": 4}]}}, {\"mode\": \"vega-lite\"});\n",
       "</script>"
      ],
      "text/plain": [
       "alt.Chart(...)"
      ]
     },
     "execution_count": 8,
     "metadata": {},
     "output_type": "execute_result"
    }
   ],
   "source": [
    "cm.chart_me(df, ['integer_bools'])[0]"
   ]
  },
  {
   "cell_type": "code",
   "execution_count": 9,
   "id": "17a944c9",
   "metadata": {},
   "outputs": [
    {
     "data": {
      "text/html": [
       "\n",
       "<div id=\"altair-viz-2dedaefabdeb48c7a296ee4360ff31cd\"></div>\n",
       "<script type=\"text/javascript\">\n",
       "  var VEGA_DEBUG = (typeof VEGA_DEBUG == \"undefined\") ? {} : VEGA_DEBUG;\n",
       "  (function(spec, embedOpt){\n",
       "    let outputDiv = document.currentScript.previousElementSibling;\n",
       "    if (outputDiv.id !== \"altair-viz-2dedaefabdeb48c7a296ee4360ff31cd\") {\n",
       "      outputDiv = document.getElementById(\"altair-viz-2dedaefabdeb48c7a296ee4360ff31cd\");\n",
       "    }\n",
       "    const paths = {\n",
       "      \"vega\": \"https://cdn.jsdelivr.net/npm//vega@5?noext\",\n",
       "      \"vega-lib\": \"https://cdn.jsdelivr.net/npm//vega-lib?noext\",\n",
       "      \"vega-lite\": \"https://cdn.jsdelivr.net/npm//vega-lite@4.17.0?noext\",\n",
       "      \"vega-embed\": \"https://cdn.jsdelivr.net/npm//vega-embed@6?noext\",\n",
       "    };\n",
       "\n",
       "    function maybeLoadScript(lib, version) {\n",
       "      var key = `${lib.replace(\"-\", \"\")}_version`;\n",
       "      return (VEGA_DEBUG[key] == version) ?\n",
       "        Promise.resolve(paths[lib]) :\n",
       "        new Promise(function(resolve, reject) {\n",
       "          var s = document.createElement('script');\n",
       "          document.getElementsByTagName(\"head\")[0].appendChild(s);\n",
       "          s.async = true;\n",
       "          s.onload = () => {\n",
       "            VEGA_DEBUG[key] = version;\n",
       "            return resolve(paths[lib]);\n",
       "          };\n",
       "          s.onerror = () => reject(`Error loading script: ${paths[lib]}`);\n",
       "          s.src = paths[lib];\n",
       "        });\n",
       "    }\n",
       "\n",
       "    function showError(err) {\n",
       "      outputDiv.innerHTML = `<div class=\"error\" style=\"color:red;\">${err}</div>`;\n",
       "      throw err;\n",
       "    }\n",
       "\n",
       "    function displayChart(vegaEmbed) {\n",
       "      vegaEmbed(outputDiv, spec, embedOpt)\n",
       "        .catch(err => showError(`Javascript Error: ${err.message}<br>This usually means there's a typo in your chart specification. See the javascript console for the full traceback.`));\n",
       "    }\n",
       "\n",
       "    if(typeof define === \"function\" && define.amd) {\n",
       "      requirejs.config({paths});\n",
       "      require([\"vega-embed\"], displayChart, err => showError(`Error loading script: ${err.message}`));\n",
       "    } else {\n",
       "      maybeLoadScript(\"vega\", \"5\")\n",
       "        .then(() => maybeLoadScript(\"vega-lite\", \"4.17.0\"))\n",
       "        .then(() => maybeLoadScript(\"vega-embed\", \"6\"))\n",
       "        .catch(showError)\n",
       "        .then(() => displayChart(vegaEmbed));\n",
       "    }\n",
       "  })({\"config\": {\"view\": {\"continuousWidth\": 400, \"continuousHeight\": 300}}, \"data\": {\"name\": \"data-c7be269df4eb14610f35942740b942f1\"}, \"mark\": \"bar\", \"encoding\": {\"x\": {\"bin\": true, \"field\": \"floaties\", \"type\": \"quantitative\"}, \"y\": {\"aggregate\": \"count\", \"type\": \"quantitative\"}}, \"$schema\": \"https://vega.github.io/schema/vega-lite/v4.17.0.json\", \"datasets\": {\"data-c7be269df4eb14610f35942740b942f1\": [{\"integers\": 1, \"floaties\": 0.9075791961346361, \"floaties_key\": 0, \"integer_bools\": false, \"stringer\": \"rabbit\", \"datie_dates\": \"2020-01-01T00:00:00\"}, {\"integers\": 2, \"floaties\": 0.8094942642056522, \"floaties_key\": 1, \"integer_bools\": false, \"stringer\": \"leopard\", \"datie_dates\": \"2021-02-03T00:00:00\"}, {\"integers\": 3, \"floaties\": 0.8128462509612344, \"floaties_key\": 2, \"integer_bools\": false, \"stringer\": \"rabbit\", \"datie_dates\": \"2021-02-03T00:00:00\"}, {\"integers\": 1, \"floaties\": 0.14610990924275358, \"floaties_key\": 3, \"integer_bools\": false, \"stringer\": \"rabbit\", \"datie_dates\": \"2020-01-01T00:00:00\"}, {\"integers\": 2, \"floaties\": 0.10214510728601423, \"floaties_key\": 4, \"integer_bools\": true, \"stringer\": \"leopard\", \"datie_dates\": \"2021-02-03T00:00:00\"}, {\"integers\": 3, \"floaties\": 0.4788753839803681, \"floaties_key\": 5, \"integer_bools\": true, \"stringer\": \"rabbit\", \"datie_dates\": \"2021-02-03T00:00:00\"}, {\"integers\": 1, \"floaties\": 0.5535234869745908, \"floaties_key\": 6, \"integer_bools\": false, \"stringer\": \"rabbit\", \"datie_dates\": \"2020-01-01T00:00:00\"}, {\"integers\": 2, \"floaties\": 0.4451082704717657, \"floaties_key\": 7, \"integer_bools\": true, \"stringer\": \"leopard\", \"datie_dates\": \"2021-02-03T00:00:00\"}, {\"integers\": 3, \"floaties\": 0.4746608889045505, \"floaties_key\": 8, \"integer_bools\": true, \"stringer\": \"rabbit\", \"datie_dates\": \"2021-02-03T00:00:00\"}]}}, {\"mode\": \"vega-lite\"});\n",
       "</script>"
      ],
      "text/plain": [
       "alt.Chart(...)"
      ]
     },
     "execution_count": 9,
     "metadata": {},
     "output_type": "execute_result"
    }
   ],
   "source": [
    "cm.chart_me(df, ['floaties'])[0]"
   ]
  },
  {
   "cell_type": "code",
   "execution_count": 10,
   "id": "5ae0ab51",
   "metadata": {},
   "outputs": [
    {
     "name": "stdout",
     "output_type": "stream",
     "text": [
      "in here\n"
     ]
    },
    {
     "data": {
      "text/html": [
       "\n",
       "<div id=\"altair-viz-fb8ad9d287fe4f38b3cfd8fa99f1dc65\"></div>\n",
       "<script type=\"text/javascript\">\n",
       "  var VEGA_DEBUG = (typeof VEGA_DEBUG == \"undefined\") ? {} : VEGA_DEBUG;\n",
       "  (function(spec, embedOpt){\n",
       "    let outputDiv = document.currentScript.previousElementSibling;\n",
       "    if (outputDiv.id !== \"altair-viz-fb8ad9d287fe4f38b3cfd8fa99f1dc65\") {\n",
       "      outputDiv = document.getElementById(\"altair-viz-fb8ad9d287fe4f38b3cfd8fa99f1dc65\");\n",
       "    }\n",
       "    const paths = {\n",
       "      \"vega\": \"https://cdn.jsdelivr.net/npm//vega@5?noext\",\n",
       "      \"vega-lib\": \"https://cdn.jsdelivr.net/npm//vega-lib?noext\",\n",
       "      \"vega-lite\": \"https://cdn.jsdelivr.net/npm//vega-lite@4.17.0?noext\",\n",
       "      \"vega-embed\": \"https://cdn.jsdelivr.net/npm//vega-embed@6?noext\",\n",
       "    };\n",
       "\n",
       "    function maybeLoadScript(lib, version) {\n",
       "      var key = `${lib.replace(\"-\", \"\")}_version`;\n",
       "      return (VEGA_DEBUG[key] == version) ?\n",
       "        Promise.resolve(paths[lib]) :\n",
       "        new Promise(function(resolve, reject) {\n",
       "          var s = document.createElement('script');\n",
       "          document.getElementsByTagName(\"head\")[0].appendChild(s);\n",
       "          s.async = true;\n",
       "          s.onload = () => {\n",
       "            VEGA_DEBUG[key] = version;\n",
       "            return resolve(paths[lib]);\n",
       "          };\n",
       "          s.onerror = () => reject(`Error loading script: ${paths[lib]}`);\n",
       "          s.src = paths[lib];\n",
       "        });\n",
       "    }\n",
       "\n",
       "    function showError(err) {\n",
       "      outputDiv.innerHTML = `<div class=\"error\" style=\"color:red;\">${err}</div>`;\n",
       "      throw err;\n",
       "    }\n",
       "\n",
       "    function displayChart(vegaEmbed) {\n",
       "      vegaEmbed(outputDiv, spec, embedOpt)\n",
       "        .catch(err => showError(`Javascript Error: ${err.message}<br>This usually means there's a typo in your chart specification. See the javascript console for the full traceback.`));\n",
       "    }\n",
       "\n",
       "    if(typeof define === \"function\" && define.amd) {\n",
       "      requirejs.config({paths});\n",
       "      require([\"vega-embed\"], displayChart, err => showError(`Error loading script: ${err.message}`));\n",
       "    } else {\n",
       "      maybeLoadScript(\"vega\", \"5\")\n",
       "        .then(() => maybeLoadScript(\"vega-lite\", \"4.17.0\"))\n",
       "        .then(() => maybeLoadScript(\"vega-embed\", \"6\"))\n",
       "        .catch(showError)\n",
       "        .then(() => displayChart(vegaEmbed));\n",
       "    }\n",
       "  })({\"config\": {\"view\": {\"continuousWidth\": 400, \"continuousHeight\": 300}}, \"data\": {\"name\": \"data-0c6cec732ba5542ae18034ecbefb214f\"}, \"mark\": \"bar\", \"encoding\": {\"x\": {\"aggregate\": \"count\", \"type\": \"quantitative\"}, \"y\": {\"field\": \"floaties_key\", \"type\": \"ordinal\"}}, \"$schema\": \"https://vega.github.io/schema/vega-lite/v4.17.0.json\", \"datasets\": {\"data-0c6cec732ba5542ae18034ecbefb214f\": [{\"integers\": 1, \"floaties\": 0.9075791961346361, \"floaties_key\": 0, \"integer_bools\": false, \"stringer\": \"rabbit\", \"datie_dates\": \"2020-01-01T00:00:00\"}, {\"integers\": 2, \"floaties\": 0.8094942642056522, \"floaties_key\": 1, \"integer_bools\": false, \"stringer\": \"leopard\", \"datie_dates\": \"2021-02-03T00:00:00\"}, {\"integers\": 3, \"floaties\": 0.8128462509612344, \"floaties_key\": 2, \"integer_bools\": false, \"stringer\": \"rabbit\", \"datie_dates\": \"2021-02-03T00:00:00\"}, {\"integers\": 1, \"floaties\": 0.14610990924275358, \"floaties_key\": 3, \"integer_bools\": false, \"stringer\": \"rabbit\", \"datie_dates\": \"2020-01-01T00:00:00\"}, {\"integers\": 2, \"floaties\": 0.10214510728601423, \"floaties_key\": 4, \"integer_bools\": true, \"stringer\": \"leopard\", \"datie_dates\": \"2021-02-03T00:00:00\"}]}}, {\"mode\": \"vega-lite\"});\n",
       "</script>"
      ],
      "text/plain": [
       "alt.Chart(...)"
      ]
     },
     "execution_count": 10,
     "metadata": {},
     "output_type": "execute_result"
    }
   ],
   "source": [
    "cm.chart_me(df, ['floaties_key'])[0]"
   ]
  },
  {
   "cell_type": "code",
   "execution_count": 11,
   "id": "dd73f064",
   "metadata": {},
   "outputs": [],
   "source": [
    "import numpy as np"
   ]
  },
  {
   "cell_type": "code",
   "execution_count": 17,
   "id": "a2437cc8",
   "metadata": {},
   "outputs": [],
   "source": [
    "df = pd.DataFrame([['A', 1, 2, 3],\n",
    "                   ['B', 4, 5, 6],\n",
    "                   ['B', 7, 8, 9],\n",
    "                   [np.nan, np.nan, np.nan]],\n",
    "                  columns=['Key', 'A', 'B', 'C'])"
   ]
  },
  {
   "cell_type": "code",
   "execution_count": 20,
   "id": "c7b2633b",
   "metadata": {},
   "outputs": [
    {
     "data": {
      "text/html": [
       "<div>\n",
       "<style scoped>\n",
       "    .dataframe tbody tr th:only-of-type {\n",
       "        vertical-align: middle;\n",
       "    }\n",
       "\n",
       "    .dataframe tbody tr th {\n",
       "        vertical-align: top;\n",
       "    }\n",
       "\n",
       "    .dataframe thead tr th {\n",
       "        text-align: left;\n",
       "    }\n",
       "</style>\n",
       "<table border=\"1\" class=\"dataframe\">\n",
       "  <thead>\n",
       "    <tr>\n",
       "      <th></th>\n",
       "      <th>Key</th>\n",
       "      <th>A</th>\n",
       "      <th>Key</th>\n",
       "    </tr>\n",
       "    <tr>\n",
       "      <th></th>\n",
       "      <th></th>\n",
       "      <th></th>\n",
       "      <th>count</th>\n",
       "    </tr>\n",
       "  </thead>\n",
       "  <tbody>\n",
       "    <tr>\n",
       "      <th>0</th>\n",
       "      <td>A</td>\n",
       "      <td>1.0</td>\n",
       "      <td>1</td>\n",
       "    </tr>\n",
       "    <tr>\n",
       "      <th>1</th>\n",
       "      <td>B</td>\n",
       "      <td>4.0</td>\n",
       "      <td>1</td>\n",
       "    </tr>\n",
       "    <tr>\n",
       "      <th>2</th>\n",
       "      <td>B</td>\n",
       "      <td>7.0</td>\n",
       "      <td>1</td>\n",
       "    </tr>\n",
       "  </tbody>\n",
       "</table>\n",
       "</div>"
      ],
      "text/plain": [
       "  Key    A   Key\n",
       "           count\n",
       "0   A  1.0     1\n",
       "1   B  4.0     1\n",
       "2   B  7.0     1"
      ]
     },
     "execution_count": 20,
     "metadata": {},
     "output_type": "execute_result"
    }
   ],
   "source": [
    "df.groupby(['Key', 'A']).agg({'Key' : ['count']}).reset_index()"
   ]
  },
  {
   "cell_type": "code",
   "execution_count": null,
   "id": "beeb59e5",
   "metadata": {},
   "outputs": [],
   "source": [
    "#Logic on Twitter"
   ]
  },
  {
   "cell_type": "code",
   "execution_count": 22,
   "id": "7e00a4d9",
   "metadata": {},
   "outputs": [
    {
     "data": {
      "text/plain": [
       "['key_1_a', 'key_1_b', 'key_2_a', 'key_2_b']"
      ]
     },
     "execution_count": 22,
     "metadata": {},
     "output_type": "execute_result"
    }
   ],
   "source": [
    "d = {'key_1': ['a', 'b'], 'key_2': ['a','b']}\n",
    "[f\"{k}_{i}\" for k in d.keys() for i in d[k]]"
   ]
  },
  {
   "cell_type": "code",
   "execution_count": 25,
   "id": "49102bbe",
   "metadata": {},
   "outputs": [
    {
     "name": "stdout",
     "output_type": "stream",
     "text": [
      "['a', 'b']\n",
      "['a']\n"
     ]
    }
   ],
   "source": [
    "print(list(['a', 'b']))\n",
    "print(list('a'))"
   ]
  },
  {
   "cell_type": "code",
   "execution_count": 40,
   "id": "dba51093",
   "metadata": {},
   "outputs": [
    {
     "data": {
      "text/plain": [
       "3"
      ]
     },
     "execution_count": 40,
     "metadata": {},
     "output_type": "execute_result"
    }
   ],
   "source": [
    "df['a'].nunique()"
   ]
  },
  {
   "cell_type": "code",
   "execution_count": 13,
   "id": "93de6854",
   "metadata": {},
   "outputs": [
    {
     "data": {
      "text/plain": [
       "21"
      ]
     },
     "execution_count": 13,
     "metadata": {},
     "output_type": "execute_result"
    }
   ],
   "source": [
    "len([None, None, None]*6 + [None, None, 'Not Null'])"
   ]
  },
  {
   "cell_type": "code",
   "execution_count": 36,
   "id": "4d713775",
   "metadata": {},
   "outputs": [
    {
     "data": {
      "text/plain": [
       "False"
      ]
     },
     "execution_count": 36,
     "metadata": {},
     "output_type": "execute_result"
    }
   ],
   "source": [
    "df['cities'].nunique() == df['cities'].shape[0]"
   ]
  },
  {
   "cell_type": "code",
   "execution_count": 14,
   "id": "ab8a8de4",
   "metadata": {},
   "outputs": [],
   "source": [
    "from pandas.api.types import infer_dtype"
   ]
  },
  {
   "cell_type": "code",
   "execution_count": 15,
   "id": "8c44d69d",
   "metadata": {},
   "outputs": [
    {
     "data": {
      "text/plain": [
       "'datetime64'"
      ]
     },
     "execution_count": 15,
     "metadata": {},
     "output_type": "execute_result"
    }
   ],
   "source": [
    "infer_dtype(df['datie_dates'])"
   ]
  },
  {
   "cell_type": "code",
   "execution_count": 19,
   "id": "f83c6689",
   "metadata": {},
   "outputs": [],
   "source": [
    "r = df.apply(infer_dtype).to_dict()"
   ]
  },
  {
   "cell_type": "code",
   "execution_count": 23,
   "id": "c09f2fc5",
   "metadata": {},
   "outputs": [
    {
     "data": {
      "text/plain": [
       "{'a': 'integer',\n",
       " 'Bell__Chart': 'floating',\n",
       " 'decorated-elephant': 'integer',\n",
       " 'animals@#$%^': 'string',\n",
       " 'cities': 'string',\n",
       " 'datie_dates': 'datetime64'}"
      ]
     },
     "execution_count": 23,
     "metadata": {},
     "output_type": "execute_result"
    }
   ],
   "source": [
    "{k:v for k, v in r.items()}"
   ]
  },
  {
   "cell_type": "code",
   "execution_count": null,
   "id": "fe70d5cf",
   "metadata": {},
   "outputs": [],
   "source": []
  },
  {
   "cell_type": "code",
   "execution_count": 33,
   "id": "bf4dd55f",
   "metadata": {},
   "outputs": [
    {
     "ename": "ParserError",
     "evalue": "Unknown string format: xyx-error",
     "output_type": "error",
     "traceback": [
      "\u001b[1;31m---------------------------------------------------------------------------\u001b[0m",
      "\u001b[1;31mTypeError\u001b[0m                                 Traceback (most recent call last)",
      "File \u001b[1;32m~\\Anaconda3\\envs\\env_chart_me\\lib\\site-packages\\pandas\\core\\arrays\\datetimes.py:2211\u001b[0m, in \u001b[0;36mobjects_to_datetime64ns\u001b[1;34m(data, dayfirst, yearfirst, utc, errors, require_iso8601, allow_object, allow_mixed)\u001b[0m\n\u001b[0;32m   <a href='file:///c%3A/Users/lgarzia/Anaconda3/envs/env_chart_me/lib/site-packages/pandas/core/arrays/datetimes.py?line=2209'>2210</a>\u001b[0m \u001b[39mtry\u001b[39;00m:\n\u001b[1;32m-> <a href='file:///c%3A/Users/lgarzia/Anaconda3/envs/env_chart_me/lib/site-packages/pandas/core/arrays/datetimes.py?line=2210'>2211</a>\u001b[0m     values, tz_parsed \u001b[39m=\u001b[39m conversion\u001b[39m.\u001b[39;49mdatetime_to_datetime64(data\u001b[39m.\u001b[39;49mravel(\u001b[39m\"\u001b[39;49m\u001b[39mK\u001b[39;49m\u001b[39m\"\u001b[39;49m))\n\u001b[0;32m   <a href='file:///c%3A/Users/lgarzia/Anaconda3/envs/env_chart_me/lib/site-packages/pandas/core/arrays/datetimes.py?line=2211'>2212</a>\u001b[0m     \u001b[39m# If tzaware, these values represent unix timestamps, so we\u001b[39;00m\n\u001b[0;32m   <a href='file:///c%3A/Users/lgarzia/Anaconda3/envs/env_chart_me/lib/site-packages/pandas/core/arrays/datetimes.py?line=2212'>2213</a>\u001b[0m     \u001b[39m#  return them as i8 to distinguish from wall times\u001b[39;00m\n",
      "File \u001b[1;32m~\\Anaconda3\\envs\\env_chart_me\\lib\\site-packages\\pandas\\_libs\\tslibs\\conversion.pyx:360\u001b[0m, in \u001b[0;36mpandas._libs.tslibs.conversion.datetime_to_datetime64\u001b[1;34m()\u001b[0m\n",
      "\u001b[1;31mTypeError\u001b[0m: Unrecognized value type: <class 'str'>",
      "\nDuring handling of the above exception, another exception occurred:\n",
      "\u001b[1;31mParserError\u001b[0m                               Traceback (most recent call last)",
      "\u001b[1;32mc:\\Users\\lgarzia\\Documents\\GitHub\\chart_me\\examples\\sample_1_univariate.ipynb Cell 14'\u001b[0m in \u001b[0;36m<cell line: 2>\u001b[1;34m()\u001b[0m\n\u001b[0;32m      <a href='vscode-notebook-cell:/c%3A/Users/lgarzia/Documents/GitHub/chart_me/examples/sample_1_univariate.ipynb#ch0000018?line=0'>1</a>\u001b[0m \u001b[39mimport\u001b[39;00m \u001b[39mpandas\u001b[39;00m \u001b[39mas\u001b[39;00m \u001b[39mpd\u001b[39;00m\n\u001b[1;32m----> <a href='vscode-notebook-cell:/c%3A/Users/lgarzia/Documents/GitHub/chart_me/examples/sample_1_univariate.ipynb#ch0000018?line=1'>2</a>\u001b[0m pd\u001b[39m.\u001b[39;49mto_datetime([\u001b[39m'\u001b[39;49m\u001b[39m2021-01-01\u001b[39;49m\u001b[39m'\u001b[39;49m, \u001b[39m'\u001b[39;49m\u001b[39m2022-02-02\u001b[39;49m\u001b[39m'\u001b[39;49m, \u001b[39m'\u001b[39;49m\u001b[39mxyx-error\u001b[39;49m\u001b[39m'\u001b[39;49m])\n",
      "File \u001b[1;32m~\\Anaconda3\\envs\\env_chart_me\\lib\\site-packages\\pandas\\core\\tools\\datetimes.py:1076\u001b[0m, in \u001b[0;36mto_datetime\u001b[1;34m(arg, errors, dayfirst, yearfirst, utc, format, exact, unit, infer_datetime_format, origin, cache)\u001b[0m\n\u001b[0;32m   <a href='file:///c%3A/Users/lgarzia/Anaconda3/envs/env_chart_me/lib/site-packages/pandas/core/tools/datetimes.py?line=1073'>1074</a>\u001b[0m         result \u001b[39m=\u001b[39m _convert_and_box_cache(arg, cache_array)\n\u001b[0;32m   <a href='file:///c%3A/Users/lgarzia/Anaconda3/envs/env_chart_me/lib/site-packages/pandas/core/tools/datetimes.py?line=1074'>1075</a>\u001b[0m     \u001b[39melse\u001b[39;00m:\n\u001b[1;32m-> <a href='file:///c%3A/Users/lgarzia/Anaconda3/envs/env_chart_me/lib/site-packages/pandas/core/tools/datetimes.py?line=1075'>1076</a>\u001b[0m         result \u001b[39m=\u001b[39m convert_listlike(arg, \u001b[39mformat\u001b[39;49m)\n\u001b[0;32m   <a href='file:///c%3A/Users/lgarzia/Anaconda3/envs/env_chart_me/lib/site-packages/pandas/core/tools/datetimes.py?line=1076'>1077</a>\u001b[0m \u001b[39melse\u001b[39;00m:\n\u001b[0;32m   <a href='file:///c%3A/Users/lgarzia/Anaconda3/envs/env_chart_me/lib/site-packages/pandas/core/tools/datetimes.py?line=1077'>1078</a>\u001b[0m     result \u001b[39m=\u001b[39m convert_listlike(np\u001b[39m.\u001b[39marray([arg]), \u001b[39mformat\u001b[39m)[\u001b[39m0\u001b[39m]\n",
      "File \u001b[1;32m~\\Anaconda3\\envs\\env_chart_me\\lib\\site-packages\\pandas\\core\\tools\\datetimes.py:402\u001b[0m, in \u001b[0;36m_convert_listlike_datetimes\u001b[1;34m(arg, format, name, tz, unit, errors, infer_datetime_format, dayfirst, yearfirst, exact)\u001b[0m\n\u001b[0;32m    <a href='file:///c%3A/Users/lgarzia/Anaconda3/envs/env_chart_me/lib/site-packages/pandas/core/tools/datetimes.py?line=399'>400</a>\u001b[0m \u001b[39massert\u001b[39;00m \u001b[39mformat\u001b[39m \u001b[39mis\u001b[39;00m \u001b[39mNone\u001b[39;00m \u001b[39mor\u001b[39;00m infer_datetime_format\n\u001b[0;32m    <a href='file:///c%3A/Users/lgarzia/Anaconda3/envs/env_chart_me/lib/site-packages/pandas/core/tools/datetimes.py?line=400'>401</a>\u001b[0m utc \u001b[39m=\u001b[39m tz \u001b[39m==\u001b[39m \u001b[39m\"\u001b[39m\u001b[39mutc\u001b[39m\u001b[39m\"\u001b[39m\n\u001b[1;32m--> <a href='file:///c%3A/Users/lgarzia/Anaconda3/envs/env_chart_me/lib/site-packages/pandas/core/tools/datetimes.py?line=401'>402</a>\u001b[0m result, tz_parsed \u001b[39m=\u001b[39m objects_to_datetime64ns(\n\u001b[0;32m    <a href='file:///c%3A/Users/lgarzia/Anaconda3/envs/env_chart_me/lib/site-packages/pandas/core/tools/datetimes.py?line=402'>403</a>\u001b[0m     arg,\n\u001b[0;32m    <a href='file:///c%3A/Users/lgarzia/Anaconda3/envs/env_chart_me/lib/site-packages/pandas/core/tools/datetimes.py?line=403'>404</a>\u001b[0m     dayfirst\u001b[39m=\u001b[39;49mdayfirst,\n\u001b[0;32m    <a href='file:///c%3A/Users/lgarzia/Anaconda3/envs/env_chart_me/lib/site-packages/pandas/core/tools/datetimes.py?line=404'>405</a>\u001b[0m     yearfirst\u001b[39m=\u001b[39;49myearfirst,\n\u001b[0;32m    <a href='file:///c%3A/Users/lgarzia/Anaconda3/envs/env_chart_me/lib/site-packages/pandas/core/tools/datetimes.py?line=405'>406</a>\u001b[0m     utc\u001b[39m=\u001b[39;49mutc,\n\u001b[0;32m    <a href='file:///c%3A/Users/lgarzia/Anaconda3/envs/env_chart_me/lib/site-packages/pandas/core/tools/datetimes.py?line=406'>407</a>\u001b[0m     errors\u001b[39m=\u001b[39;49merrors,\n\u001b[0;32m    <a href='file:///c%3A/Users/lgarzia/Anaconda3/envs/env_chart_me/lib/site-packages/pandas/core/tools/datetimes.py?line=407'>408</a>\u001b[0m     require_iso8601\u001b[39m=\u001b[39;49mrequire_iso8601,\n\u001b[0;32m    <a href='file:///c%3A/Users/lgarzia/Anaconda3/envs/env_chart_me/lib/site-packages/pandas/core/tools/datetimes.py?line=408'>409</a>\u001b[0m     allow_object\u001b[39m=\u001b[39;49m\u001b[39mTrue\u001b[39;49;00m,\n\u001b[0;32m    <a href='file:///c%3A/Users/lgarzia/Anaconda3/envs/env_chart_me/lib/site-packages/pandas/core/tools/datetimes.py?line=409'>410</a>\u001b[0m )\n\u001b[0;32m    <a href='file:///c%3A/Users/lgarzia/Anaconda3/envs/env_chart_me/lib/site-packages/pandas/core/tools/datetimes.py?line=411'>412</a>\u001b[0m \u001b[39mif\u001b[39;00m tz_parsed \u001b[39mis\u001b[39;00m \u001b[39mnot\u001b[39;00m \u001b[39mNone\u001b[39;00m:\n\u001b[0;32m    <a href='file:///c%3A/Users/lgarzia/Anaconda3/envs/env_chart_me/lib/site-packages/pandas/core/tools/datetimes.py?line=412'>413</a>\u001b[0m     \u001b[39m# We can take a shortcut since the datetime64 numpy array\u001b[39;00m\n\u001b[0;32m    <a href='file:///c%3A/Users/lgarzia/Anaconda3/envs/env_chart_me/lib/site-packages/pandas/core/tools/datetimes.py?line=413'>414</a>\u001b[0m     \u001b[39m# is in UTC\u001b[39;00m\n\u001b[0;32m    <a href='file:///c%3A/Users/lgarzia/Anaconda3/envs/env_chart_me/lib/site-packages/pandas/core/tools/datetimes.py?line=414'>415</a>\u001b[0m     dta \u001b[39m=\u001b[39m DatetimeArray(result, dtype\u001b[39m=\u001b[39mtz_to_dtype(tz_parsed))\n",
      "File \u001b[1;32m~\\Anaconda3\\envs\\env_chart_me\\lib\\site-packages\\pandas\\core\\arrays\\datetimes.py:2217\u001b[0m, in \u001b[0;36mobjects_to_datetime64ns\u001b[1;34m(data, dayfirst, yearfirst, utc, errors, require_iso8601, allow_object, allow_mixed)\u001b[0m\n\u001b[0;32m   <a href='file:///c%3A/Users/lgarzia/Anaconda3/envs/env_chart_me/lib/site-packages/pandas/core/arrays/datetimes.py?line=2214'>2215</a>\u001b[0m         \u001b[39mreturn\u001b[39;00m values\u001b[39m.\u001b[39mview(\u001b[39m\"\u001b[39m\u001b[39mi8\u001b[39m\u001b[39m\"\u001b[39m), tz_parsed\n\u001b[0;32m   <a href='file:///c%3A/Users/lgarzia/Anaconda3/envs/env_chart_me/lib/site-packages/pandas/core/arrays/datetimes.py?line=2215'>2216</a>\u001b[0m     \u001b[39mexcept\u001b[39;00m (\u001b[39mValueError\u001b[39;00m, \u001b[39mTypeError\u001b[39;00m):\n\u001b[1;32m-> <a href='file:///c%3A/Users/lgarzia/Anaconda3/envs/env_chart_me/lib/site-packages/pandas/core/arrays/datetimes.py?line=2216'>2217</a>\u001b[0m         \u001b[39mraise\u001b[39;00m err\n\u001b[0;32m   <a href='file:///c%3A/Users/lgarzia/Anaconda3/envs/env_chart_me/lib/site-packages/pandas/core/arrays/datetimes.py?line=2218'>2219</a>\u001b[0m \u001b[39mif\u001b[39;00m tz_parsed \u001b[39mis\u001b[39;00m \u001b[39mnot\u001b[39;00m \u001b[39mNone\u001b[39;00m:\n\u001b[0;32m   <a href='file:///c%3A/Users/lgarzia/Anaconda3/envs/env_chart_me/lib/site-packages/pandas/core/arrays/datetimes.py?line=2219'>2220</a>\u001b[0m     \u001b[39m# We can take a shortcut since the datetime64 numpy array\u001b[39;00m\n\u001b[0;32m   <a href='file:///c%3A/Users/lgarzia/Anaconda3/envs/env_chart_me/lib/site-packages/pandas/core/arrays/datetimes.py?line=2220'>2221</a>\u001b[0m     \u001b[39m#  is in UTC\u001b[39;00m\n\u001b[0;32m   <a href='file:///c%3A/Users/lgarzia/Anaconda3/envs/env_chart_me/lib/site-packages/pandas/core/arrays/datetimes.py?line=2221'>2222</a>\u001b[0m     \u001b[39m# Return i8 values to denote unix timestamps\u001b[39;00m\n\u001b[0;32m   <a href='file:///c%3A/Users/lgarzia/Anaconda3/envs/env_chart_me/lib/site-packages/pandas/core/arrays/datetimes.py?line=2222'>2223</a>\u001b[0m     \u001b[39mreturn\u001b[39;00m result\u001b[39m.\u001b[39mview(\u001b[39m\"\u001b[39m\u001b[39mi8\u001b[39m\u001b[39m\"\u001b[39m), tz_parsed\n",
      "File \u001b[1;32m~\\Anaconda3\\envs\\env_chart_me\\lib\\site-packages\\pandas\\core\\arrays\\datetimes.py:2199\u001b[0m, in \u001b[0;36mobjects_to_datetime64ns\u001b[1;34m(data, dayfirst, yearfirst, utc, errors, require_iso8601, allow_object, allow_mixed)\u001b[0m\n\u001b[0;32m   <a href='file:///c%3A/Users/lgarzia/Anaconda3/envs/env_chart_me/lib/site-packages/pandas/core/arrays/datetimes.py?line=2196'>2197</a>\u001b[0m order: Literal[\u001b[39m\"\u001b[39m\u001b[39mF\u001b[39m\u001b[39m\"\u001b[39m, \u001b[39m\"\u001b[39m\u001b[39mC\u001b[39m\u001b[39m\"\u001b[39m] \u001b[39m=\u001b[39m \u001b[39m\"\u001b[39m\u001b[39mF\u001b[39m\u001b[39m\"\u001b[39m \u001b[39mif\u001b[39;00m flags\u001b[39m.\u001b[39mf_contiguous \u001b[39melse\u001b[39;00m \u001b[39m\"\u001b[39m\u001b[39mC\u001b[39m\u001b[39m\"\u001b[39m\n\u001b[0;32m   <a href='file:///c%3A/Users/lgarzia/Anaconda3/envs/env_chart_me/lib/site-packages/pandas/core/arrays/datetimes.py?line=2197'>2198</a>\u001b[0m \u001b[39mtry\u001b[39;00m:\n\u001b[1;32m-> <a href='file:///c%3A/Users/lgarzia/Anaconda3/envs/env_chart_me/lib/site-packages/pandas/core/arrays/datetimes.py?line=2198'>2199</a>\u001b[0m     result, tz_parsed \u001b[39m=\u001b[39m tslib\u001b[39m.\u001b[39;49marray_to_datetime(\n\u001b[0;32m   <a href='file:///c%3A/Users/lgarzia/Anaconda3/envs/env_chart_me/lib/site-packages/pandas/core/arrays/datetimes.py?line=2199'>2200</a>\u001b[0m         data\u001b[39m.\u001b[39;49mravel(\u001b[39m\"\u001b[39;49m\u001b[39mK\u001b[39;49m\u001b[39m\"\u001b[39;49m),\n\u001b[0;32m   <a href='file:///c%3A/Users/lgarzia/Anaconda3/envs/env_chart_me/lib/site-packages/pandas/core/arrays/datetimes.py?line=2200'>2201</a>\u001b[0m         errors\u001b[39m=\u001b[39;49merrors,\n\u001b[0;32m   <a href='file:///c%3A/Users/lgarzia/Anaconda3/envs/env_chart_me/lib/site-packages/pandas/core/arrays/datetimes.py?line=2201'>2202</a>\u001b[0m         utc\u001b[39m=\u001b[39;49mutc,\n\u001b[0;32m   <a href='file:///c%3A/Users/lgarzia/Anaconda3/envs/env_chart_me/lib/site-packages/pandas/core/arrays/datetimes.py?line=2202'>2203</a>\u001b[0m         dayfirst\u001b[39m=\u001b[39;49mdayfirst,\n\u001b[0;32m   <a href='file:///c%3A/Users/lgarzia/Anaconda3/envs/env_chart_me/lib/site-packages/pandas/core/arrays/datetimes.py?line=2203'>2204</a>\u001b[0m         yearfirst\u001b[39m=\u001b[39;49myearfirst,\n\u001b[0;32m   <a href='file:///c%3A/Users/lgarzia/Anaconda3/envs/env_chart_me/lib/site-packages/pandas/core/arrays/datetimes.py?line=2204'>2205</a>\u001b[0m         require_iso8601\u001b[39m=\u001b[39;49mrequire_iso8601,\n\u001b[0;32m   <a href='file:///c%3A/Users/lgarzia/Anaconda3/envs/env_chart_me/lib/site-packages/pandas/core/arrays/datetimes.py?line=2205'>2206</a>\u001b[0m         allow_mixed\u001b[39m=\u001b[39;49mallow_mixed,\n\u001b[0;32m   <a href='file:///c%3A/Users/lgarzia/Anaconda3/envs/env_chart_me/lib/site-packages/pandas/core/arrays/datetimes.py?line=2206'>2207</a>\u001b[0m     )\n\u001b[0;32m   <a href='file:///c%3A/Users/lgarzia/Anaconda3/envs/env_chart_me/lib/site-packages/pandas/core/arrays/datetimes.py?line=2207'>2208</a>\u001b[0m     result \u001b[39m=\u001b[39m result\u001b[39m.\u001b[39mreshape(data\u001b[39m.\u001b[39mshape, order\u001b[39m=\u001b[39morder)\n\u001b[0;32m   <a href='file:///c%3A/Users/lgarzia/Anaconda3/envs/env_chart_me/lib/site-packages/pandas/core/arrays/datetimes.py?line=2208'>2209</a>\u001b[0m \u001b[39mexcept\u001b[39;00m \u001b[39mValueError\u001b[39;00m \u001b[39mas\u001b[39;00m err:\n",
      "File \u001b[1;32m~\\Anaconda3\\envs\\env_chart_me\\lib\\site-packages\\pandas\\_libs\\tslib.pyx:381\u001b[0m, in \u001b[0;36mpandas._libs.tslib.array_to_datetime\u001b[1;34m()\u001b[0m\n",
      "File \u001b[1;32m~\\Anaconda3\\envs\\env_chart_me\\lib\\site-packages\\pandas\\_libs\\tslib.pyx:613\u001b[0m, in \u001b[0;36mpandas._libs.tslib.array_to_datetime\u001b[1;34m()\u001b[0m\n",
      "File \u001b[1;32m~\\Anaconda3\\envs\\env_chart_me\\lib\\site-packages\\pandas\\_libs\\tslib.pyx:751\u001b[0m, in \u001b[0;36mpandas._libs.tslib._array_to_datetime_object\u001b[1;34m()\u001b[0m\n",
      "File \u001b[1;32m~\\Anaconda3\\envs\\env_chart_me\\lib\\site-packages\\pandas\\_libs\\tslib.pyx:742\u001b[0m, in \u001b[0;36mpandas._libs.tslib._array_to_datetime_object\u001b[1;34m()\u001b[0m\n",
      "File \u001b[1;32m~\\Anaconda3\\envs\\env_chart_me\\lib\\site-packages\\pandas\\_libs\\tslibs\\parsing.pyx:281\u001b[0m, in \u001b[0;36mpandas._libs.tslibs.parsing.parse_datetime_string\u001b[1;34m()\u001b[0m\n",
      "File \u001b[1;32m~\\Anaconda3\\envs\\env_chart_me\\lib\\site-packages\\dateutil\\parser\\_parser.py:1368\u001b[0m, in \u001b[0;36mparse\u001b[1;34m(timestr, parserinfo, **kwargs)\u001b[0m\n\u001b[0;32m   <a href='file:///c%3A/Users/lgarzia/Anaconda3/envs/env_chart_me/lib/site-packages/dateutil/parser/_parser.py?line=1365'>1366</a>\u001b[0m     \u001b[39mreturn\u001b[39;00m parser(parserinfo)\u001b[39m.\u001b[39mparse(timestr, \u001b[39m*\u001b[39m\u001b[39m*\u001b[39mkwargs)\n\u001b[0;32m   <a href='file:///c%3A/Users/lgarzia/Anaconda3/envs/env_chart_me/lib/site-packages/dateutil/parser/_parser.py?line=1366'>1367</a>\u001b[0m \u001b[39melse\u001b[39;00m:\n\u001b[1;32m-> <a href='file:///c%3A/Users/lgarzia/Anaconda3/envs/env_chart_me/lib/site-packages/dateutil/parser/_parser.py?line=1367'>1368</a>\u001b[0m     \u001b[39mreturn\u001b[39;00m DEFAULTPARSER\u001b[39m.\u001b[39mparse(timestr, \u001b[39m*\u001b[39m\u001b[39m*\u001b[39mkwargs)\n",
      "File \u001b[1;32m~\\Anaconda3\\envs\\env_chart_me\\lib\\site-packages\\dateutil\\parser\\_parser.py:643\u001b[0m, in \u001b[0;36mparser.parse\u001b[1;34m(self, timestr, default, ignoretz, tzinfos, **kwargs)\u001b[0m\n\u001b[0;32m    <a href='file:///c%3A/Users/lgarzia/Anaconda3/envs/env_chart_me/lib/site-packages/dateutil/parser/_parser.py?line=639'>640</a>\u001b[0m res, skipped_tokens \u001b[39m=\u001b[39m \u001b[39mself\u001b[39m\u001b[39m.\u001b[39m_parse(timestr, \u001b[39m*\u001b[39m\u001b[39m*\u001b[39mkwargs)\n\u001b[0;32m    <a href='file:///c%3A/Users/lgarzia/Anaconda3/envs/env_chart_me/lib/site-packages/dateutil/parser/_parser.py?line=641'>642</a>\u001b[0m \u001b[39mif\u001b[39;00m res \u001b[39mis\u001b[39;00m \u001b[39mNone\u001b[39;00m:\n\u001b[1;32m--> <a href='file:///c%3A/Users/lgarzia/Anaconda3/envs/env_chart_me/lib/site-packages/dateutil/parser/_parser.py?line=642'>643</a>\u001b[0m     \u001b[39mraise\u001b[39;00m ParserError(\u001b[39m\"\u001b[39m\u001b[39mUnknown string format: \u001b[39m\u001b[39m%s\u001b[39;00m\u001b[39m\"\u001b[39m, timestr)\n\u001b[0;32m    <a href='file:///c%3A/Users/lgarzia/Anaconda3/envs/env_chart_me/lib/site-packages/dateutil/parser/_parser.py?line=644'>645</a>\u001b[0m \u001b[39mif\u001b[39;00m \u001b[39mlen\u001b[39m(res) \u001b[39m==\u001b[39m \u001b[39m0\u001b[39m:\n\u001b[0;32m    <a href='file:///c%3A/Users/lgarzia/Anaconda3/envs/env_chart_me/lib/site-packages/dateutil/parser/_parser.py?line=645'>646</a>\u001b[0m     \u001b[39mraise\u001b[39;00m ParserError(\u001b[39m\"\u001b[39m\u001b[39mString does not contain a date: \u001b[39m\u001b[39m%s\u001b[39;00m\u001b[39m\"\u001b[39m, timestr)\n",
      "\u001b[1;31mParserError\u001b[0m: Unknown string format: xyx-error"
     ]
    }
   ],
   "source": [
    "import pandas as pd\n",
    "pd.to_datetime(['2021-01-01', '2022-02-02', 'xyx-error'])"
   ]
  },
  {
   "cell_type": "code",
   "execution_count": 23,
   "id": "08cd6fd7",
   "metadata": {},
   "outputs": [
    {
     "data": {
      "text/plain": [
       "'datetime64[ns]'"
      ]
     },
     "execution_count": 23,
     "metadata": {},
     "output_type": "execute_result"
    }
   ],
   "source": [
    "df['datie_dates'].dtype.name"
   ]
  },
  {
   "cell_type": "code",
   "execution_count": 26,
   "id": "c48f2669",
   "metadata": {},
   "outputs": [
    {
     "data": {
      "text/plain": [
       "Index(['a', 'Bell__Chart', 'decorated-elephant', 'animals@#$%^', 'cities',\n",
       "       'datie_dates'],\n",
       "      dtype='object')"
      ]
     },
     "execution_count": 26,
     "metadata": {},
     "output_type": "execute_result"
    }
   ],
   "source": [
    "df.columns"
   ]
  },
  {
   "cell_type": "code",
   "execution_count": 29,
   "id": "bb0d3806",
   "metadata": {},
   "outputs": [
    {
     "data": {
      "text/plain": [
       "pandas.core.series.Series"
      ]
     },
     "execution_count": 29,
     "metadata": {},
     "output_type": "execute_result"
    }
   ],
   "source": [
    "type(df['Bell__Chart'].dropna())"
   ]
  },
  {
   "cell_type": "code",
   "execution_count": 24,
   "id": "7e4fd49e",
   "metadata": {},
   "outputs": [
    {
     "data": {
      "text/plain": [
       "'floating'"
      ]
     },
     "execution_count": 24,
     "metadata": {},
     "output_type": "execute_result"
    }
   ],
   "source": [
    "infer_dtype([1.0, 2.0, 3.0])"
   ]
  },
  {
   "cell_type": "code",
   "execution_count": 31,
   "id": "910fb36e",
   "metadata": {},
   "outputs": [
    {
     "data": {
      "text/plain": [
       "0    False\n",
       "1    False\n",
       "3    False\n",
       "4    False\n",
       "6    False\n",
       "7    False\n",
       "Name: Bell__Chart, dtype: bool"
      ]
     },
     "execution_count": 31,
     "metadata": {},
     "output_type": "execute_result"
    }
   ],
   "source": [
    "df['Bell__Chart'].dropna().apply(lambda x: x.is_integer())"
   ]
  },
  {
   "cell_type": "code",
   "execution_count": 28,
   "id": "51605402",
   "metadata": {},
   "outputs": [
    {
     "data": {
      "text/plain": [
       "True"
      ]
     },
     "execution_count": 28,
     "metadata": {},
     "output_type": "execute_result"
    }
   ],
   "source": [
    "all([f.is_integer() for f in [1.0, 2.0, 3.0]])"
   ]
  },
  {
   "cell_type": "code",
   "execution_count": null,
   "id": "6f1c4527",
   "metadata": {},
   "outputs": [],
   "source": [
    "pd.to_datetime()"
   ]
  }
 ],
 "metadata": {
  "kernelspec": {
   "display_name": "Python 3",
   "language": "python",
   "name": "python3"
  },
  "language_info": {
   "codemirror_mode": {
    "name": "ipython",
    "version": 3
   },
   "file_extension": ".py",
   "mimetype": "text/x-python",
   "name": "python",
   "nbconvert_exporter": "python",
   "pygments_lexer": "ipython3",
   "version": "3.10.4"
  }
 },
 "nbformat": 4,
 "nbformat_minor": 5
}
