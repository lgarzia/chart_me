{
 "cells": [
  {
   "cell_type": "code",
   "execution_count": 1,
   "id": "2e0a48be",
   "metadata": {},
   "outputs": [],
   "source": [
    "import chart_me as cm\n",
    "import pandas as pd"
   ]
  },
  {
   "cell_type": "code",
   "execution_count": 8,
   "id": "fa72b2a8",
   "metadata": {},
   "outputs": [],
   "source": [
    "import datetime\n",
    "import random"
   ]
  },
  {
   "cell_type": "code",
   "execution_count": 12,
   "id": "700f3051",
   "metadata": {},
   "outputs": [],
   "source": [
    "data = {\n",
    "        \"integers\": [1, 2, 3] * 3,\n",
    "        \"floaties\": [random.random() for i in range(9)],\n",
    "        \"stringer\": [\"rabbit\", \"leopard\", None] * 3,\n",
    "        \"datie_dates\":[datetime.datetime(2020,1,1), datetime.datetime(2021,2,3), None]*3\n",
    "    }\n",
    "df = pd.DataFrame(data)"
   ]
  },
  {
   "cell_type": "code",
   "execution_count": 13,
   "id": "17a944c9",
   "metadata": {},
   "outputs": [],
   "source": [
    "l = cm.chart_me(df, ['floaties'])"
   ]
  },
  {
   "cell_type": "code",
   "execution_count": 14,
   "id": "ac30c060",
   "metadata": {},
   "outputs": [
    {
     "data": {
      "text/html": [
       "\n",
       "<div id=\"altair-viz-8c41edf9699e4afeaf69d59d9da836e7\"></div>\n",
       "<script type=\"text/javascript\">\n",
       "  var VEGA_DEBUG = (typeof VEGA_DEBUG == \"undefined\") ? {} : VEGA_DEBUG;\n",
       "  (function(spec, embedOpt){\n",
       "    let outputDiv = document.currentScript.previousElementSibling;\n",
       "    if (outputDiv.id !== \"altair-viz-8c41edf9699e4afeaf69d59d9da836e7\") {\n",
       "      outputDiv = document.getElementById(\"altair-viz-8c41edf9699e4afeaf69d59d9da836e7\");\n",
       "    }\n",
       "    const paths = {\n",
       "      \"vega\": \"https://cdn.jsdelivr.net/npm//vega@5?noext\",\n",
       "      \"vega-lib\": \"https://cdn.jsdelivr.net/npm//vega-lib?noext\",\n",
       "      \"vega-lite\": \"https://cdn.jsdelivr.net/npm//vega-lite@4.17.0?noext\",\n",
       "      \"vega-embed\": \"https://cdn.jsdelivr.net/npm//vega-embed@6?noext\",\n",
       "    };\n",
       "\n",
       "    function maybeLoadScript(lib, version) {\n",
       "      var key = `${lib.replace(\"-\", \"\")}_version`;\n",
       "      return (VEGA_DEBUG[key] == version) ?\n",
       "        Promise.resolve(paths[lib]) :\n",
       "        new Promise(function(resolve, reject) {\n",
       "          var s = document.createElement('script');\n",
       "          document.getElementsByTagName(\"head\")[0].appendChild(s);\n",
       "          s.async = true;\n",
       "          s.onload = () => {\n",
       "            VEGA_DEBUG[key] = version;\n",
       "            return resolve(paths[lib]);\n",
       "          };\n",
       "          s.onerror = () => reject(`Error loading script: ${paths[lib]}`);\n",
       "          s.src = paths[lib];\n",
       "        });\n",
       "    }\n",
       "\n",
       "    function showError(err) {\n",
       "      outputDiv.innerHTML = `<div class=\"error\" style=\"color:red;\">${err}</div>`;\n",
       "      throw err;\n",
       "    }\n",
       "\n",
       "    function displayChart(vegaEmbed) {\n",
       "      vegaEmbed(outputDiv, spec, embedOpt)\n",
       "        .catch(err => showError(`Javascript Error: ${err.message}<br>This usually means there's a typo in your chart specification. See the javascript console for the full traceback.`));\n",
       "    }\n",
       "\n",
       "    if(typeof define === \"function\" && define.amd) {\n",
       "      requirejs.config({paths});\n",
       "      require([\"vega-embed\"], displayChart, err => showError(`Error loading script: ${err.message}`));\n",
       "    } else {\n",
       "      maybeLoadScript(\"vega\", \"5\")\n",
       "        .then(() => maybeLoadScript(\"vega-lite\", \"4.17.0\"))\n",
       "        .then(() => maybeLoadScript(\"vega-embed\", \"6\"))\n",
       "        .catch(showError)\n",
       "        .then(() => displayChart(vegaEmbed));\n",
       "    }\n",
       "  })({\"config\": {\"view\": {\"continuousWidth\": 400, \"continuousHeight\": 300}}, \"data\": {\"name\": \"data-b2e93d0cd0a9b2c6129b7d5a65cc5299\"}, \"mark\": \"bar\", \"encoding\": {\"x\": {\"bin\": true, \"field\": \"floaties\", \"type\": \"quantitative\"}, \"y\": {\"aggregate\": \"count\", \"type\": \"quantitative\"}}, \"$schema\": \"https://vega.github.io/schema/vega-lite/v4.17.0.json\", \"datasets\": {\"data-b2e93d0cd0a9b2c6129b7d5a65cc5299\": [{\"integers\": 1, \"floaties\": 0.4991428850610625, \"stringer\": \"rabbit\", \"datie_dates\": \"2020-01-01T00:00:00\"}, {\"integers\": 2, \"floaties\": 0.7420547979352947, \"stringer\": \"leopard\", \"datie_dates\": \"2021-02-03T00:00:00\"}, {\"integers\": 3, \"floaties\": 0.16189034869418695, \"stringer\": null, \"datie_dates\": \"\"}, {\"integers\": 1, \"floaties\": 0.33583106329415224, \"stringer\": \"rabbit\", \"datie_dates\": \"2020-01-01T00:00:00\"}, {\"integers\": 2, \"floaties\": 0.5432022598991297, \"stringer\": \"leopard\", \"datie_dates\": \"2021-02-03T00:00:00\"}, {\"integers\": 3, \"floaties\": 0.9843388875676783, \"stringer\": null, \"datie_dates\": \"\"}, {\"integers\": 1, \"floaties\": 0.44157590113735556, \"stringer\": \"rabbit\", \"datie_dates\": \"2020-01-01T00:00:00\"}, {\"integers\": 2, \"floaties\": 0.7477125569949344, \"stringer\": \"leopard\", \"datie_dates\": \"2021-02-03T00:00:00\"}, {\"integers\": 3, \"floaties\": 0.6961916199661861, \"stringer\": null, \"datie_dates\": \"\"}]}}, {\"mode\": \"vega-lite\"});\n",
       "</script>"
      ],
      "text/plain": [
       "alt.Chart(...)"
      ]
     },
     "execution_count": 14,
     "metadata": {},
     "output_type": "execute_result"
    }
   ],
   "source": [
    "l[0]"
   ]
  },
  {
   "cell_type": "code",
   "execution_count": 39,
   "id": "5ae0ab51",
   "metadata": {},
   "outputs": [
    {
     "data": {
      "text/plain": [
       "3"
      ]
     },
     "execution_count": 39,
     "metadata": {},
     "output_type": "execute_result"
    }
   ],
   "source": [
    "df['a'].max()"
   ]
  },
  {
   "cell_type": "code",
   "execution_count": 38,
   "id": "c7b2633b",
   "metadata": {},
   "outputs": [
    {
     "data": {
      "text/plain": [
       "1"
      ]
     },
     "execution_count": 38,
     "metadata": {},
     "output_type": "execute_result"
    }
   ],
   "source": [
    "df['a'].min()"
   ]
  },
  {
   "cell_type": "code",
   "execution_count": 40,
   "id": "dba51093",
   "metadata": {},
   "outputs": [
    {
     "data": {
      "text/plain": [
       "3"
      ]
     },
     "execution_count": 40,
     "metadata": {},
     "output_type": "execute_result"
    }
   ],
   "source": [
    "df['a'].nunique()"
   ]
  },
  {
   "cell_type": "code",
   "execution_count": 13,
   "id": "93de6854",
   "metadata": {},
   "outputs": [
    {
     "data": {
      "text/plain": [
       "21"
      ]
     },
     "execution_count": 13,
     "metadata": {},
     "output_type": "execute_result"
    }
   ],
   "source": [
    "len([None, None, None]*6 + [None, None, 'Not Null'])"
   ]
  },
  {
   "cell_type": "code",
   "execution_count": 36,
   "id": "4d713775",
   "metadata": {},
   "outputs": [
    {
     "data": {
      "text/plain": [
       "False"
      ]
     },
     "execution_count": 36,
     "metadata": {},
     "output_type": "execute_result"
    }
   ],
   "source": [
    "df['cities'].nunique() == df['cities'].shape[0]"
   ]
  },
  {
   "cell_type": "code",
   "execution_count": 14,
   "id": "ab8a8de4",
   "metadata": {},
   "outputs": [],
   "source": [
    "from pandas.api.types import infer_dtype"
   ]
  },
  {
   "cell_type": "code",
   "execution_count": 15,
   "id": "8c44d69d",
   "metadata": {},
   "outputs": [
    {
     "data": {
      "text/plain": [
       "'datetime64'"
      ]
     },
     "execution_count": 15,
     "metadata": {},
     "output_type": "execute_result"
    }
   ],
   "source": [
    "infer_dtype(df['datie_dates'])"
   ]
  },
  {
   "cell_type": "code",
   "execution_count": 19,
   "id": "f83c6689",
   "metadata": {},
   "outputs": [],
   "source": [
    "r = df.apply(infer_dtype).to_dict()"
   ]
  },
  {
   "cell_type": "code",
   "execution_count": 23,
   "id": "c09f2fc5",
   "metadata": {},
   "outputs": [
    {
     "data": {
      "text/plain": [
       "{'a': 'integer',\n",
       " 'Bell__Chart': 'floating',\n",
       " 'decorated-elephant': 'integer',\n",
       " 'animals@#$%^': 'string',\n",
       " 'cities': 'string',\n",
       " 'datie_dates': 'datetime64'}"
      ]
     },
     "execution_count": 23,
     "metadata": {},
     "output_type": "execute_result"
    }
   ],
   "source": [
    "{k:v for k, v in r.items()}"
   ]
  },
  {
   "cell_type": "code",
   "execution_count": null,
   "id": "fe70d5cf",
   "metadata": {},
   "outputs": [],
   "source": []
  },
  {
   "cell_type": "code",
   "execution_count": 33,
   "id": "bf4dd55f",
   "metadata": {},
   "outputs": [
    {
     "ename": "ParserError",
     "evalue": "Unknown string format: xyx-error",
     "output_type": "error",
     "traceback": [
      "\u001b[1;31m---------------------------------------------------------------------------\u001b[0m",
      "\u001b[1;31mTypeError\u001b[0m                                 Traceback (most recent call last)",
      "File \u001b[1;32m~\\Anaconda3\\envs\\env_chart_me\\lib\\site-packages\\pandas\\core\\arrays\\datetimes.py:2211\u001b[0m, in \u001b[0;36mobjects_to_datetime64ns\u001b[1;34m(data, dayfirst, yearfirst, utc, errors, require_iso8601, allow_object, allow_mixed)\u001b[0m\n\u001b[0;32m   <a href='file:///c%3A/Users/lgarzia/Anaconda3/envs/env_chart_me/lib/site-packages/pandas/core/arrays/datetimes.py?line=2209'>2210</a>\u001b[0m \u001b[39mtry\u001b[39;00m:\n\u001b[1;32m-> <a href='file:///c%3A/Users/lgarzia/Anaconda3/envs/env_chart_me/lib/site-packages/pandas/core/arrays/datetimes.py?line=2210'>2211</a>\u001b[0m     values, tz_parsed \u001b[39m=\u001b[39m conversion\u001b[39m.\u001b[39;49mdatetime_to_datetime64(data\u001b[39m.\u001b[39;49mravel(\u001b[39m\"\u001b[39;49m\u001b[39mK\u001b[39;49m\u001b[39m\"\u001b[39;49m))\n\u001b[0;32m   <a href='file:///c%3A/Users/lgarzia/Anaconda3/envs/env_chart_me/lib/site-packages/pandas/core/arrays/datetimes.py?line=2211'>2212</a>\u001b[0m     \u001b[39m# If tzaware, these values represent unix timestamps, so we\u001b[39;00m\n\u001b[0;32m   <a href='file:///c%3A/Users/lgarzia/Anaconda3/envs/env_chart_me/lib/site-packages/pandas/core/arrays/datetimes.py?line=2212'>2213</a>\u001b[0m     \u001b[39m#  return them as i8 to distinguish from wall times\u001b[39;00m\n",
      "File \u001b[1;32m~\\Anaconda3\\envs\\env_chart_me\\lib\\site-packages\\pandas\\_libs\\tslibs\\conversion.pyx:360\u001b[0m, in \u001b[0;36mpandas._libs.tslibs.conversion.datetime_to_datetime64\u001b[1;34m()\u001b[0m\n",
      "\u001b[1;31mTypeError\u001b[0m: Unrecognized value type: <class 'str'>",
      "\nDuring handling of the above exception, another exception occurred:\n",
      "\u001b[1;31mParserError\u001b[0m                               Traceback (most recent call last)",
      "\u001b[1;32mc:\\Users\\lgarzia\\Documents\\GitHub\\chart_me\\examples\\sample_1_univariate.ipynb Cell 14'\u001b[0m in \u001b[0;36m<cell line: 2>\u001b[1;34m()\u001b[0m\n\u001b[0;32m      <a href='vscode-notebook-cell:/c%3A/Users/lgarzia/Documents/GitHub/chart_me/examples/sample_1_univariate.ipynb#ch0000018?line=0'>1</a>\u001b[0m \u001b[39mimport\u001b[39;00m \u001b[39mpandas\u001b[39;00m \u001b[39mas\u001b[39;00m \u001b[39mpd\u001b[39;00m\n\u001b[1;32m----> <a href='vscode-notebook-cell:/c%3A/Users/lgarzia/Documents/GitHub/chart_me/examples/sample_1_univariate.ipynb#ch0000018?line=1'>2</a>\u001b[0m pd\u001b[39m.\u001b[39;49mto_datetime([\u001b[39m'\u001b[39;49m\u001b[39m2021-01-01\u001b[39;49m\u001b[39m'\u001b[39;49m, \u001b[39m'\u001b[39;49m\u001b[39m2022-02-02\u001b[39;49m\u001b[39m'\u001b[39;49m, \u001b[39m'\u001b[39;49m\u001b[39mxyx-error\u001b[39;49m\u001b[39m'\u001b[39;49m])\n",
      "File \u001b[1;32m~\\Anaconda3\\envs\\env_chart_me\\lib\\site-packages\\pandas\\core\\tools\\datetimes.py:1076\u001b[0m, in \u001b[0;36mto_datetime\u001b[1;34m(arg, errors, dayfirst, yearfirst, utc, format, exact, unit, infer_datetime_format, origin, cache)\u001b[0m\n\u001b[0;32m   <a href='file:///c%3A/Users/lgarzia/Anaconda3/envs/env_chart_me/lib/site-packages/pandas/core/tools/datetimes.py?line=1073'>1074</a>\u001b[0m         result \u001b[39m=\u001b[39m _convert_and_box_cache(arg, cache_array)\n\u001b[0;32m   <a href='file:///c%3A/Users/lgarzia/Anaconda3/envs/env_chart_me/lib/site-packages/pandas/core/tools/datetimes.py?line=1074'>1075</a>\u001b[0m     \u001b[39melse\u001b[39;00m:\n\u001b[1;32m-> <a href='file:///c%3A/Users/lgarzia/Anaconda3/envs/env_chart_me/lib/site-packages/pandas/core/tools/datetimes.py?line=1075'>1076</a>\u001b[0m         result \u001b[39m=\u001b[39m convert_listlike(arg, \u001b[39mformat\u001b[39;49m)\n\u001b[0;32m   <a href='file:///c%3A/Users/lgarzia/Anaconda3/envs/env_chart_me/lib/site-packages/pandas/core/tools/datetimes.py?line=1076'>1077</a>\u001b[0m \u001b[39melse\u001b[39;00m:\n\u001b[0;32m   <a href='file:///c%3A/Users/lgarzia/Anaconda3/envs/env_chart_me/lib/site-packages/pandas/core/tools/datetimes.py?line=1077'>1078</a>\u001b[0m     result \u001b[39m=\u001b[39m convert_listlike(np\u001b[39m.\u001b[39marray([arg]), \u001b[39mformat\u001b[39m)[\u001b[39m0\u001b[39m]\n",
      "File \u001b[1;32m~\\Anaconda3\\envs\\env_chart_me\\lib\\site-packages\\pandas\\core\\tools\\datetimes.py:402\u001b[0m, in \u001b[0;36m_convert_listlike_datetimes\u001b[1;34m(arg, format, name, tz, unit, errors, infer_datetime_format, dayfirst, yearfirst, exact)\u001b[0m\n\u001b[0;32m    <a href='file:///c%3A/Users/lgarzia/Anaconda3/envs/env_chart_me/lib/site-packages/pandas/core/tools/datetimes.py?line=399'>400</a>\u001b[0m \u001b[39massert\u001b[39;00m \u001b[39mformat\u001b[39m \u001b[39mis\u001b[39;00m \u001b[39mNone\u001b[39;00m \u001b[39mor\u001b[39;00m infer_datetime_format\n\u001b[0;32m    <a href='file:///c%3A/Users/lgarzia/Anaconda3/envs/env_chart_me/lib/site-packages/pandas/core/tools/datetimes.py?line=400'>401</a>\u001b[0m utc \u001b[39m=\u001b[39m tz \u001b[39m==\u001b[39m \u001b[39m\"\u001b[39m\u001b[39mutc\u001b[39m\u001b[39m\"\u001b[39m\n\u001b[1;32m--> <a href='file:///c%3A/Users/lgarzia/Anaconda3/envs/env_chart_me/lib/site-packages/pandas/core/tools/datetimes.py?line=401'>402</a>\u001b[0m result, tz_parsed \u001b[39m=\u001b[39m objects_to_datetime64ns(\n\u001b[0;32m    <a href='file:///c%3A/Users/lgarzia/Anaconda3/envs/env_chart_me/lib/site-packages/pandas/core/tools/datetimes.py?line=402'>403</a>\u001b[0m     arg,\n\u001b[0;32m    <a href='file:///c%3A/Users/lgarzia/Anaconda3/envs/env_chart_me/lib/site-packages/pandas/core/tools/datetimes.py?line=403'>404</a>\u001b[0m     dayfirst\u001b[39m=\u001b[39;49mdayfirst,\n\u001b[0;32m    <a href='file:///c%3A/Users/lgarzia/Anaconda3/envs/env_chart_me/lib/site-packages/pandas/core/tools/datetimes.py?line=404'>405</a>\u001b[0m     yearfirst\u001b[39m=\u001b[39;49myearfirst,\n\u001b[0;32m    <a href='file:///c%3A/Users/lgarzia/Anaconda3/envs/env_chart_me/lib/site-packages/pandas/core/tools/datetimes.py?line=405'>406</a>\u001b[0m     utc\u001b[39m=\u001b[39;49mutc,\n\u001b[0;32m    <a href='file:///c%3A/Users/lgarzia/Anaconda3/envs/env_chart_me/lib/site-packages/pandas/core/tools/datetimes.py?line=406'>407</a>\u001b[0m     errors\u001b[39m=\u001b[39;49merrors,\n\u001b[0;32m    <a href='file:///c%3A/Users/lgarzia/Anaconda3/envs/env_chart_me/lib/site-packages/pandas/core/tools/datetimes.py?line=407'>408</a>\u001b[0m     require_iso8601\u001b[39m=\u001b[39;49mrequire_iso8601,\n\u001b[0;32m    <a href='file:///c%3A/Users/lgarzia/Anaconda3/envs/env_chart_me/lib/site-packages/pandas/core/tools/datetimes.py?line=408'>409</a>\u001b[0m     allow_object\u001b[39m=\u001b[39;49m\u001b[39mTrue\u001b[39;49;00m,\n\u001b[0;32m    <a href='file:///c%3A/Users/lgarzia/Anaconda3/envs/env_chart_me/lib/site-packages/pandas/core/tools/datetimes.py?line=409'>410</a>\u001b[0m )\n\u001b[0;32m    <a href='file:///c%3A/Users/lgarzia/Anaconda3/envs/env_chart_me/lib/site-packages/pandas/core/tools/datetimes.py?line=411'>412</a>\u001b[0m \u001b[39mif\u001b[39;00m tz_parsed \u001b[39mis\u001b[39;00m \u001b[39mnot\u001b[39;00m \u001b[39mNone\u001b[39;00m:\n\u001b[0;32m    <a href='file:///c%3A/Users/lgarzia/Anaconda3/envs/env_chart_me/lib/site-packages/pandas/core/tools/datetimes.py?line=412'>413</a>\u001b[0m     \u001b[39m# We can take a shortcut since the datetime64 numpy array\u001b[39;00m\n\u001b[0;32m    <a href='file:///c%3A/Users/lgarzia/Anaconda3/envs/env_chart_me/lib/site-packages/pandas/core/tools/datetimes.py?line=413'>414</a>\u001b[0m     \u001b[39m# is in UTC\u001b[39;00m\n\u001b[0;32m    <a href='file:///c%3A/Users/lgarzia/Anaconda3/envs/env_chart_me/lib/site-packages/pandas/core/tools/datetimes.py?line=414'>415</a>\u001b[0m     dta \u001b[39m=\u001b[39m DatetimeArray(result, dtype\u001b[39m=\u001b[39mtz_to_dtype(tz_parsed))\n",
      "File \u001b[1;32m~\\Anaconda3\\envs\\env_chart_me\\lib\\site-packages\\pandas\\core\\arrays\\datetimes.py:2217\u001b[0m, in \u001b[0;36mobjects_to_datetime64ns\u001b[1;34m(data, dayfirst, yearfirst, utc, errors, require_iso8601, allow_object, allow_mixed)\u001b[0m\n\u001b[0;32m   <a href='file:///c%3A/Users/lgarzia/Anaconda3/envs/env_chart_me/lib/site-packages/pandas/core/arrays/datetimes.py?line=2214'>2215</a>\u001b[0m         \u001b[39mreturn\u001b[39;00m values\u001b[39m.\u001b[39mview(\u001b[39m\"\u001b[39m\u001b[39mi8\u001b[39m\u001b[39m\"\u001b[39m), tz_parsed\n\u001b[0;32m   <a href='file:///c%3A/Users/lgarzia/Anaconda3/envs/env_chart_me/lib/site-packages/pandas/core/arrays/datetimes.py?line=2215'>2216</a>\u001b[0m     \u001b[39mexcept\u001b[39;00m (\u001b[39mValueError\u001b[39;00m, \u001b[39mTypeError\u001b[39;00m):\n\u001b[1;32m-> <a href='file:///c%3A/Users/lgarzia/Anaconda3/envs/env_chart_me/lib/site-packages/pandas/core/arrays/datetimes.py?line=2216'>2217</a>\u001b[0m         \u001b[39mraise\u001b[39;00m err\n\u001b[0;32m   <a href='file:///c%3A/Users/lgarzia/Anaconda3/envs/env_chart_me/lib/site-packages/pandas/core/arrays/datetimes.py?line=2218'>2219</a>\u001b[0m \u001b[39mif\u001b[39;00m tz_parsed \u001b[39mis\u001b[39;00m \u001b[39mnot\u001b[39;00m \u001b[39mNone\u001b[39;00m:\n\u001b[0;32m   <a href='file:///c%3A/Users/lgarzia/Anaconda3/envs/env_chart_me/lib/site-packages/pandas/core/arrays/datetimes.py?line=2219'>2220</a>\u001b[0m     \u001b[39m# We can take a shortcut since the datetime64 numpy array\u001b[39;00m\n\u001b[0;32m   <a href='file:///c%3A/Users/lgarzia/Anaconda3/envs/env_chart_me/lib/site-packages/pandas/core/arrays/datetimes.py?line=2220'>2221</a>\u001b[0m     \u001b[39m#  is in UTC\u001b[39;00m\n\u001b[0;32m   <a href='file:///c%3A/Users/lgarzia/Anaconda3/envs/env_chart_me/lib/site-packages/pandas/core/arrays/datetimes.py?line=2221'>2222</a>\u001b[0m     \u001b[39m# Return i8 values to denote unix timestamps\u001b[39;00m\n\u001b[0;32m   <a href='file:///c%3A/Users/lgarzia/Anaconda3/envs/env_chart_me/lib/site-packages/pandas/core/arrays/datetimes.py?line=2222'>2223</a>\u001b[0m     \u001b[39mreturn\u001b[39;00m result\u001b[39m.\u001b[39mview(\u001b[39m\"\u001b[39m\u001b[39mi8\u001b[39m\u001b[39m\"\u001b[39m), tz_parsed\n",
      "File \u001b[1;32m~\\Anaconda3\\envs\\env_chart_me\\lib\\site-packages\\pandas\\core\\arrays\\datetimes.py:2199\u001b[0m, in \u001b[0;36mobjects_to_datetime64ns\u001b[1;34m(data, dayfirst, yearfirst, utc, errors, require_iso8601, allow_object, allow_mixed)\u001b[0m\n\u001b[0;32m   <a href='file:///c%3A/Users/lgarzia/Anaconda3/envs/env_chart_me/lib/site-packages/pandas/core/arrays/datetimes.py?line=2196'>2197</a>\u001b[0m order: Literal[\u001b[39m\"\u001b[39m\u001b[39mF\u001b[39m\u001b[39m\"\u001b[39m, \u001b[39m\"\u001b[39m\u001b[39mC\u001b[39m\u001b[39m\"\u001b[39m] \u001b[39m=\u001b[39m \u001b[39m\"\u001b[39m\u001b[39mF\u001b[39m\u001b[39m\"\u001b[39m \u001b[39mif\u001b[39;00m flags\u001b[39m.\u001b[39mf_contiguous \u001b[39melse\u001b[39;00m \u001b[39m\"\u001b[39m\u001b[39mC\u001b[39m\u001b[39m\"\u001b[39m\n\u001b[0;32m   <a href='file:///c%3A/Users/lgarzia/Anaconda3/envs/env_chart_me/lib/site-packages/pandas/core/arrays/datetimes.py?line=2197'>2198</a>\u001b[0m \u001b[39mtry\u001b[39;00m:\n\u001b[1;32m-> <a href='file:///c%3A/Users/lgarzia/Anaconda3/envs/env_chart_me/lib/site-packages/pandas/core/arrays/datetimes.py?line=2198'>2199</a>\u001b[0m     result, tz_parsed \u001b[39m=\u001b[39m tslib\u001b[39m.\u001b[39;49marray_to_datetime(\n\u001b[0;32m   <a href='file:///c%3A/Users/lgarzia/Anaconda3/envs/env_chart_me/lib/site-packages/pandas/core/arrays/datetimes.py?line=2199'>2200</a>\u001b[0m         data\u001b[39m.\u001b[39;49mravel(\u001b[39m\"\u001b[39;49m\u001b[39mK\u001b[39;49m\u001b[39m\"\u001b[39;49m),\n\u001b[0;32m   <a href='file:///c%3A/Users/lgarzia/Anaconda3/envs/env_chart_me/lib/site-packages/pandas/core/arrays/datetimes.py?line=2200'>2201</a>\u001b[0m         errors\u001b[39m=\u001b[39;49merrors,\n\u001b[0;32m   <a href='file:///c%3A/Users/lgarzia/Anaconda3/envs/env_chart_me/lib/site-packages/pandas/core/arrays/datetimes.py?line=2201'>2202</a>\u001b[0m         utc\u001b[39m=\u001b[39;49mutc,\n\u001b[0;32m   <a href='file:///c%3A/Users/lgarzia/Anaconda3/envs/env_chart_me/lib/site-packages/pandas/core/arrays/datetimes.py?line=2202'>2203</a>\u001b[0m         dayfirst\u001b[39m=\u001b[39;49mdayfirst,\n\u001b[0;32m   <a href='file:///c%3A/Users/lgarzia/Anaconda3/envs/env_chart_me/lib/site-packages/pandas/core/arrays/datetimes.py?line=2203'>2204</a>\u001b[0m         yearfirst\u001b[39m=\u001b[39;49myearfirst,\n\u001b[0;32m   <a href='file:///c%3A/Users/lgarzia/Anaconda3/envs/env_chart_me/lib/site-packages/pandas/core/arrays/datetimes.py?line=2204'>2205</a>\u001b[0m         require_iso8601\u001b[39m=\u001b[39;49mrequire_iso8601,\n\u001b[0;32m   <a href='file:///c%3A/Users/lgarzia/Anaconda3/envs/env_chart_me/lib/site-packages/pandas/core/arrays/datetimes.py?line=2205'>2206</a>\u001b[0m         allow_mixed\u001b[39m=\u001b[39;49mallow_mixed,\n\u001b[0;32m   <a href='file:///c%3A/Users/lgarzia/Anaconda3/envs/env_chart_me/lib/site-packages/pandas/core/arrays/datetimes.py?line=2206'>2207</a>\u001b[0m     )\n\u001b[0;32m   <a href='file:///c%3A/Users/lgarzia/Anaconda3/envs/env_chart_me/lib/site-packages/pandas/core/arrays/datetimes.py?line=2207'>2208</a>\u001b[0m     result \u001b[39m=\u001b[39m result\u001b[39m.\u001b[39mreshape(data\u001b[39m.\u001b[39mshape, order\u001b[39m=\u001b[39morder)\n\u001b[0;32m   <a href='file:///c%3A/Users/lgarzia/Anaconda3/envs/env_chart_me/lib/site-packages/pandas/core/arrays/datetimes.py?line=2208'>2209</a>\u001b[0m \u001b[39mexcept\u001b[39;00m \u001b[39mValueError\u001b[39;00m \u001b[39mas\u001b[39;00m err:\n",
      "File \u001b[1;32m~\\Anaconda3\\envs\\env_chart_me\\lib\\site-packages\\pandas\\_libs\\tslib.pyx:381\u001b[0m, in \u001b[0;36mpandas._libs.tslib.array_to_datetime\u001b[1;34m()\u001b[0m\n",
      "File \u001b[1;32m~\\Anaconda3\\envs\\env_chart_me\\lib\\site-packages\\pandas\\_libs\\tslib.pyx:613\u001b[0m, in \u001b[0;36mpandas._libs.tslib.array_to_datetime\u001b[1;34m()\u001b[0m\n",
      "File \u001b[1;32m~\\Anaconda3\\envs\\env_chart_me\\lib\\site-packages\\pandas\\_libs\\tslib.pyx:751\u001b[0m, in \u001b[0;36mpandas._libs.tslib._array_to_datetime_object\u001b[1;34m()\u001b[0m\n",
      "File \u001b[1;32m~\\Anaconda3\\envs\\env_chart_me\\lib\\site-packages\\pandas\\_libs\\tslib.pyx:742\u001b[0m, in \u001b[0;36mpandas._libs.tslib._array_to_datetime_object\u001b[1;34m()\u001b[0m\n",
      "File \u001b[1;32m~\\Anaconda3\\envs\\env_chart_me\\lib\\site-packages\\pandas\\_libs\\tslibs\\parsing.pyx:281\u001b[0m, in \u001b[0;36mpandas._libs.tslibs.parsing.parse_datetime_string\u001b[1;34m()\u001b[0m\n",
      "File \u001b[1;32m~\\Anaconda3\\envs\\env_chart_me\\lib\\site-packages\\dateutil\\parser\\_parser.py:1368\u001b[0m, in \u001b[0;36mparse\u001b[1;34m(timestr, parserinfo, **kwargs)\u001b[0m\n\u001b[0;32m   <a href='file:///c%3A/Users/lgarzia/Anaconda3/envs/env_chart_me/lib/site-packages/dateutil/parser/_parser.py?line=1365'>1366</a>\u001b[0m     \u001b[39mreturn\u001b[39;00m parser(parserinfo)\u001b[39m.\u001b[39mparse(timestr, \u001b[39m*\u001b[39m\u001b[39m*\u001b[39mkwargs)\n\u001b[0;32m   <a href='file:///c%3A/Users/lgarzia/Anaconda3/envs/env_chart_me/lib/site-packages/dateutil/parser/_parser.py?line=1366'>1367</a>\u001b[0m \u001b[39melse\u001b[39;00m:\n\u001b[1;32m-> <a href='file:///c%3A/Users/lgarzia/Anaconda3/envs/env_chart_me/lib/site-packages/dateutil/parser/_parser.py?line=1367'>1368</a>\u001b[0m     \u001b[39mreturn\u001b[39;00m DEFAULTPARSER\u001b[39m.\u001b[39mparse(timestr, \u001b[39m*\u001b[39m\u001b[39m*\u001b[39mkwargs)\n",
      "File \u001b[1;32m~\\Anaconda3\\envs\\env_chart_me\\lib\\site-packages\\dateutil\\parser\\_parser.py:643\u001b[0m, in \u001b[0;36mparser.parse\u001b[1;34m(self, timestr, default, ignoretz, tzinfos, **kwargs)\u001b[0m\n\u001b[0;32m    <a href='file:///c%3A/Users/lgarzia/Anaconda3/envs/env_chart_me/lib/site-packages/dateutil/parser/_parser.py?line=639'>640</a>\u001b[0m res, skipped_tokens \u001b[39m=\u001b[39m \u001b[39mself\u001b[39m\u001b[39m.\u001b[39m_parse(timestr, \u001b[39m*\u001b[39m\u001b[39m*\u001b[39mkwargs)\n\u001b[0;32m    <a href='file:///c%3A/Users/lgarzia/Anaconda3/envs/env_chart_me/lib/site-packages/dateutil/parser/_parser.py?line=641'>642</a>\u001b[0m \u001b[39mif\u001b[39;00m res \u001b[39mis\u001b[39;00m \u001b[39mNone\u001b[39;00m:\n\u001b[1;32m--> <a href='file:///c%3A/Users/lgarzia/Anaconda3/envs/env_chart_me/lib/site-packages/dateutil/parser/_parser.py?line=642'>643</a>\u001b[0m     \u001b[39mraise\u001b[39;00m ParserError(\u001b[39m\"\u001b[39m\u001b[39mUnknown string format: \u001b[39m\u001b[39m%s\u001b[39;00m\u001b[39m\"\u001b[39m, timestr)\n\u001b[0;32m    <a href='file:///c%3A/Users/lgarzia/Anaconda3/envs/env_chart_me/lib/site-packages/dateutil/parser/_parser.py?line=644'>645</a>\u001b[0m \u001b[39mif\u001b[39;00m \u001b[39mlen\u001b[39m(res) \u001b[39m==\u001b[39m \u001b[39m0\u001b[39m:\n\u001b[0;32m    <a href='file:///c%3A/Users/lgarzia/Anaconda3/envs/env_chart_me/lib/site-packages/dateutil/parser/_parser.py?line=645'>646</a>\u001b[0m     \u001b[39mraise\u001b[39;00m ParserError(\u001b[39m\"\u001b[39m\u001b[39mString does not contain a date: \u001b[39m\u001b[39m%s\u001b[39;00m\u001b[39m\"\u001b[39m, timestr)\n",
      "\u001b[1;31mParserError\u001b[0m: Unknown string format: xyx-error"
     ]
    }
   ],
   "source": [
    "import pandas as pd\n",
    "pd.to_datetime(['2021-01-01', '2022-02-02', 'xyx-error'])"
   ]
  },
  {
   "cell_type": "code",
   "execution_count": 23,
   "id": "08cd6fd7",
   "metadata": {},
   "outputs": [
    {
     "data": {
      "text/plain": [
       "'datetime64[ns]'"
      ]
     },
     "execution_count": 23,
     "metadata": {},
     "output_type": "execute_result"
    }
   ],
   "source": [
    "df['datie_dates'].dtype.name"
   ]
  },
  {
   "cell_type": "code",
   "execution_count": 26,
   "id": "c48f2669",
   "metadata": {},
   "outputs": [
    {
     "data": {
      "text/plain": [
       "Index(['a', 'Bell__Chart', 'decorated-elephant', 'animals@#$%^', 'cities',\n",
       "       'datie_dates'],\n",
       "      dtype='object')"
      ]
     },
     "execution_count": 26,
     "metadata": {},
     "output_type": "execute_result"
    }
   ],
   "source": [
    "df.columns"
   ]
  },
  {
   "cell_type": "code",
   "execution_count": 29,
   "id": "bb0d3806",
   "metadata": {},
   "outputs": [
    {
     "data": {
      "text/plain": [
       "pandas.core.series.Series"
      ]
     },
     "execution_count": 29,
     "metadata": {},
     "output_type": "execute_result"
    }
   ],
   "source": [
    "type(df['Bell__Chart'].dropna())"
   ]
  },
  {
   "cell_type": "code",
   "execution_count": 24,
   "id": "7e4fd49e",
   "metadata": {},
   "outputs": [
    {
     "data": {
      "text/plain": [
       "'floating'"
      ]
     },
     "execution_count": 24,
     "metadata": {},
     "output_type": "execute_result"
    }
   ],
   "source": [
    "infer_dtype([1.0, 2.0, 3.0])"
   ]
  },
  {
   "cell_type": "code",
   "execution_count": 31,
   "id": "910fb36e",
   "metadata": {},
   "outputs": [
    {
     "data": {
      "text/plain": [
       "0    False\n",
       "1    False\n",
       "3    False\n",
       "4    False\n",
       "6    False\n",
       "7    False\n",
       "Name: Bell__Chart, dtype: bool"
      ]
     },
     "execution_count": 31,
     "metadata": {},
     "output_type": "execute_result"
    }
   ],
   "source": [
    "df['Bell__Chart'].dropna().apply(lambda x: x.is_integer())"
   ]
  },
  {
   "cell_type": "code",
   "execution_count": 28,
   "id": "51605402",
   "metadata": {},
   "outputs": [
    {
     "data": {
      "text/plain": [
       "True"
      ]
     },
     "execution_count": 28,
     "metadata": {},
     "output_type": "execute_result"
    }
   ],
   "source": [
    "all([f.is_integer() for f in [1.0, 2.0, 3.0]])"
   ]
  },
  {
   "cell_type": "code",
   "execution_count": null,
   "id": "6f1c4527",
   "metadata": {},
   "outputs": [],
   "source": [
    "pd.to_datetime()"
   ]
  }
 ],
 "metadata": {
  "kernelspec": {
   "display_name": "Python 3",
   "language": "python",
   "name": "python3"
  },
  "language_info": {
   "codemirror_mode": {
    "name": "ipython",
    "version": 3
   },
   "file_extension": ".py",
   "mimetype": "text/x-python",
   "name": "python",
   "nbconvert_exporter": "python",
   "pygments_lexer": "ipython3",
   "version": "3.10.4"
  }
 },
 "nbformat": 4,
 "nbformat_minor": 5
}
