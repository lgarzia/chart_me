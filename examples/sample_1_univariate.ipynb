{
 "cells": [
  {
   "cell_type": "code",
   "execution_count": 1,
   "id": "700f3051",
   "metadata": {},
   "outputs": [],
   "source": [
    "import chart_me as cm\n",
    "import pandas as pd\n",
    "import datetime\n",
    "import random\n",
    "pre_agg_data = {\n",
    "        \"integers\": [1, 2, 3] * 3,\n",
    "        \"floaties\": [random.random() for i in range(9)],\n",
    "        \"floaties2\": [random.random() for i in range(9)],\n",
    "        \"floaties_key\": list(range(9)),\n",
    "        \"integer_bools\": [bool(random.getrandbits(1)) for i in range(9)],\n",
    "        \"stringer\": [\"rabbit\", \"leopard\", \"rabbit\"] * 3,\n",
    "        \"datie_dates\":[datetime.datetime(2020,1,1), datetime.datetime(2021,2,3), datetime.datetime(2021,2,3)]*3\n",
    "    }\n",
    "df = pd.DataFrame(pre_agg_data)"
   ]
  },
  {
   "cell_type": "code",
   "execution_count": 2,
   "id": "a95890a6",
   "metadata": {},
   "outputs": [
    {
     "name": "stdout",
     "output_type": "stream",
     "text": [
      "set()\n"
     ]
    },
    {
     "data": {
      "text/html": [
       "\n",
       "<div id=\"altair-viz-86bea9e068ab4646b8e4079284227595\"></div>\n",
       "<script type=\"text/javascript\">\n",
       "  var VEGA_DEBUG = (typeof VEGA_DEBUG == \"undefined\") ? {} : VEGA_DEBUG;\n",
       "  (function(spec, embedOpt){\n",
       "    let outputDiv = document.currentScript.previousElementSibling;\n",
       "    if (outputDiv.id !== \"altair-viz-86bea9e068ab4646b8e4079284227595\") {\n",
       "      outputDiv = document.getElementById(\"altair-viz-86bea9e068ab4646b8e4079284227595\");\n",
       "    }\n",
       "    const paths = {\n",
       "      \"vega\": \"https://cdn.jsdelivr.net/npm//vega@5?noext\",\n",
       "      \"vega-lib\": \"https://cdn.jsdelivr.net/npm//vega-lib?noext\",\n",
       "      \"vega-lite\": \"https://cdn.jsdelivr.net/npm//vega-lite@4.17.0?noext\",\n",
       "      \"vega-embed\": \"https://cdn.jsdelivr.net/npm//vega-embed@6?noext\",\n",
       "    };\n",
       "\n",
       "    function maybeLoadScript(lib, version) {\n",
       "      var key = `${lib.replace(\"-\", \"\")}_version`;\n",
       "      return (VEGA_DEBUG[key] == version) ?\n",
       "        Promise.resolve(paths[lib]) :\n",
       "        new Promise(function(resolve, reject) {\n",
       "          var s = document.createElement('script');\n",
       "          document.getElementsByTagName(\"head\")[0].appendChild(s);\n",
       "          s.async = true;\n",
       "          s.onload = () => {\n",
       "            VEGA_DEBUG[key] = version;\n",
       "            return resolve(paths[lib]);\n",
       "          };\n",
       "          s.onerror = () => reject(`Error loading script: ${paths[lib]}`);\n",
       "          s.src = paths[lib];\n",
       "        });\n",
       "    }\n",
       "\n",
       "    function showError(err) {\n",
       "      outputDiv.innerHTML = `<div class=\"error\" style=\"color:red;\">${err}</div>`;\n",
       "      throw err;\n",
       "    }\n",
       "\n",
       "    function displayChart(vegaEmbed) {\n",
       "      vegaEmbed(outputDiv, spec, embedOpt)\n",
       "        .catch(err => showError(`Javascript Error: ${err.message}<br>This usually means there's a typo in your chart specification. See the javascript console for the full traceback.`));\n",
       "    }\n",
       "\n",
       "    if(typeof define === \"function\" && define.amd) {\n",
       "      requirejs.config({paths});\n",
       "      require([\"vega-embed\"], displayChart, err => showError(`Error loading script: ${err.message}`));\n",
       "    } else {\n",
       "      maybeLoadScript(\"vega\", \"5\")\n",
       "        .then(() => maybeLoadScript(\"vega-lite\", \"4.17.0\"))\n",
       "        .then(() => maybeLoadScript(\"vega-embed\", \"6\"))\n",
       "        .catch(showError)\n",
       "        .then(() => displayChart(vegaEmbed));\n",
       "    }\n",
       "  })({\"config\": {\"view\": {\"continuousWidth\": 400, \"continuousHeight\": 300}}, \"data\": {\"name\": \"data-3c970e4d5ab357298eb8eb50b7bf5d26\"}, \"mark\": \"bar\", \"encoding\": {\"x\": {\"field\": \"floaties\", \"type\": \"quantitative\"}, \"y\": {\"field\": \"floaties_key\", \"type\": \"ordinal\"}}, \"$schema\": \"https://vega.github.io/schema/vega-lite/v4.17.0.json\", \"datasets\": {\"data-3c970e4d5ab357298eb8eb50b7bf5d26\": [{\"integers\": 1, \"floaties\": 0.659644053440152, \"floaties2\": 0.8583683136468772, \"floaties_key\": 0, \"integer_bools\": false, \"stringer\": \"rabbit\", \"datie_dates\": \"2020-01-01T00:00:00\"}, {\"integers\": 2, \"floaties\": 0.001979997711955561, \"floaties2\": 0.9816129638563054, \"floaties_key\": 1, \"integer_bools\": true, \"stringer\": \"leopard\", \"datie_dates\": \"2021-02-03T00:00:00\"}, {\"integers\": 3, \"floaties\": 0.25008557594572967, \"floaties2\": 0.3435991350825005, \"floaties_key\": 2, \"integer_bools\": true, \"stringer\": \"rabbit\", \"datie_dates\": \"2021-02-03T00:00:00\"}, {\"integers\": 1, \"floaties\": 0.18664229989506043, \"floaties2\": 0.7215956819524822, \"floaties_key\": 3, \"integer_bools\": true, \"stringer\": \"rabbit\", \"datie_dates\": \"2020-01-01T00:00:00\"}, {\"integers\": 2, \"floaties\": 0.4941257813646749, \"floaties2\": 0.279352495019179, \"floaties_key\": 4, \"integer_bools\": true, \"stringer\": \"leopard\", \"datie_dates\": \"2021-02-03T00:00:00\"}]}}, {\"mode\": \"vega-lite\"});\n",
       "</script>"
      ],
      "text/plain": [
       "alt.Chart(...)"
      ]
     },
     "execution_count": 2,
     "metadata": {},
     "output_type": "execute_result"
    }
   ],
   "source": [
    "cm.chart_me(df, ['floaties', 'floaties_key'])[0]"
   ]
  },
  {
   "cell_type": "code",
   "execution_count": 3,
   "id": "e4a75581",
   "metadata": {},
   "outputs": [
    {
     "data": {
      "text/html": [
       "\n",
       "<div id=\"altair-viz-3eecfc8816574207bbf4a22e71a0b7e9\"></div>\n",
       "<script type=\"text/javascript\">\n",
       "  var VEGA_DEBUG = (typeof VEGA_DEBUG == \"undefined\") ? {} : VEGA_DEBUG;\n",
       "  (function(spec, embedOpt){\n",
       "    let outputDiv = document.currentScript.previousElementSibling;\n",
       "    if (outputDiv.id !== \"altair-viz-3eecfc8816574207bbf4a22e71a0b7e9\") {\n",
       "      outputDiv = document.getElementById(\"altair-viz-3eecfc8816574207bbf4a22e71a0b7e9\");\n",
       "    }\n",
       "    const paths = {\n",
       "      \"vega\": \"https://cdn.jsdelivr.net/npm//vega@5?noext\",\n",
       "      \"vega-lib\": \"https://cdn.jsdelivr.net/npm//vega-lib?noext\",\n",
       "      \"vega-lite\": \"https://cdn.jsdelivr.net/npm//vega-lite@4.17.0?noext\",\n",
       "      \"vega-embed\": \"https://cdn.jsdelivr.net/npm//vega-embed@6?noext\",\n",
       "    };\n",
       "\n",
       "    function maybeLoadScript(lib, version) {\n",
       "      var key = `${lib.replace(\"-\", \"\")}_version`;\n",
       "      return (VEGA_DEBUG[key] == version) ?\n",
       "        Promise.resolve(paths[lib]) :\n",
       "        new Promise(function(resolve, reject) {\n",
       "          var s = document.createElement('script');\n",
       "          document.getElementsByTagName(\"head\")[0].appendChild(s);\n",
       "          s.async = true;\n",
       "          s.onload = () => {\n",
       "            VEGA_DEBUG[key] = version;\n",
       "            return resolve(paths[lib]);\n",
       "          };\n",
       "          s.onerror = () => reject(`Error loading script: ${paths[lib]}`);\n",
       "          s.src = paths[lib];\n",
       "        });\n",
       "    }\n",
       "\n",
       "    function showError(err) {\n",
       "      outputDiv.innerHTML = `<div class=\"error\" style=\"color:red;\">${err}</div>`;\n",
       "      throw err;\n",
       "    }\n",
       "\n",
       "    function displayChart(vegaEmbed) {\n",
       "      vegaEmbed(outputDiv, spec, embedOpt)\n",
       "        .catch(err => showError(`Javascript Error: ${err.message}<br>This usually means there's a typo in your chart specification. See the javascript console for the full traceback.`));\n",
       "    }\n",
       "\n",
       "    if(typeof define === \"function\" && define.amd) {\n",
       "      requirejs.config({paths});\n",
       "      require([\"vega-embed\"], displayChart, err => showError(`Error loading script: ${err.message}`));\n",
       "    } else {\n",
       "      maybeLoadScript(\"vega\", \"5\")\n",
       "        .then(() => maybeLoadScript(\"vega-lite\", \"4.17.0\"))\n",
       "        .then(() => maybeLoadScript(\"vega-embed\", \"6\"))\n",
       "        .catch(showError)\n",
       "        .then(() => displayChart(vegaEmbed));\n",
       "    }\n",
       "  })({\"config\": {\"view\": {\"continuousWidth\": 400, \"continuousHeight\": 300}}, \"data\": {\"name\": \"data-fa20291374706544121acc5b7bba118a\"}, \"mark\": \"point\", \"encoding\": {\"x\": {\"field\": \"floaties\", \"type\": \"quantitative\"}, \"y\": {\"field\": \"floaties2\", \"type\": \"quantitative\"}}, \"$schema\": \"https://vega.github.io/schema/vega-lite/v4.17.0.json\", \"datasets\": {\"data-fa20291374706544121acc5b7bba118a\": [{\"integers\": 1, \"floaties\": 0.4891882125032282, \"floaties2\": 0.6656146868616736, \"floaties_key\": 0, \"integer_bools\": false, \"stringer\": \"rabbit\", \"datie_dates\": \"2020-01-01T00:00:00\"}, {\"integers\": 2, \"floaties\": 0.35599461248571074, \"floaties2\": 0.6707318247524434, \"floaties_key\": 1, \"integer_bools\": true, \"stringer\": \"leopard\", \"datie_dates\": \"2021-02-03T00:00:00\"}, {\"integers\": 3, \"floaties\": 0.21831815014569034, \"floaties2\": 0.9720139189925208, \"floaties_key\": 2, \"integer_bools\": false, \"stringer\": \"rabbit\", \"datie_dates\": \"2021-02-03T00:00:00\"}, {\"integers\": 1, \"floaties\": 0.4404654743969886, \"floaties2\": 0.2025105944804475, \"floaties_key\": 3, \"integer_bools\": false, \"stringer\": \"rabbit\", \"datie_dates\": \"2020-01-01T00:00:00\"}, {\"integers\": 2, \"floaties\": 0.21055683569345196, \"floaties2\": 0.16187542902655616, \"floaties_key\": 4, \"integer_bools\": true, \"stringer\": \"leopard\", \"datie_dates\": \"2021-02-03T00:00:00\"}, {\"integers\": 3, \"floaties\": 0.013131439465544625, \"floaties2\": 0.1062820294060619, \"floaties_key\": 5, \"integer_bools\": false, \"stringer\": \"rabbit\", \"datie_dates\": \"2021-02-03T00:00:00\"}, {\"integers\": 1, \"floaties\": 0.6438888396774389, \"floaties2\": 0.016408742299833023, \"floaties_key\": 6, \"integer_bools\": true, \"stringer\": \"rabbit\", \"datie_dates\": \"2020-01-01T00:00:00\"}, {\"integers\": 2, \"floaties\": 0.67785924389864, \"floaties2\": 0.27373848141545487, \"floaties_key\": 7, \"integer_bools\": true, \"stringer\": \"leopard\", \"datie_dates\": \"2021-02-03T00:00:00\"}, {\"integers\": 3, \"floaties\": 0.5860138022568014, \"floaties2\": 0.7870680424769853, \"floaties_key\": 8, \"integer_bools\": true, \"stringer\": \"rabbit\", \"datie_dates\": \"2021-02-03T00:00:00\"}]}}, {\"mode\": \"vega-lite\"});\n",
       "</script>"
      ],
      "text/plain": [
       "alt.Chart(...)"
      ]
     },
     "execution_count": 3,
     "metadata": {},
     "output_type": "execute_result"
    }
   ],
   "source": [
    "cm.chart_me(df, ['floaties', 'floaties2'])[0]"
   ]
  },
  {
   "cell_type": "code",
   "execution_count": 5,
   "id": "f42bbcdc",
   "metadata": {},
   "outputs": [
    {
     "name": "stdout",
     "output_type": "stream",
     "text": [
      "  datie_dates_ym_temp  datie_dates_ym_temp_count\n",
      "0             2020-01                          3\n",
      "1             2021-02                          6\n",
      "Index(['datie_dates_ym_temp', 'datie_dates_ym_temp_count'], dtype='object')\n",
      "datie_dates_ym_temp-datie_dates_ym_temp_count\n"
     ]
    },
    {
     "data": {
      "text/html": [
       "\n",
       "<div id=\"altair-viz-e90003e0e60d400891ceb511e05c7f92\"></div>\n",
       "<script type=\"text/javascript\">\n",
       "  var VEGA_DEBUG = (typeof VEGA_DEBUG == \"undefined\") ? {} : VEGA_DEBUG;\n",
       "  (function(spec, embedOpt){\n",
       "    let outputDiv = document.currentScript.previousElementSibling;\n",
       "    if (outputDiv.id !== \"altair-viz-e90003e0e60d400891ceb511e05c7f92\") {\n",
       "      outputDiv = document.getElementById(\"altair-viz-e90003e0e60d400891ceb511e05c7f92\");\n",
       "    }\n",
       "    const paths = {\n",
       "      \"vega\": \"https://cdn.jsdelivr.net/npm//vega@5?noext\",\n",
       "      \"vega-lib\": \"https://cdn.jsdelivr.net/npm//vega-lib?noext\",\n",
       "      \"vega-lite\": \"https://cdn.jsdelivr.net/npm//vega-lite@4.17.0?noext\",\n",
       "      \"vega-embed\": \"https://cdn.jsdelivr.net/npm//vega-embed@6?noext\",\n",
       "    };\n",
       "\n",
       "    function maybeLoadScript(lib, version) {\n",
       "      var key = `${lib.replace(\"-\", \"\")}_version`;\n",
       "      return (VEGA_DEBUG[key] == version) ?\n",
       "        Promise.resolve(paths[lib]) :\n",
       "        new Promise(function(resolve, reject) {\n",
       "          var s = document.createElement('script');\n",
       "          document.getElementsByTagName(\"head\")[0].appendChild(s);\n",
       "          s.async = true;\n",
       "          s.onload = () => {\n",
       "            VEGA_DEBUG[key] = version;\n",
       "            return resolve(paths[lib]);\n",
       "          };\n",
       "          s.onerror = () => reject(`Error loading script: ${paths[lib]}`);\n",
       "          s.src = paths[lib];\n",
       "        });\n",
       "    }\n",
       "\n",
       "    function showError(err) {\n",
       "      outputDiv.innerHTML = `<div class=\"error\" style=\"color:red;\">${err}</div>`;\n",
       "      throw err;\n",
       "    }\n",
       "\n",
       "    function displayChart(vegaEmbed) {\n",
       "      vegaEmbed(outputDiv, spec, embedOpt)\n",
       "        .catch(err => showError(`Javascript Error: ${err.message}<br>This usually means there's a typo in your chart specification. See the javascript console for the full traceback.`));\n",
       "    }\n",
       "\n",
       "    if(typeof define === \"function\" && define.amd) {\n",
       "      requirejs.config({paths});\n",
       "      require([\"vega-embed\"], displayChart, err => showError(`Error loading script: ${err.message}`));\n",
       "    } else {\n",
       "      maybeLoadScript(\"vega\", \"5\")\n",
       "        .then(() => maybeLoadScript(\"vega-lite\", \"4.17.0\"))\n",
       "        .then(() => maybeLoadScript(\"vega-embed\", \"6\"))\n",
       "        .catch(showError)\n",
       "        .then(() => displayChart(vegaEmbed));\n",
       "    }\n",
       "  })({\"config\": {\"view\": {\"continuousWidth\": 400, \"continuousHeight\": 300}}, \"data\": {\"name\": \"data-0c5ef37ad6a4dec83e0875f7e9f90730\"}, \"mark\": \"bar\", \"encoding\": {\"x\": {\"field\": \"datie_dates_ym_temp\", \"type\": \"ordinal\"}, \"y\": {\"field\": \"datie_dates_ym_temp_count\", \"type\": \"quantitative\"}}, \"$schema\": \"https://vega.github.io/schema/vega-lite/v4.17.0.json\", \"datasets\": {\"data-0c5ef37ad6a4dec83e0875f7e9f90730\": [{\"datie_dates_ym_temp\": \"2020-01\", \"datie_dates_ym_temp_count\": 3}, {\"datie_dates_ym_temp\": \"2021-02\", \"datie_dates_ym_temp_count\": 6}]}}, {\"mode\": \"vega-lite\"});\n",
       "</script>"
      ],
      "text/plain": [
       "alt.Chart(...)"
      ]
     },
     "execution_count": 5,
     "metadata": {},
     "output_type": "execute_result"
    }
   ],
   "source": [
    "cm.chart_me(df, ['datie_dates'])[0]"
   ]
  },
  {
   "cell_type": "code",
   "execution_count": 6,
   "id": "640a2fac",
   "metadata": {},
   "outputs": [
    {
     "data": {
      "text/html": [
       "<div>\n",
       "<style scoped>\n",
       "    .dataframe tbody tr th:only-of-type {\n",
       "        vertical-align: middle;\n",
       "    }\n",
       "\n",
       "    .dataframe tbody tr th {\n",
       "        vertical-align: top;\n",
       "    }\n",
       "\n",
       "    .dataframe thead th {\n",
       "        text-align: right;\n",
       "    }\n",
       "</style>\n",
       "<table border=\"1\" class=\"dataframe\">\n",
       "  <thead>\n",
       "    <tr style=\"text-align: right;\">\n",
       "      <th></th>\n",
       "      <th>integers</th>\n",
       "      <th>floaties</th>\n",
       "      <th>floaties_key</th>\n",
       "      <th>integer_bools</th>\n",
       "      <th>stringer</th>\n",
       "      <th>datie_dates</th>\n",
       "    </tr>\n",
       "  </thead>\n",
       "  <tbody>\n",
       "    <tr>\n",
       "      <th>0</th>\n",
       "      <td>1</td>\n",
       "      <td>0.907579</td>\n",
       "      <td>0</td>\n",
       "      <td>False</td>\n",
       "      <td>rabbit</td>\n",
       "      <td>2020-01-01</td>\n",
       "    </tr>\n",
       "  </tbody>\n",
       "</table>\n",
       "</div>"
      ],
      "text/plain": [
       "   integers  floaties  floaties_key  integer_bools stringer datie_dates\n",
       "0         1  0.907579             0          False   rabbit  2020-01-01"
      ]
     },
     "execution_count": 6,
     "metadata": {},
     "output_type": "execute_result"
    }
   ],
   "source": [
    "df.head(n=1)"
   ]
  },
  {
   "cell_type": "code",
   "execution_count": 7,
   "id": "bf883386",
   "metadata": {},
   "outputs": [
    {
     "name": "stdout",
     "output_type": "stream",
     "text": [
      "in here\n"
     ]
    },
    {
     "data": {
      "text/html": [
       "\n",
       "<div id=\"altair-viz-8251b9dc07bc460984a4be947140c678\"></div>\n",
       "<script type=\"text/javascript\">\n",
       "  var VEGA_DEBUG = (typeof VEGA_DEBUG == \"undefined\") ? {} : VEGA_DEBUG;\n",
       "  (function(spec, embedOpt){\n",
       "    let outputDiv = document.currentScript.previousElementSibling;\n",
       "    if (outputDiv.id !== \"altair-viz-8251b9dc07bc460984a4be947140c678\") {\n",
       "      outputDiv = document.getElementById(\"altair-viz-8251b9dc07bc460984a4be947140c678\");\n",
       "    }\n",
       "    const paths = {\n",
       "      \"vega\": \"https://cdn.jsdelivr.net/npm//vega@5?noext\",\n",
       "      \"vega-lib\": \"https://cdn.jsdelivr.net/npm//vega-lib?noext\",\n",
       "      \"vega-lite\": \"https://cdn.jsdelivr.net/npm//vega-lite@4.17.0?noext\",\n",
       "      \"vega-embed\": \"https://cdn.jsdelivr.net/npm//vega-embed@6?noext\",\n",
       "    };\n",
       "\n",
       "    function maybeLoadScript(lib, version) {\n",
       "      var key = `${lib.replace(\"-\", \"\")}_version`;\n",
       "      return (VEGA_DEBUG[key] == version) ?\n",
       "        Promise.resolve(paths[lib]) :\n",
       "        new Promise(function(resolve, reject) {\n",
       "          var s = document.createElement('script');\n",
       "          document.getElementsByTagName(\"head\")[0].appendChild(s);\n",
       "          s.async = true;\n",
       "          s.onload = () => {\n",
       "            VEGA_DEBUG[key] = version;\n",
       "            return resolve(paths[lib]);\n",
       "          };\n",
       "          s.onerror = () => reject(`Error loading script: ${paths[lib]}`);\n",
       "          s.src = paths[lib];\n",
       "        });\n",
       "    }\n",
       "\n",
       "    function showError(err) {\n",
       "      outputDiv.innerHTML = `<div class=\"error\" style=\"color:red;\">${err}</div>`;\n",
       "      throw err;\n",
       "    }\n",
       "\n",
       "    function displayChart(vegaEmbed) {\n",
       "      vegaEmbed(outputDiv, spec, embedOpt)\n",
       "        .catch(err => showError(`Javascript Error: ${err.message}<br>This usually means there's a typo in your chart specification. See the javascript console for the full traceback.`));\n",
       "    }\n",
       "\n",
       "    if(typeof define === \"function\" && define.amd) {\n",
       "      requirejs.config({paths});\n",
       "      require([\"vega-embed\"], displayChart, err => showError(`Error loading script: ${err.message}`));\n",
       "    } else {\n",
       "      maybeLoadScript(\"vega\", \"5\")\n",
       "        .then(() => maybeLoadScript(\"vega-lite\", \"4.17.0\"))\n",
       "        .then(() => maybeLoadScript(\"vega-embed\", \"6\"))\n",
       "        .catch(showError)\n",
       "        .then(() => displayChart(vegaEmbed));\n",
       "    }\n",
       "  })({\"config\": {\"view\": {\"continuousWidth\": 400, \"continuousHeight\": 300}}, \"data\": {\"name\": \"data-d9eacf1da0ebb153646ee8e9f437f22c\"}, \"mark\": \"bar\", \"encoding\": {\"x\": {\"field\": \"stringer_count\", \"type\": \"quantitative\"}, \"y\": {\"field\": \"stringer\", \"type\": \"ordinal\"}}, \"$schema\": \"https://vega.github.io/schema/vega-lite/v4.17.0.json\", \"datasets\": {\"data-d9eacf1da0ebb153646ee8e9f437f22c\": [{\"stringer\": \"rabbit\", \"stringer_count\": 6}, {\"stringer\": \"leopard\", \"stringer_count\": 3}]}}, {\"mode\": \"vega-lite\"});\n",
       "</script>"
      ],
      "text/plain": [
       "alt.Chart(...)"
      ]
     },
     "execution_count": 7,
     "metadata": {},
     "output_type": "execute_result"
    }
   ],
   "source": [
    "cm.chart_me(df, ['stringer'])[0]"
   ]
  },
  {
   "cell_type": "code",
   "execution_count": 8,
   "id": "ee6087c7",
   "metadata": {},
   "outputs": [
    {
     "name": "stdout",
     "output_type": "stream",
     "text": [
      "in here\n"
     ]
    },
    {
     "data": {
      "text/html": [
       "\n",
       "<div id=\"altair-viz-00b049da7df64964a087e04f462e108a\"></div>\n",
       "<script type=\"text/javascript\">\n",
       "  var VEGA_DEBUG = (typeof VEGA_DEBUG == \"undefined\") ? {} : VEGA_DEBUG;\n",
       "  (function(spec, embedOpt){\n",
       "    let outputDiv = document.currentScript.previousElementSibling;\n",
       "    if (outputDiv.id !== \"altair-viz-00b049da7df64964a087e04f462e108a\") {\n",
       "      outputDiv = document.getElementById(\"altair-viz-00b049da7df64964a087e04f462e108a\");\n",
       "    }\n",
       "    const paths = {\n",
       "      \"vega\": \"https://cdn.jsdelivr.net/npm//vega@5?noext\",\n",
       "      \"vega-lib\": \"https://cdn.jsdelivr.net/npm//vega-lib?noext\",\n",
       "      \"vega-lite\": \"https://cdn.jsdelivr.net/npm//vega-lite@4.17.0?noext\",\n",
       "      \"vega-embed\": \"https://cdn.jsdelivr.net/npm//vega-embed@6?noext\",\n",
       "    };\n",
       "\n",
       "    function maybeLoadScript(lib, version) {\n",
       "      var key = `${lib.replace(\"-\", \"\")}_version`;\n",
       "      return (VEGA_DEBUG[key] == version) ?\n",
       "        Promise.resolve(paths[lib]) :\n",
       "        new Promise(function(resolve, reject) {\n",
       "          var s = document.createElement('script');\n",
       "          document.getElementsByTagName(\"head\")[0].appendChild(s);\n",
       "          s.async = true;\n",
       "          s.onload = () => {\n",
       "            VEGA_DEBUG[key] = version;\n",
       "            return resolve(paths[lib]);\n",
       "          };\n",
       "          s.onerror = () => reject(`Error loading script: ${paths[lib]}`);\n",
       "          s.src = paths[lib];\n",
       "        });\n",
       "    }\n",
       "\n",
       "    function showError(err) {\n",
       "      outputDiv.innerHTML = `<div class=\"error\" style=\"color:red;\">${err}</div>`;\n",
       "      throw err;\n",
       "    }\n",
       "\n",
       "    function displayChart(vegaEmbed) {\n",
       "      vegaEmbed(outputDiv, spec, embedOpt)\n",
       "        .catch(err => showError(`Javascript Error: ${err.message}<br>This usually means there's a typo in your chart specification. See the javascript console for the full traceback.`));\n",
       "    }\n",
       "\n",
       "    if(typeof define === \"function\" && define.amd) {\n",
       "      requirejs.config({paths});\n",
       "      require([\"vega-embed\"], displayChart, err => showError(`Error loading script: ${err.message}`));\n",
       "    } else {\n",
       "      maybeLoadScript(\"vega\", \"5\")\n",
       "        .then(() => maybeLoadScript(\"vega-lite\", \"4.17.0\"))\n",
       "        .then(() => maybeLoadScript(\"vega-embed\", \"6\"))\n",
       "        .catch(showError)\n",
       "        .then(() => displayChart(vegaEmbed));\n",
       "    }\n",
       "  })({\"config\": {\"view\": {\"continuousWidth\": 400, \"continuousHeight\": 300}}, \"data\": {\"name\": \"data-14a61fdcfa70cacb6424f2e28dd36034\"}, \"mark\": \"bar\", \"encoding\": {\"x\": {\"field\": \"integer_bools_count\", \"type\": \"quantitative\"}, \"y\": {\"field\": \"integer_bools\", \"type\": \"ordinal\"}}, \"$schema\": \"https://vega.github.io/schema/vega-lite/v4.17.0.json\", \"datasets\": {\"data-14a61fdcfa70cacb6424f2e28dd36034\": [{\"integer_bools\": false, \"integer_bools_count\": 5}, {\"integer_bools\": true, \"integer_bools_count\": 4}]}}, {\"mode\": \"vega-lite\"});\n",
       "</script>"
      ],
      "text/plain": [
       "alt.Chart(...)"
      ]
     },
     "execution_count": 8,
     "metadata": {},
     "output_type": "execute_result"
    }
   ],
   "source": [
    "cm.chart_me(df, ['integer_bools'])[0]"
   ]
  },
  {
   "cell_type": "code",
   "execution_count": 9,
   "id": "17a944c9",
   "metadata": {},
   "outputs": [
    {
     "data": {
      "text/html": [
       "\n",
       "<div id=\"altair-viz-2dedaefabdeb48c7a296ee4360ff31cd\"></div>\n",
       "<script type=\"text/javascript\">\n",
       "  var VEGA_DEBUG = (typeof VEGA_DEBUG == \"undefined\") ? {} : VEGA_DEBUG;\n",
       "  (function(spec, embedOpt){\n",
       "    let outputDiv = document.currentScript.previousElementSibling;\n",
       "    if (outputDiv.id !== \"altair-viz-2dedaefabdeb48c7a296ee4360ff31cd\") {\n",
       "      outputDiv = document.getElementById(\"altair-viz-2dedaefabdeb48c7a296ee4360ff31cd\");\n",
       "    }\n",
       "    const paths = {\n",
       "      \"vega\": \"https://cdn.jsdelivr.net/npm//vega@5?noext\",\n",
       "      \"vega-lib\": \"https://cdn.jsdelivr.net/npm//vega-lib?noext\",\n",
       "      \"vega-lite\": \"https://cdn.jsdelivr.net/npm//vega-lite@4.17.0?noext\",\n",
       "      \"vega-embed\": \"https://cdn.jsdelivr.net/npm//vega-embed@6?noext\",\n",
       "    };\n",
       "\n",
       "    function maybeLoadScript(lib, version) {\n",
       "      var key = `${lib.replace(\"-\", \"\")}_version`;\n",
       "      return (VEGA_DEBUG[key] == version) ?\n",
       "        Promise.resolve(paths[lib]) :\n",
       "        new Promise(function(resolve, reject) {\n",
       "          var s = document.createElement('script');\n",
       "          document.getElementsByTagName(\"head\")[0].appendChild(s);\n",
       "          s.async = true;\n",
       "          s.onload = () => {\n",
       "            VEGA_DEBUG[key] = version;\n",
       "            return resolve(paths[lib]);\n",
       "          };\n",
       "          s.onerror = () => reject(`Error loading script: ${paths[lib]}`);\n",
       "          s.src = paths[lib];\n",
       "        });\n",
       "    }\n",
       "\n",
       "    function showError(err) {\n",
       "      outputDiv.innerHTML = `<div class=\"error\" style=\"color:red;\">${err}</div>`;\n",
       "      throw err;\n",
       "    }\n",
       "\n",
       "    function displayChart(vegaEmbed) {\n",
       "      vegaEmbed(outputDiv, spec, embedOpt)\n",
       "        .catch(err => showError(`Javascript Error: ${err.message}<br>This usually means there's a typo in your chart specification. See the javascript console for the full traceback.`));\n",
       "    }\n",
       "\n",
       "    if(typeof define === \"function\" && define.amd) {\n",
       "      requirejs.config({paths});\n",
       "      require([\"vega-embed\"], displayChart, err => showError(`Error loading script: ${err.message}`));\n",
       "    } else {\n",
       "      maybeLoadScript(\"vega\", \"5\")\n",
       "        .then(() => maybeLoadScript(\"vega-lite\", \"4.17.0\"))\n",
       "        .then(() => maybeLoadScript(\"vega-embed\", \"6\"))\n",
       "        .catch(showError)\n",
       "        .then(() => displayChart(vegaEmbed));\n",
       "    }\n",
       "  })({\"config\": {\"view\": {\"continuousWidth\": 400, \"continuousHeight\": 300}}, \"data\": {\"name\": \"data-c7be269df4eb14610f35942740b942f1\"}, \"mark\": \"bar\", \"encoding\": {\"x\": {\"bin\": true, \"field\": \"floaties\", \"type\": \"quantitative\"}, \"y\": {\"aggregate\": \"count\", \"type\": \"quantitative\"}}, \"$schema\": \"https://vega.github.io/schema/vega-lite/v4.17.0.json\", \"datasets\": {\"data-c7be269df4eb14610f35942740b942f1\": [{\"integers\": 1, \"floaties\": 0.9075791961346361, \"floaties_key\": 0, \"integer_bools\": false, \"stringer\": \"rabbit\", \"datie_dates\": \"2020-01-01T00:00:00\"}, {\"integers\": 2, \"floaties\": 0.8094942642056522, \"floaties_key\": 1, \"integer_bools\": false, \"stringer\": \"leopard\", \"datie_dates\": \"2021-02-03T00:00:00\"}, {\"integers\": 3, \"floaties\": 0.8128462509612344, \"floaties_key\": 2, \"integer_bools\": false, \"stringer\": \"rabbit\", \"datie_dates\": \"2021-02-03T00:00:00\"}, {\"integers\": 1, \"floaties\": 0.14610990924275358, \"floaties_key\": 3, \"integer_bools\": false, \"stringer\": \"rabbit\", \"datie_dates\": \"2020-01-01T00:00:00\"}, {\"integers\": 2, \"floaties\": 0.10214510728601423, \"floaties_key\": 4, \"integer_bools\": true, \"stringer\": \"leopard\", \"datie_dates\": \"2021-02-03T00:00:00\"}, {\"integers\": 3, \"floaties\": 0.4788753839803681, \"floaties_key\": 5, \"integer_bools\": true, \"stringer\": \"rabbit\", \"datie_dates\": \"2021-02-03T00:00:00\"}, {\"integers\": 1, \"floaties\": 0.5535234869745908, \"floaties_key\": 6, \"integer_bools\": false, \"stringer\": \"rabbit\", \"datie_dates\": \"2020-01-01T00:00:00\"}, {\"integers\": 2, \"floaties\": 0.4451082704717657, \"floaties_key\": 7, \"integer_bools\": true, \"stringer\": \"leopard\", \"datie_dates\": \"2021-02-03T00:00:00\"}, {\"integers\": 3, \"floaties\": 0.4746608889045505, \"floaties_key\": 8, \"integer_bools\": true, \"stringer\": \"rabbit\", \"datie_dates\": \"2021-02-03T00:00:00\"}]}}, {\"mode\": \"vega-lite\"});\n",
       "</script>"
      ],
      "text/plain": [
       "alt.Chart(...)"
      ]
     },
     "execution_count": 9,
     "metadata": {},
     "output_type": "execute_result"
    }
   ],
   "source": [
    "cm.chart_me(df, ['floaties'])[0]"
   ]
  },
  {
   "cell_type": "code",
   "execution_count": 10,
   "id": "5ae0ab51",
   "metadata": {},
   "outputs": [
    {
     "name": "stdout",
     "output_type": "stream",
     "text": [
      "in here\n"
     ]
    },
    {
     "data": {
      "text/html": [
       "\n",
       "<div id=\"altair-viz-fb8ad9d287fe4f38b3cfd8fa99f1dc65\"></div>\n",
       "<script type=\"text/javascript\">\n",
       "  var VEGA_DEBUG = (typeof VEGA_DEBUG == \"undefined\") ? {} : VEGA_DEBUG;\n",
       "  (function(spec, embedOpt){\n",
       "    let outputDiv = document.currentScript.previousElementSibling;\n",
       "    if (outputDiv.id !== \"altair-viz-fb8ad9d287fe4f38b3cfd8fa99f1dc65\") {\n",
       "      outputDiv = document.getElementById(\"altair-viz-fb8ad9d287fe4f38b3cfd8fa99f1dc65\");\n",
       "    }\n",
       "    const paths = {\n",
       "      \"vega\": \"https://cdn.jsdelivr.net/npm//vega@5?noext\",\n",
       "      \"vega-lib\": \"https://cdn.jsdelivr.net/npm//vega-lib?noext\",\n",
       "      \"vega-lite\": \"https://cdn.jsdelivr.net/npm//vega-lite@4.17.0?noext\",\n",
       "      \"vega-embed\": \"https://cdn.jsdelivr.net/npm//vega-embed@6?noext\",\n",
       "    };\n",
       "\n",
       "    function maybeLoadScript(lib, version) {\n",
       "      var key = `${lib.replace(\"-\", \"\")}_version`;\n",
       "      return (VEGA_DEBUG[key] == version) ?\n",
       "        Promise.resolve(paths[lib]) :\n",
       "        new Promise(function(resolve, reject) {\n",
       "          var s = document.createElement('script');\n",
       "          document.getElementsByTagName(\"head\")[0].appendChild(s);\n",
       "          s.async = true;\n",
       "          s.onload = () => {\n",
       "            VEGA_DEBUG[key] = version;\n",
       "            return resolve(paths[lib]);\n",
       "          };\n",
       "          s.onerror = () => reject(`Error loading script: ${paths[lib]}`);\n",
       "          s.src = paths[lib];\n",
       "        });\n",
       "    }\n",
       "\n",
       "    function showError(err) {\n",
       "      outputDiv.innerHTML = `<div class=\"error\" style=\"color:red;\">${err}</div>`;\n",
       "      throw err;\n",
       "    }\n",
       "\n",
       "    function displayChart(vegaEmbed) {\n",
       "      vegaEmbed(outputDiv, spec, embedOpt)\n",
       "        .catch(err => showError(`Javascript Error: ${err.message}<br>This usually means there's a typo in your chart specification. See the javascript console for the full traceback.`));\n",
       "    }\n",
       "\n",
       "    if(typeof define === \"function\" && define.amd) {\n",
       "      requirejs.config({paths});\n",
       "      require([\"vega-embed\"], displayChart, err => showError(`Error loading script: ${err.message}`));\n",
       "    } else {\n",
       "      maybeLoadScript(\"vega\", \"5\")\n",
       "        .then(() => maybeLoadScript(\"vega-lite\", \"4.17.0\"))\n",
       "        .then(() => maybeLoadScript(\"vega-embed\", \"6\"))\n",
       "        .catch(showError)\n",
       "        .then(() => displayChart(vegaEmbed));\n",
       "    }\n",
       "  })({\"config\": {\"view\": {\"continuousWidth\": 400, \"continuousHeight\": 300}}, \"data\": {\"name\": \"data-0c6cec732ba5542ae18034ecbefb214f\"}, \"mark\": \"bar\", \"encoding\": {\"x\": {\"aggregate\": \"count\", \"type\": \"quantitative\"}, \"y\": {\"field\": \"floaties_key\", \"type\": \"ordinal\"}}, \"$schema\": \"https://vega.github.io/schema/vega-lite/v4.17.0.json\", \"datasets\": {\"data-0c6cec732ba5542ae18034ecbefb214f\": [{\"integers\": 1, \"floaties\": 0.9075791961346361, \"floaties_key\": 0, \"integer_bools\": false, \"stringer\": \"rabbit\", \"datie_dates\": \"2020-01-01T00:00:00\"}, {\"integers\": 2, \"floaties\": 0.8094942642056522, \"floaties_key\": 1, \"integer_bools\": false, \"stringer\": \"leopard\", \"datie_dates\": \"2021-02-03T00:00:00\"}, {\"integers\": 3, \"floaties\": 0.8128462509612344, \"floaties_key\": 2, \"integer_bools\": false, \"stringer\": \"rabbit\", \"datie_dates\": \"2021-02-03T00:00:00\"}, {\"integers\": 1, \"floaties\": 0.14610990924275358, \"floaties_key\": 3, \"integer_bools\": false, \"stringer\": \"rabbit\", \"datie_dates\": \"2020-01-01T00:00:00\"}, {\"integers\": 2, \"floaties\": 0.10214510728601423, \"floaties_key\": 4, \"integer_bools\": true, \"stringer\": \"leopard\", \"datie_dates\": \"2021-02-03T00:00:00\"}]}}, {\"mode\": \"vega-lite\"});\n",
       "</script>"
      ],
      "text/plain": [
       "alt.Chart(...)"
      ]
     },
     "execution_count": 10,
     "metadata": {},
     "output_type": "execute_result"
    }
   ],
   "source": [
    "cm.chart_me(df, ['floaties_key'])[0]"
   ]
  },
  {
   "cell_type": "code",
   "execution_count": 11,
   "id": "dd73f064",
   "metadata": {},
   "outputs": [],
   "source": [
    "import numpy as np"
   ]
  },
  {
   "cell_type": "code",
   "execution_count": 17,
   "id": "a2437cc8",
   "metadata": {},
   "outputs": [],
   "source": [
    "df = pd.DataFrame([['A', 1, 2, 3],\n",
    "                   ['B', 4, 5, 6],\n",
    "                   ['B', 7, 8, 9],\n",
    "                   [np.nan, np.nan, np.nan]],\n",
    "                  columns=['Key', 'A', 'B', 'C'])"
   ]
  },
  {
   "cell_type": "code",
   "execution_count": 20,
   "id": "c7b2633b",
   "metadata": {},
   "outputs": [
    {
     "data": {
      "text/html": [
       "<div>\n",
       "<style scoped>\n",
       "    .dataframe tbody tr th:only-of-type {\n",
       "        vertical-align: middle;\n",
       "    }\n",
       "\n",
       "    .dataframe tbody tr th {\n",
       "        vertical-align: top;\n",
       "    }\n",
       "\n",
       "    .dataframe thead tr th {\n",
       "        text-align: left;\n",
       "    }\n",
       "</style>\n",
       "<table border=\"1\" class=\"dataframe\">\n",
       "  <thead>\n",
       "    <tr>\n",
       "      <th></th>\n",
       "      <th>Key</th>\n",
       "      <th>A</th>\n",
       "      <th>Key</th>\n",
       "    </tr>\n",
       "    <tr>\n",
       "      <th></th>\n",
       "      <th></th>\n",
       "      <th></th>\n",
       "      <th>count</th>\n",
       "    </tr>\n",
       "  </thead>\n",
       "  <tbody>\n",
       "    <tr>\n",
       "      <th>0</th>\n",
       "      <td>A</td>\n",
       "      <td>1.0</td>\n",
       "      <td>1</td>\n",
       "    </tr>\n",
       "    <tr>\n",
       "      <th>1</th>\n",
       "      <td>B</td>\n",
       "      <td>4.0</td>\n",
       "      <td>1</td>\n",
       "    </tr>\n",
       "    <tr>\n",
       "      <th>2</th>\n",
       "      <td>B</td>\n",
       "      <td>7.0</td>\n",
       "      <td>1</td>\n",
       "    </tr>\n",
       "  </tbody>\n",
       "</table>\n",
       "</div>"
      ],
      "text/plain": [
       "  Key    A   Key\n",
       "           count\n",
       "0   A  1.0     1\n",
       "1   B  4.0     1\n",
       "2   B  7.0     1"
      ]
     },
     "execution_count": 20,
     "metadata": {},
     "output_type": "execute_result"
    }
   ],
   "source": [
    "df.groupby(['Key', 'A']).agg({'Key' : ['count']}).reset_index()"
   ]
  },
  {
   "cell_type": "code",
   "execution_count": null,
   "id": "beeb59e5",
   "metadata": {},
   "outputs": [],
   "source": [
    "#Logic on Twitter"
   ]
  },
  {
   "cell_type": "code",
   "execution_count": 22,
   "id": "7e00a4d9",
   "metadata": {},
   "outputs": [
    {
     "data": {
      "text/plain": [
       "['key_1_a', 'key_1_b', 'key_2_a', 'key_2_b']"
      ]
     },
     "execution_count": 22,
     "metadata": {},
     "output_type": "execute_result"
    }
   ],
   "source": [
    "d = {'key_1': ['a', 'b'], 'key_2': ['a','b']}\n",
    "[f\"{k}_{i}\" for k in d.keys() for i in d[k]]"
   ]
  },
  {
   "cell_type": "code",
   "execution_count": 25,
   "id": "49102bbe",
   "metadata": {},
   "outputs": [
    {
     "name": "stdout",
     "output_type": "stream",
     "text": [
      "['a', 'b']\n",
      "['a']\n"
     ]
    }
   ],
   "source": [
    "print(list(['a', 'b']))\n",
    "print(list('a'))"
   ]
  },
  {
   "cell_type": "code",
   "execution_count": 40,
   "id": "dba51093",
   "metadata": {},
   "outputs": [
    {
     "data": {
      "text/plain": [
       "3"
      ]
     },
     "execution_count": 40,
     "metadata": {},
     "output_type": "execute_result"
    }
   ],
   "source": [
    "df['a'].nunique()"
   ]
  },
  {
   "cell_type": "code",
   "execution_count": 13,
   "id": "93de6854",
   "metadata": {},
   "outputs": [
    {
     "data": {
      "text/plain": [
       "21"
      ]
     },
     "execution_count": 13,
     "metadata": {},
     "output_type": "execute_result"
    }
   ],
   "source": [
    "len([None, None, None]*6 + [None, None, 'Not Null'])"
   ]
  },
  {
   "cell_type": "code",
   "execution_count": 36,
   "id": "4d713775",
   "metadata": {},
   "outputs": [
    {
     "data": {
      "text/plain": [
       "False"
      ]
     },
     "execution_count": 36,
     "metadata": {},
     "output_type": "execute_result"
    }
   ],
   "source": [
    "df['cities'].nunique() == df['cities'].shape[0]"
   ]
  },
  {
   "cell_type": "code",
   "execution_count": 14,
   "id": "ab8a8de4",
   "metadata": {},
   "outputs": [],
   "source": [
    "from pandas.api.types import infer_dtype"
   ]
  },
  {
   "cell_type": "code",
   "execution_count": 15,
   "id": "8c44d69d",
   "metadata": {},
   "outputs": [
    {
     "data": {
      "text/plain": [
       "'datetime64'"
      ]
     },
     "execution_count": 15,
     "metadata": {},
     "output_type": "execute_result"
    }
   ],
   "source": [
    "infer_dtype(df['datie_dates'])"
   ]
  },
  {
   "cell_type": "code",
   "execution_count": 19,
   "id": "f83c6689",
   "metadata": {},
   "outputs": [],
   "source": [
    "r = df.apply(infer_dtype).to_dict()"
   ]
  },
  {
   "cell_type": "code",
   "execution_count": 23,
   "id": "c09f2fc5",
   "metadata": {},
   "outputs": [
    {
     "data": {
      "text/plain": [
       "{'a': 'integer',\n",
       " 'Bell__Chart': 'floating',\n",
       " 'decorated-elephant': 'integer',\n",
       " 'animals@#$%^': 'string',\n",
       " 'cities': 'string',\n",
       " 'datie_dates': 'datetime64'}"
      ]
     },
     "execution_count": 23,
     "metadata": {},
     "output_type": "execute_result"
    }
   ],
   "source": [
    "{k:v for k, v in r.items()}"
   ]
  },
  {
   "cell_type": "code",
   "execution_count": null,
   "id": "fe70d5cf",
   "metadata": {},
   "outputs": [],
   "source": []
  },
  {
   "cell_type": "code",
   "execution_count": 33,
   "id": "bf4dd55f",
   "metadata": {},
   "outputs": [
    {
     "ename": "ParserError",
     "evalue": "Unknown string format: xyx-error",
     "output_type": "error",
     "traceback": [
      "\u001b[1;31m---------------------------------------------------------------------------\u001b[0m",
      "\u001b[1;31mTypeError\u001b[0m                                 Traceback (most recent call last)",
      "File \u001b[1;32m~\\Anaconda3\\envs\\env_chart_me\\lib\\site-packages\\pandas\\core\\arrays\\datetimes.py:2211\u001b[0m, in \u001b[0;36mobjects_to_datetime64ns\u001b[1;34m(data, dayfirst, yearfirst, utc, errors, require_iso8601, allow_object, allow_mixed)\u001b[0m\n\u001b[0;32m   <a href='file:///c%3A/Users/lgarzia/Anaconda3/envs/env_chart_me/lib/site-packages/pandas/core/arrays/datetimes.py?line=2209'>2210</a>\u001b[0m \u001b[39mtry\u001b[39;00m:\n\u001b[1;32m-> <a href='file:///c%3A/Users/lgarzia/Anaconda3/envs/env_chart_me/lib/site-packages/pandas/core/arrays/datetimes.py?line=2210'>2211</a>\u001b[0m     values, tz_parsed \u001b[39m=\u001b[39m conversion\u001b[39m.\u001b[39;49mdatetime_to_datetime64(data\u001b[39m.\u001b[39;49mravel(\u001b[39m\"\u001b[39;49m\u001b[39mK\u001b[39;49m\u001b[39m\"\u001b[39;49m))\n\u001b[0;32m   <a href='file:///c%3A/Users/lgarzia/Anaconda3/envs/env_chart_me/lib/site-packages/pandas/core/arrays/datetimes.py?line=2211'>2212</a>\u001b[0m     \u001b[39m# If tzaware, these values represent unix timestamps, so we\u001b[39;00m\n\u001b[0;32m   <a href='file:///c%3A/Users/lgarzia/Anaconda3/envs/env_chart_me/lib/site-packages/pandas/core/arrays/datetimes.py?line=2212'>2213</a>\u001b[0m     \u001b[39m#  return them as i8 to distinguish from wall times\u001b[39;00m\n",
      "File \u001b[1;32m~\\Anaconda3\\envs\\env_chart_me\\lib\\site-packages\\pandas\\_libs\\tslibs\\conversion.pyx:360\u001b[0m, in \u001b[0;36mpandas._libs.tslibs.conversion.datetime_to_datetime64\u001b[1;34m()\u001b[0m\n",
      "\u001b[1;31mTypeError\u001b[0m: Unrecognized value type: <class 'str'>",
      "\nDuring handling of the above exception, another exception occurred:\n",
      "\u001b[1;31mParserError\u001b[0m                               Traceback (most recent call last)",
      "\u001b[1;32mc:\\Users\\lgarzia\\Documents\\GitHub\\chart_me\\examples\\sample_1_univariate.ipynb Cell 14'\u001b[0m in \u001b[0;36m<cell line: 2>\u001b[1;34m()\u001b[0m\n\u001b[0;32m      <a href='vscode-notebook-cell:/c%3A/Users/lgarzia/Documents/GitHub/chart_me/examples/sample_1_univariate.ipynb#ch0000018?line=0'>1</a>\u001b[0m \u001b[39mimport\u001b[39;00m \u001b[39mpandas\u001b[39;00m \u001b[39mas\u001b[39;00m \u001b[39mpd\u001b[39;00m\n\u001b[1;32m----> <a href='vscode-notebook-cell:/c%3A/Users/lgarzia/Documents/GitHub/chart_me/examples/sample_1_univariate.ipynb#ch0000018?line=1'>2</a>\u001b[0m pd\u001b[39m.\u001b[39;49mto_datetime([\u001b[39m'\u001b[39;49m\u001b[39m2021-01-01\u001b[39;49m\u001b[39m'\u001b[39;49m, \u001b[39m'\u001b[39;49m\u001b[39m2022-02-02\u001b[39;49m\u001b[39m'\u001b[39;49m, \u001b[39m'\u001b[39;49m\u001b[39mxyx-error\u001b[39;49m\u001b[39m'\u001b[39;49m])\n",
      "File \u001b[1;32m~\\Anaconda3\\envs\\env_chart_me\\lib\\site-packages\\pandas\\core\\tools\\datetimes.py:1076\u001b[0m, in \u001b[0;36mto_datetime\u001b[1;34m(arg, errors, dayfirst, yearfirst, utc, format, exact, unit, infer_datetime_format, origin, cache)\u001b[0m\n\u001b[0;32m   <a href='file:///c%3A/Users/lgarzia/Anaconda3/envs/env_chart_me/lib/site-packages/pandas/core/tools/datetimes.py?line=1073'>1074</a>\u001b[0m         result \u001b[39m=\u001b[39m _convert_and_box_cache(arg, cache_array)\n\u001b[0;32m   <a href='file:///c%3A/Users/lgarzia/Anaconda3/envs/env_chart_me/lib/site-packages/pandas/core/tools/datetimes.py?line=1074'>1075</a>\u001b[0m     \u001b[39melse\u001b[39;00m:\n\u001b[1;32m-> <a href='file:///c%3A/Users/lgarzia/Anaconda3/envs/env_chart_me/lib/site-packages/pandas/core/tools/datetimes.py?line=1075'>1076</a>\u001b[0m         result \u001b[39m=\u001b[39m convert_listlike(arg, \u001b[39mformat\u001b[39;49m)\n\u001b[0;32m   <a href='file:///c%3A/Users/lgarzia/Anaconda3/envs/env_chart_me/lib/site-packages/pandas/core/tools/datetimes.py?line=1076'>1077</a>\u001b[0m \u001b[39melse\u001b[39;00m:\n\u001b[0;32m   <a href='file:///c%3A/Users/lgarzia/Anaconda3/envs/env_chart_me/lib/site-packages/pandas/core/tools/datetimes.py?line=1077'>1078</a>\u001b[0m     result \u001b[39m=\u001b[39m convert_listlike(np\u001b[39m.\u001b[39marray([arg]), \u001b[39mformat\u001b[39m)[\u001b[39m0\u001b[39m]\n",
      "File \u001b[1;32m~\\Anaconda3\\envs\\env_chart_me\\lib\\site-packages\\pandas\\core\\tools\\datetimes.py:402\u001b[0m, in \u001b[0;36m_convert_listlike_datetimes\u001b[1;34m(arg, format, name, tz, unit, errors, infer_datetime_format, dayfirst, yearfirst, exact)\u001b[0m\n\u001b[0;32m    <a href='file:///c%3A/Users/lgarzia/Anaconda3/envs/env_chart_me/lib/site-packages/pandas/core/tools/datetimes.py?line=399'>400</a>\u001b[0m \u001b[39massert\u001b[39;00m \u001b[39mformat\u001b[39m \u001b[39mis\u001b[39;00m \u001b[39mNone\u001b[39;00m \u001b[39mor\u001b[39;00m infer_datetime_format\n\u001b[0;32m    <a href='file:///c%3A/Users/lgarzia/Anaconda3/envs/env_chart_me/lib/site-packages/pandas/core/tools/datetimes.py?line=400'>401</a>\u001b[0m utc \u001b[39m=\u001b[39m tz \u001b[39m==\u001b[39m \u001b[39m\"\u001b[39m\u001b[39mutc\u001b[39m\u001b[39m\"\u001b[39m\n\u001b[1;32m--> <a href='file:///c%3A/Users/lgarzia/Anaconda3/envs/env_chart_me/lib/site-packages/pandas/core/tools/datetimes.py?line=401'>402</a>\u001b[0m result, tz_parsed \u001b[39m=\u001b[39m objects_to_datetime64ns(\n\u001b[0;32m    <a href='file:///c%3A/Users/lgarzia/Anaconda3/envs/env_chart_me/lib/site-packages/pandas/core/tools/datetimes.py?line=402'>403</a>\u001b[0m     arg,\n\u001b[0;32m    <a href='file:///c%3A/Users/lgarzia/Anaconda3/envs/env_chart_me/lib/site-packages/pandas/core/tools/datetimes.py?line=403'>404</a>\u001b[0m     dayfirst\u001b[39m=\u001b[39;49mdayfirst,\n\u001b[0;32m    <a href='file:///c%3A/Users/lgarzia/Anaconda3/envs/env_chart_me/lib/site-packages/pandas/core/tools/datetimes.py?line=404'>405</a>\u001b[0m     yearfirst\u001b[39m=\u001b[39;49myearfirst,\n\u001b[0;32m    <a href='file:///c%3A/Users/lgarzia/Anaconda3/envs/env_chart_me/lib/site-packages/pandas/core/tools/datetimes.py?line=405'>406</a>\u001b[0m     utc\u001b[39m=\u001b[39;49mutc,\n\u001b[0;32m    <a href='file:///c%3A/Users/lgarzia/Anaconda3/envs/env_chart_me/lib/site-packages/pandas/core/tools/datetimes.py?line=406'>407</a>\u001b[0m     errors\u001b[39m=\u001b[39;49merrors,\n\u001b[0;32m    <a href='file:///c%3A/Users/lgarzia/Anaconda3/envs/env_chart_me/lib/site-packages/pandas/core/tools/datetimes.py?line=407'>408</a>\u001b[0m     require_iso8601\u001b[39m=\u001b[39;49mrequire_iso8601,\n\u001b[0;32m    <a href='file:///c%3A/Users/lgarzia/Anaconda3/envs/env_chart_me/lib/site-packages/pandas/core/tools/datetimes.py?line=408'>409</a>\u001b[0m     allow_object\u001b[39m=\u001b[39;49m\u001b[39mTrue\u001b[39;49;00m,\n\u001b[0;32m    <a href='file:///c%3A/Users/lgarzia/Anaconda3/envs/env_chart_me/lib/site-packages/pandas/core/tools/datetimes.py?line=409'>410</a>\u001b[0m )\n\u001b[0;32m    <a href='file:///c%3A/Users/lgarzia/Anaconda3/envs/env_chart_me/lib/site-packages/pandas/core/tools/datetimes.py?line=411'>412</a>\u001b[0m \u001b[39mif\u001b[39;00m tz_parsed \u001b[39mis\u001b[39;00m \u001b[39mnot\u001b[39;00m \u001b[39mNone\u001b[39;00m:\n\u001b[0;32m    <a href='file:///c%3A/Users/lgarzia/Anaconda3/envs/env_chart_me/lib/site-packages/pandas/core/tools/datetimes.py?line=412'>413</a>\u001b[0m     \u001b[39m# We can take a shortcut since the datetime64 numpy array\u001b[39;00m\n\u001b[0;32m    <a href='file:///c%3A/Users/lgarzia/Anaconda3/envs/env_chart_me/lib/site-packages/pandas/core/tools/datetimes.py?line=413'>414</a>\u001b[0m     \u001b[39m# is in UTC\u001b[39;00m\n\u001b[0;32m    <a href='file:///c%3A/Users/lgarzia/Anaconda3/envs/env_chart_me/lib/site-packages/pandas/core/tools/datetimes.py?line=414'>415</a>\u001b[0m     dta \u001b[39m=\u001b[39m DatetimeArray(result, dtype\u001b[39m=\u001b[39mtz_to_dtype(tz_parsed))\n",
      "File \u001b[1;32m~\\Anaconda3\\envs\\env_chart_me\\lib\\site-packages\\pandas\\core\\arrays\\datetimes.py:2217\u001b[0m, in \u001b[0;36mobjects_to_datetime64ns\u001b[1;34m(data, dayfirst, yearfirst, utc, errors, require_iso8601, allow_object, allow_mixed)\u001b[0m\n\u001b[0;32m   <a href='file:///c%3A/Users/lgarzia/Anaconda3/envs/env_chart_me/lib/site-packages/pandas/core/arrays/datetimes.py?line=2214'>2215</a>\u001b[0m         \u001b[39mreturn\u001b[39;00m values\u001b[39m.\u001b[39mview(\u001b[39m\"\u001b[39m\u001b[39mi8\u001b[39m\u001b[39m\"\u001b[39m), tz_parsed\n\u001b[0;32m   <a href='file:///c%3A/Users/lgarzia/Anaconda3/envs/env_chart_me/lib/site-packages/pandas/core/arrays/datetimes.py?line=2215'>2216</a>\u001b[0m     \u001b[39mexcept\u001b[39;00m (\u001b[39mValueError\u001b[39;00m, \u001b[39mTypeError\u001b[39;00m):\n\u001b[1;32m-> <a href='file:///c%3A/Users/lgarzia/Anaconda3/envs/env_chart_me/lib/site-packages/pandas/core/arrays/datetimes.py?line=2216'>2217</a>\u001b[0m         \u001b[39mraise\u001b[39;00m err\n\u001b[0;32m   <a href='file:///c%3A/Users/lgarzia/Anaconda3/envs/env_chart_me/lib/site-packages/pandas/core/arrays/datetimes.py?line=2218'>2219</a>\u001b[0m \u001b[39mif\u001b[39;00m tz_parsed \u001b[39mis\u001b[39;00m \u001b[39mnot\u001b[39;00m \u001b[39mNone\u001b[39;00m:\n\u001b[0;32m   <a href='file:///c%3A/Users/lgarzia/Anaconda3/envs/env_chart_me/lib/site-packages/pandas/core/arrays/datetimes.py?line=2219'>2220</a>\u001b[0m     \u001b[39m# We can take a shortcut since the datetime64 numpy array\u001b[39;00m\n\u001b[0;32m   <a href='file:///c%3A/Users/lgarzia/Anaconda3/envs/env_chart_me/lib/site-packages/pandas/core/arrays/datetimes.py?line=2220'>2221</a>\u001b[0m     \u001b[39m#  is in UTC\u001b[39;00m\n\u001b[0;32m   <a href='file:///c%3A/Users/lgarzia/Anaconda3/envs/env_chart_me/lib/site-packages/pandas/core/arrays/datetimes.py?line=2221'>2222</a>\u001b[0m     \u001b[39m# Return i8 values to denote unix timestamps\u001b[39;00m\n\u001b[0;32m   <a href='file:///c%3A/Users/lgarzia/Anaconda3/envs/env_chart_me/lib/site-packages/pandas/core/arrays/datetimes.py?line=2222'>2223</a>\u001b[0m     \u001b[39mreturn\u001b[39;00m result\u001b[39m.\u001b[39mview(\u001b[39m\"\u001b[39m\u001b[39mi8\u001b[39m\u001b[39m\"\u001b[39m), tz_parsed\n",
      "File \u001b[1;32m~\\Anaconda3\\envs\\env_chart_me\\lib\\site-packages\\pandas\\core\\arrays\\datetimes.py:2199\u001b[0m, in \u001b[0;36mobjects_to_datetime64ns\u001b[1;34m(data, dayfirst, yearfirst, utc, errors, require_iso8601, allow_object, allow_mixed)\u001b[0m\n\u001b[0;32m   <a href='file:///c%3A/Users/lgarzia/Anaconda3/envs/env_chart_me/lib/site-packages/pandas/core/arrays/datetimes.py?line=2196'>2197</a>\u001b[0m order: Literal[\u001b[39m\"\u001b[39m\u001b[39mF\u001b[39m\u001b[39m\"\u001b[39m, \u001b[39m\"\u001b[39m\u001b[39mC\u001b[39m\u001b[39m\"\u001b[39m] \u001b[39m=\u001b[39m \u001b[39m\"\u001b[39m\u001b[39mF\u001b[39m\u001b[39m\"\u001b[39m \u001b[39mif\u001b[39;00m flags\u001b[39m.\u001b[39mf_contiguous \u001b[39melse\u001b[39;00m \u001b[39m\"\u001b[39m\u001b[39mC\u001b[39m\u001b[39m\"\u001b[39m\n\u001b[0;32m   <a href='file:///c%3A/Users/lgarzia/Anaconda3/envs/env_chart_me/lib/site-packages/pandas/core/arrays/datetimes.py?line=2197'>2198</a>\u001b[0m \u001b[39mtry\u001b[39;00m:\n\u001b[1;32m-> <a href='file:///c%3A/Users/lgarzia/Anaconda3/envs/env_chart_me/lib/site-packages/pandas/core/arrays/datetimes.py?line=2198'>2199</a>\u001b[0m     result, tz_parsed \u001b[39m=\u001b[39m tslib\u001b[39m.\u001b[39;49marray_to_datetime(\n\u001b[0;32m   <a href='file:///c%3A/Users/lgarzia/Anaconda3/envs/env_chart_me/lib/site-packages/pandas/core/arrays/datetimes.py?line=2199'>2200</a>\u001b[0m         data\u001b[39m.\u001b[39;49mravel(\u001b[39m\"\u001b[39;49m\u001b[39mK\u001b[39;49m\u001b[39m\"\u001b[39;49m),\n\u001b[0;32m   <a href='file:///c%3A/Users/lgarzia/Anaconda3/envs/env_chart_me/lib/site-packages/pandas/core/arrays/datetimes.py?line=2200'>2201</a>\u001b[0m         errors\u001b[39m=\u001b[39;49merrors,\n\u001b[0;32m   <a href='file:///c%3A/Users/lgarzia/Anaconda3/envs/env_chart_me/lib/site-packages/pandas/core/arrays/datetimes.py?line=2201'>2202</a>\u001b[0m         utc\u001b[39m=\u001b[39;49mutc,\n\u001b[0;32m   <a href='file:///c%3A/Users/lgarzia/Anaconda3/envs/env_chart_me/lib/site-packages/pandas/core/arrays/datetimes.py?line=2202'>2203</a>\u001b[0m         dayfirst\u001b[39m=\u001b[39;49mdayfirst,\n\u001b[0;32m   <a href='file:///c%3A/Users/lgarzia/Anaconda3/envs/env_chart_me/lib/site-packages/pandas/core/arrays/datetimes.py?line=2203'>2204</a>\u001b[0m         yearfirst\u001b[39m=\u001b[39;49myearfirst,\n\u001b[0;32m   <a href='file:///c%3A/Users/lgarzia/Anaconda3/envs/env_chart_me/lib/site-packages/pandas/core/arrays/datetimes.py?line=2204'>2205</a>\u001b[0m         require_iso8601\u001b[39m=\u001b[39;49mrequire_iso8601,\n\u001b[0;32m   <a href='file:///c%3A/Users/lgarzia/Anaconda3/envs/env_chart_me/lib/site-packages/pandas/core/arrays/datetimes.py?line=2205'>2206</a>\u001b[0m         allow_mixed\u001b[39m=\u001b[39;49mallow_mixed,\n\u001b[0;32m   <a href='file:///c%3A/Users/lgarzia/Anaconda3/envs/env_chart_me/lib/site-packages/pandas/core/arrays/datetimes.py?line=2206'>2207</a>\u001b[0m     )\n\u001b[0;32m   <a href='file:///c%3A/Users/lgarzia/Anaconda3/envs/env_chart_me/lib/site-packages/pandas/core/arrays/datetimes.py?line=2207'>2208</a>\u001b[0m     result \u001b[39m=\u001b[39m result\u001b[39m.\u001b[39mreshape(data\u001b[39m.\u001b[39mshape, order\u001b[39m=\u001b[39morder)\n\u001b[0;32m   <a href='file:///c%3A/Users/lgarzia/Anaconda3/envs/env_chart_me/lib/site-packages/pandas/core/arrays/datetimes.py?line=2208'>2209</a>\u001b[0m \u001b[39mexcept\u001b[39;00m \u001b[39mValueError\u001b[39;00m \u001b[39mas\u001b[39;00m err:\n",
      "File \u001b[1;32m~\\Anaconda3\\envs\\env_chart_me\\lib\\site-packages\\pandas\\_libs\\tslib.pyx:381\u001b[0m, in \u001b[0;36mpandas._libs.tslib.array_to_datetime\u001b[1;34m()\u001b[0m\n",
      "File \u001b[1;32m~\\Anaconda3\\envs\\env_chart_me\\lib\\site-packages\\pandas\\_libs\\tslib.pyx:613\u001b[0m, in \u001b[0;36mpandas._libs.tslib.array_to_datetime\u001b[1;34m()\u001b[0m\n",
      "File \u001b[1;32m~\\Anaconda3\\envs\\env_chart_me\\lib\\site-packages\\pandas\\_libs\\tslib.pyx:751\u001b[0m, in \u001b[0;36mpandas._libs.tslib._array_to_datetime_object\u001b[1;34m()\u001b[0m\n",
      "File \u001b[1;32m~\\Anaconda3\\envs\\env_chart_me\\lib\\site-packages\\pandas\\_libs\\tslib.pyx:742\u001b[0m, in \u001b[0;36mpandas._libs.tslib._array_to_datetime_object\u001b[1;34m()\u001b[0m\n",
      "File \u001b[1;32m~\\Anaconda3\\envs\\env_chart_me\\lib\\site-packages\\pandas\\_libs\\tslibs\\parsing.pyx:281\u001b[0m, in \u001b[0;36mpandas._libs.tslibs.parsing.parse_datetime_string\u001b[1;34m()\u001b[0m\n",
      "File \u001b[1;32m~\\Anaconda3\\envs\\env_chart_me\\lib\\site-packages\\dateutil\\parser\\_parser.py:1368\u001b[0m, in \u001b[0;36mparse\u001b[1;34m(timestr, parserinfo, **kwargs)\u001b[0m\n\u001b[0;32m   <a href='file:///c%3A/Users/lgarzia/Anaconda3/envs/env_chart_me/lib/site-packages/dateutil/parser/_parser.py?line=1365'>1366</a>\u001b[0m     \u001b[39mreturn\u001b[39;00m parser(parserinfo)\u001b[39m.\u001b[39mparse(timestr, \u001b[39m*\u001b[39m\u001b[39m*\u001b[39mkwargs)\n\u001b[0;32m   <a href='file:///c%3A/Users/lgarzia/Anaconda3/envs/env_chart_me/lib/site-packages/dateutil/parser/_parser.py?line=1366'>1367</a>\u001b[0m \u001b[39melse\u001b[39;00m:\n\u001b[1;32m-> <a href='file:///c%3A/Users/lgarzia/Anaconda3/envs/env_chart_me/lib/site-packages/dateutil/parser/_parser.py?line=1367'>1368</a>\u001b[0m     \u001b[39mreturn\u001b[39;00m DEFAULTPARSER\u001b[39m.\u001b[39mparse(timestr, \u001b[39m*\u001b[39m\u001b[39m*\u001b[39mkwargs)\n",
      "File \u001b[1;32m~\\Anaconda3\\envs\\env_chart_me\\lib\\site-packages\\dateutil\\parser\\_parser.py:643\u001b[0m, in \u001b[0;36mparser.parse\u001b[1;34m(self, timestr, default, ignoretz, tzinfos, **kwargs)\u001b[0m\n\u001b[0;32m    <a href='file:///c%3A/Users/lgarzia/Anaconda3/envs/env_chart_me/lib/site-packages/dateutil/parser/_parser.py?line=639'>640</a>\u001b[0m res, skipped_tokens \u001b[39m=\u001b[39m \u001b[39mself\u001b[39m\u001b[39m.\u001b[39m_parse(timestr, \u001b[39m*\u001b[39m\u001b[39m*\u001b[39mkwargs)\n\u001b[0;32m    <a href='file:///c%3A/Users/lgarzia/Anaconda3/envs/env_chart_me/lib/site-packages/dateutil/parser/_parser.py?line=641'>642</a>\u001b[0m \u001b[39mif\u001b[39;00m res \u001b[39mis\u001b[39;00m \u001b[39mNone\u001b[39;00m:\n\u001b[1;32m--> <a href='file:///c%3A/Users/lgarzia/Anaconda3/envs/env_chart_me/lib/site-packages/dateutil/parser/_parser.py?line=642'>643</a>\u001b[0m     \u001b[39mraise\u001b[39;00m ParserError(\u001b[39m\"\u001b[39m\u001b[39mUnknown string format: \u001b[39m\u001b[39m%s\u001b[39;00m\u001b[39m\"\u001b[39m, timestr)\n\u001b[0;32m    <a href='file:///c%3A/Users/lgarzia/Anaconda3/envs/env_chart_me/lib/site-packages/dateutil/parser/_parser.py?line=644'>645</a>\u001b[0m \u001b[39mif\u001b[39;00m \u001b[39mlen\u001b[39m(res) \u001b[39m==\u001b[39m \u001b[39m0\u001b[39m:\n\u001b[0;32m    <a href='file:///c%3A/Users/lgarzia/Anaconda3/envs/env_chart_me/lib/site-packages/dateutil/parser/_parser.py?line=645'>646</a>\u001b[0m     \u001b[39mraise\u001b[39;00m ParserError(\u001b[39m\"\u001b[39m\u001b[39mString does not contain a date: \u001b[39m\u001b[39m%s\u001b[39;00m\u001b[39m\"\u001b[39m, timestr)\n",
      "\u001b[1;31mParserError\u001b[0m: Unknown string format: xyx-error"
     ]
    }
   ],
   "source": [
    "import pandas as pd\n",
    "pd.to_datetime(['2021-01-01', '2022-02-02', 'xyx-error'])"
   ]
  },
  {
   "cell_type": "code",
   "execution_count": 23,
   "id": "08cd6fd7",
   "metadata": {},
   "outputs": [
    {
     "data": {
      "text/plain": [
       "'datetime64[ns]'"
      ]
     },
     "execution_count": 23,
     "metadata": {},
     "output_type": "execute_result"
    }
   ],
   "source": [
    "df['datie_dates'].dtype.name"
   ]
  },
  {
   "cell_type": "code",
   "execution_count": 26,
   "id": "c48f2669",
   "metadata": {},
   "outputs": [
    {
     "data": {
      "text/plain": [
       "Index(['a', 'Bell__Chart', 'decorated-elephant', 'animals@#$%^', 'cities',\n",
       "       'datie_dates'],\n",
       "      dtype='object')"
      ]
     },
     "execution_count": 26,
     "metadata": {},
     "output_type": "execute_result"
    }
   ],
   "source": [
    "df.columns"
   ]
  },
  {
   "cell_type": "code",
   "execution_count": 29,
   "id": "bb0d3806",
   "metadata": {},
   "outputs": [
    {
     "data": {
      "text/plain": [
       "pandas.core.series.Series"
      ]
     },
     "execution_count": 29,
     "metadata": {},
     "output_type": "execute_result"
    }
   ],
   "source": [
    "type(df['Bell__Chart'].dropna())"
   ]
  },
  {
   "cell_type": "code",
   "execution_count": 24,
   "id": "7e4fd49e",
   "metadata": {},
   "outputs": [
    {
     "data": {
      "text/plain": [
       "'floating'"
      ]
     },
     "execution_count": 24,
     "metadata": {},
     "output_type": "execute_result"
    }
   ],
   "source": [
    "infer_dtype([1.0, 2.0, 3.0])"
   ]
  },
  {
   "cell_type": "code",
   "execution_count": 31,
   "id": "910fb36e",
   "metadata": {},
   "outputs": [
    {
     "data": {
      "text/plain": [
       "0    False\n",
       "1    False\n",
       "3    False\n",
       "4    False\n",
       "6    False\n",
       "7    False\n",
       "Name: Bell__Chart, dtype: bool"
      ]
     },
     "execution_count": 31,
     "metadata": {},
     "output_type": "execute_result"
    }
   ],
   "source": [
    "df['Bell__Chart'].dropna().apply(lambda x: x.is_integer())"
   ]
  },
  {
   "cell_type": "code",
   "execution_count": 28,
   "id": "51605402",
   "metadata": {},
   "outputs": [
    {
     "data": {
      "text/plain": [
       "True"
      ]
     },
     "execution_count": 28,
     "metadata": {},
     "output_type": "execute_result"
    }
   ],
   "source": [
    "all([f.is_integer() for f in [1.0, 2.0, 3.0]])"
   ]
  },
  {
   "cell_type": "code",
   "execution_count": null,
   "id": "6f1c4527",
   "metadata": {},
   "outputs": [],
   "source": [
    "pd.to_datetime()"
   ]
  }
 ],
 "metadata": {
  "kernelspec": {
   "display_name": "Python 3",
   "language": "python",
   "name": "python3"
  },
  "language_info": {
   "codemirror_mode": {
    "name": "ipython",
    "version": 3
   },
   "file_extension": ".py",
   "mimetype": "text/x-python",
   "name": "python",
   "nbconvert_exporter": "python",
   "pygments_lexer": "ipython3",
   "version": "3.10.4"
  }
 },
 "nbformat": 4,
 "nbformat_minor": 5
}
